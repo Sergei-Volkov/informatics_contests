{
 "cells": [
  {
   "cell_type": "markdown",
   "metadata": {},
   "source": [
    "## Вам даётся два целых числа, необходимо вывести их сумму и разность.\n"
   ]
  },
  {
   "cell_type": "code",
   "execution_count": 1,
   "metadata": {},
   "outputs": [
    {
     "name": "stdin",
     "output_type": "stream",
     "text": [
      " 1 2\n"
     ]
    },
    {
     "name": "stdout",
     "output_type": "stream",
     "text": [
      "3,-1\n"
     ]
    }
   ],
   "source": [
    "a, b = map(int, input().split())\n",
    "print(a + b, ',', a - b, sep='')"
   ]
  },
  {
   "cell_type": "markdown",
   "metadata": {},
   "source": [
    "## Шахматный ферзь может ходить на любое число клеток по горизонтали, по вертикали или по диагонали. Даны две различные клетки шахматной доски, определите, может ли ферзь попасть с первой клетки на вторую одним ходом. Для простоты можно не рассматривать случай, когда данные клетки совпадают."
   ]
  },
  {
   "cell_type": "code",
   "execution_count": 4,
   "metadata": {},
   "outputs": [
    {
     "name": "stdin",
     "output_type": "stream",
     "text": [
      " 5\n",
      " 5\n",
      " 7\n",
      " 4\n"
     ]
    },
    {
     "name": "stdout",
     "output_type": "stream",
     "text": [
      "NO\n"
     ]
    }
   ],
   "source": [
    "column0 = int(input())\n",
    "row0 = int(input())\n",
    "column = int(input())\n",
    "row = int(input())\n",
    "if row0 == row or column == column0:\n",
    "    print('YES')\n",
    "elif abs(row - row0) == abs(column - column0):\n",
    "    print('YES')\n",
    "else:\n",
    "    print('NO')"
   ]
  },
  {
   "cell_type": "markdown",
   "metadata": {},
   "source": [
    "## На вход подается матрица NxN. Необходимо найти её след.\n",
    "\n",
    "Напоминание - след матрицы определяется как сумма диагональных элементов:\n",
    "\n",
    "tr A = a11 + a22 + a33 + ... + aNN"
   ]
  },
  {
   "cell_type": "code",
   "execution_count": 9,
   "metadata": {},
   "outputs": [
    {
     "name": "stdin",
     "output_type": "stream",
     "text": [
      " 2\n",
      " 12 3\n",
      " 1 32\n"
     ]
    },
    {
     "name": "stdout",
     "output_type": "stream",
     "text": [
      "44\n"
     ]
    }
   ],
   "source": [
    "size = int(input())\n",
    "matrix = [list(map(int, input().split())) for i in range(size)]\n",
    "trace = 0\n",
    "for i in range(size):\n",
    "    trace += matrix[i][i]\n",
    "print(trace)"
   ]
  },
  {
   "cell_type": "markdown",
   "metadata": {},
   "source": [
    "## На вход программа получает последовательность чисел, заканчивающихся символом решётки.\n",
    "\n",
    "Вам требуется найти: - среднее, округлив до трёх знаков с помощью round(x, 3) - максимальное - минимальное - сумму остатков троек из чисел (см. ниже) последовательности.\n",
    "\n",
    "Ввёденные числа образуют тройки. Нужно вывести cумму остатков от деления суммы чисел из тройки на последнее число из тройки.\n",
    "\n",
    "То есть, для входных данных: 1 2 3 4 5 6\n",
    "\n",
    "Первая тройка - 1 2 3, вторая - 4 5 6.\n",
    "\n",
    "И сумма остатков троек на последнее число из тройки:\n",
    "\n",
    "(1 + 2 + 3) mod 3 + (4 + 5 + 6) mod 6 = 6 mod 3 + 15 mod 6 = 0 + 3 = 3"
   ]
  },
  {
   "cell_type": "code",
   "execution_count": 17,
   "metadata": {},
   "outputs": [
    {
     "name": "stdin",
     "output_type": "stream",
     "text": [
      " 1\n",
      " 2\n",
      " 3\n",
      " 4\n",
      " 5\n",
      " 6\n",
      " #\n"
     ]
    },
    {
     "name": "stdout",
     "output_type": "stream",
     "text": [
      "0 0\n",
      "3 1\n",
      "3.5 6 1 3\n"
     ]
    }
   ],
   "source": [
    "sequence = []\n",
    "number = int(input())\n",
    "maximum = number\n",
    "minimum = number\n",
    "sum = 0\n",
    "\n",
    "while number != '#':\n",
    "    sequence.append(number)\n",
    "    number = input()\n",
    "\n",
    "for i in range(len(sequence)):\n",
    "    sequence[i] = int(sequence[i])\n",
    "\n",
    "for num in sequence:\n",
    "    sum += num\n",
    "    if num > maximum:\n",
    "        maximum = num\n",
    "    if num < minimum:\n",
    "        minimum = num\n",
    "\n",
    "thirds_sum = 0\n",
    "for i in range(len(sequence) // 3):\n",
    "    thirds_sum += ((sequence[3*i] + sequence[3*i+1] + sequence[3*i+2]) % sequence[3*i+2])\n",
    "    #print(thirds_sum, i)\n",
    "\n",
    "print(round(sum / len(sequence), 3), maximum, minimum, thirds_sum)"
   ]
  },
  {
   "cell_type": "markdown",
   "metadata": {},
   "source": [
    "## Боб хочет получить сообщение от Алисы так, чтобы Ева их не подслушала. Боб выбирает открытый и закрытый ключи. Сначала он выбирает два случайных простых числа p и q. Открытый ключ Боба — это пара N и е, где N = p*q, a e - взаимно простое с (p-1)(q-1) число. Закрытый ключ Боба — это число d, обратное к e по модулю (p-1)(q-1). Боб знает p и q может и может найти d c помощью расширенного алгоритма Евклида. Используя открытый ключ Боба N и е, Алиса посылает Бобу число y = x^e (mod N). Получив y, Боб вычисляет x = y^d mod N. Еве не удастся вычислить x, поскольку она не знает d. Чтобы вычислить d ей нужно разложить на множители число N, что является вычислительно трудной задачей.\n",
    "\n",
    "Алиса посылают Бобу сообщение, последовательность целых чисел, закодированных с помощью N = 187, e = 3. Помогите Бобу декодировать сообщение от Алисы, если известно, что d = 107."
   ]
  },
  {
   "cell_type": "code",
   "execution_count": 21,
   "metadata": {},
   "outputs": [
    {
     "name": "stdin",
     "output_type": "stream",
     "text": [
      " 75\n"
     ]
    },
    {
     "name": "stdout",
     "output_type": "stream",
     "text": [
      "48\n"
     ]
    }
   ],
   "source": [
    "code = list(map(int, input().split()))\n",
    "decode = [0] * len(code)\n",
    "N = 187\n",
    "e = 3\n",
    "d = 107\n",
    "for i in range(len(code)):\n",
    "    decode[i] = (code[i] ** d) % N\n",
    "print(*decode)"
   ]
  },
  {
   "cell_type": "markdown",
   "metadata": {},
   "source": [
    "## Последовательность состоит из натуральных чисел и завершается числом 0. Всего вводится не более 10000 чисел (не считая завершающего числа 0). Определите, сколько элементов этой последовательности равны ее наименьшему элементу (включая сам наименьший). Числа, следующие за числом 0, считывать не нужно."
   ]
  },
  {
   "cell_type": "code",
   "execution_count": 6,
   "metadata": {},
   "outputs": [
    {
     "name": "stdin",
     "output_type": "stream",
     "text": [
      " 1\n",
      " 3\n",
      " 3\n",
      " 1\n",
      " 0\n"
     ]
    },
    {
     "name": "stdout",
     "output_type": "stream",
     "text": [
      "2\n"
     ]
    }
   ],
   "source": [
    "number = int(input())\n",
    "minimum = number\n",
    "amount = 0\n",
    "\n",
    "sequence = []\n",
    "while number != 0:\n",
    "    sequence.append(number)\n",
    "    number = int(input())\n",
    "\n",
    "for num in sequence:\n",
    "    if num == minimum:\n",
    "        amount += 1\n",
    "    elif num < minimum:\n",
    "        minimum = num\n",
    "        amount = 1\n",
    "print(amount)"
   ]
  },
  {
   "cell_type": "markdown",
   "metadata": {},
   "source": [
    "## В вавилонской системе счисления для записи чисел внутри 60-ричного разряда использовались всего два знака: стоячий клин \"v\" (латинская строчная v) для обозначения единиц и лежачий клин \"<\" (знак строго меньше) для обозначения десятков. Для формирования разряда сначала выписывалось количество десятков, а затем количество единиц. Разряды вавилоняне разделяли пустым пространством, однако мы будем использовать для этого точку \".\". Если какой-то разряд отсутствовал, на его месте ничего не писалось. Требуется перевести записанное в вавилонской системе число в десятичную систему счисления."
   ]
  },
  {
   "cell_type": "code",
   "execution_count": 14,
   "metadata": {},
   "outputs": [
    {
     "name": "stdin",
     "output_type": "stream",
     "text": [
      " v.<<vvv\n"
     ]
    },
    {
     "name": "stdout",
     "output_type": "stream",
     "text": [
      "83\n"
     ]
    }
   ],
   "source": [
    "babylonian = input().split('.')[::-1]\n",
    "decimal = 0\n",
    "for i in range(len(babylonian)):\n",
    "    for digit in babylonian[i]:\n",
    "        if digit == '<':\n",
    "            decimal += 10 * 60**i\n",
    "        if digit == 'v':\n",
    "            decimal += 60**i\n",
    "print(decimal)"
   ]
  },
  {
   "cell_type": "markdown",
   "metadata": {},
   "source": [
    "## Циклическим сдвигом массива влево на M позиций называется операция, при которой индексы всех элементов, смещаются на M позиций влево. Элементы, которые \"выходят\" за пределы массива при сдвиге, помещаются в конец. Сдвиг также должен корретно работать для значений M > N ."
   ]
  },
  {
   "cell_type": "code",
   "execution_count": 1,
   "metadata": {},
   "outputs": [],
   "source": [
    "def cycle_shift_M(arr, N, M):\n",
    "    \"\"\" Циклический сдвиг массива влево.\n",
    "        arr -- исходный массив,\n",
    "        N -- длина этого массива,\n",
    "        M -- величина сдвига.\n",
    "    \"\"\"\n",
    "    for j in range(M):\n",
    "        end = arr[0]\n",
    "        for i in range(1, N):\n",
    "            arr[i-1] = arr[i]\n",
    "        arr[N-1] = end\n",
    "    return arr"
   ]
  },
  {
   "cell_type": "code",
   "execution_count": 3,
   "metadata": {},
   "outputs": [
    {
     "data": {
      "text/plain": [
       "['Misha', 'Samira', 'Ira', 'Serezha', 'Tolya']"
      ]
     },
     "execution_count": 3,
     "metadata": {},
     "output_type": "execute_result"
    }
   ],
   "source": [
    "cycle_shift_M(['Misha', 'Samira', 'Ira', 'Serezha', 'Tolya'], 5, 5)"
   ]
  },
  {
   "cell_type": "markdown",
   "metadata": {},
   "source": [
    "## В этой зачаче необходимо транспонировать матрицу размера NxN. Транспонирование это часто встречающаяся в линейной алгебре операция, при которой столбцы матрицы становятся строками, а строки - столбцами."
   ]
  },
  {
   "cell_type": "code",
   "execution_count": 31,
   "metadata": {},
   "outputs": [
    {
     "name": "stdin",
     "output_type": "stream",
     "text": [
      " 3\n",
      " 1 2 3\n",
      " a b c\n",
      " 4 5 6\n"
     ]
    },
    {
     "name": "stdout",
     "output_type": "stream",
     "text": [
      "1 a 4\n",
      "2 b 5\n",
      "3 c 6\n"
     ]
    }
   ],
   "source": [
    "size = int(input())\n",
    "if size % 2 != 0:\n",
    "    counter = size // 2 + 1\n",
    "else:\n",
    "    counter = size // 2\n",
    "matrix = [input().split() for i in range(size)]\n",
    "\n",
    "def transpose(matr):\n",
    "    res=[]\n",
    "    n=len(matr)\n",
    "    m=len(matr[0])\n",
    "    for j in range(m):\n",
    "        tmp=[]\n",
    "        for i in range(n):\n",
    "            tmp=tmp+[matr[i][j]]\n",
    "        res=res+[tmp]\n",
    "    return res\n",
    "\n",
    "for i in range(size):\n",
    "    print(*transpose(matrix)[i])"
   ]
  },
  {
   "cell_type": "markdown",
   "metadata": {},
   "source": [
    "## Популярная газета объявила конкурс на выбор лучшего фильма, для которого стоит снять продолжение. На выбор читателей было предложено 10 фильмов. Вам предлагается написать эффективную, в том числе и по используемой памяти, программу, которая будет статистически обрабатывать результаты sms-голосования по этому вопросу, чтобы определить популярность того или иного фильма. Следует учитывать, что количество голосов в списке может быть очень велико.\n",
    "\n",
    "Программа должна вывести список всех фильмов, встречающихся в списке, в порядке убывания (невозрастания) количества отданных за них голосов с указанием этого количества голосов. Название каждого фильма должно быть выведено только один раз."
   ]
  },
  {
   "cell_type": "code",
   "execution_count": 36,
   "metadata": {},
   "outputs": [
    {
     "name": "stdin",
     "output_type": "stream",
     "text": [
      " 6\n",
      " Белое солнце пустыни\n",
      " Бриллиантовая рука\n",
      " Белое солнце пустыни\n",
      " Белое солнце пустыни\n",
      " Гараж\n"
     ]
    }
   ],
   "source": [
    "sms_number = int(input())\n",
    "results = {}\n",
    "film = str()\n",
    "for i in range(sms_number):\n",
    "    film = str(input())\n",
    "    if film in results.keys():\n",
    "        number = int(results.get(film))\n",
    "        results.pop(film)\n",
    "        results[film] = number + 1\n",
    "    if film not in results.keys():\n",
    "        results[film] = 1\n",
    "list_results = list(results.items())\n",
    "list_results.sort(key=lambda i:i[1], reverse=True)\n",
    "for film in list_results:\n",
    "    print(film[0], film[1])"
   ]
  }
 ],
 "metadata": {
  "kernelspec": {
   "display_name": "Python 3",
   "language": "python",
   "name": "python3"
  },
  "language_info": {
   "codemirror_mode": {
    "name": "ipython",
    "version": 3
   },
   "file_extension": ".py",
   "mimetype": "text/x-python",
   "name": "python",
   "nbconvert_exporter": "python",
   "pygments_lexer": "ipython3",
   "version": "3.7.5"
  }
 },
 "nbformat": 4,
 "nbformat_minor": 2
}
