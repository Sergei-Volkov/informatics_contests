{
 "cells": [
  {
   "cell_type": "markdown",
   "metadata": {},
   "source": [
    "## По заданной квадратной матрице n×n из нулей и единиц определите, может ли данная матрица быть матрицей смежности простого неориентированного графа."
   ]
  },
  {
   "cell_type": "code",
   "execution_count": 5,
   "metadata": {},
   "outputs": [
    {
     "name": "stdout",
     "output_type": "stream",
     "text": [
      "7\n",
      "0 1 0 0 0 1 1\n",
      "1 0 1 0 0 0 0\n",
      "0 1 0 0 1 1 0\n",
      "0 0 0 0 0 0 0\n",
      "0 0 1 0 0 1 0\n",
      "1 0 1 0 1 0 0\n",
      "1 0 0 0 0 0 0\n",
      "YES\n"
     ]
    }
   ],
   "source": [
    "size = int(input())\n",
    "\n",
    "matrix = [[] for _ in range(size)]\n",
    "for i in range(size):\n",
    "    matrix[i] = list(map(int, input().split()))\n",
    "    \n",
    "flag = True\n",
    "for i in range(size):\n",
    "    for j in range(size):\n",
    "        if i == j and matrix[i][j] != 0:  # на главной диагонали нули\n",
    "            flag = False\n",
    "            break\n",
    "        elif matrix[i][j] != matrix[j][i]:  # симметричная матрица\n",
    "            flag = False\n",
    "            break\n",
    "if flag:\n",
    "    print('YES')\n",
    "else:\n",
    "    print('NO')"
   ]
  },
  {
   "cell_type": "markdown",
   "metadata": {},
   "source": [
    "## Ориентированный взвешенный граф вводится в виде матрицы смежности. Необходимо вывести граф в виде списка его ребер."
   ]
  },
  {
   "cell_type": "code",
   "execution_count": 19,
   "metadata": {},
   "outputs": [
    {
     "name": "stdout",
     "output_type": "stream",
     "text": [
      "2\n",
      "-1 3\n",
      "0 6\n",
      "0 0 -1\n",
      "0 1 3\n",
      "1 1 6\n"
     ]
    }
   ],
   "source": [
    "size = int(input())\n",
    "\n",
    "matrix = [[] for _ in range(size)]\n",
    "for i in range(size):\n",
    "    matrix[i] = list(map(int, input().split()))\n",
    "    \n",
    "for i in range(size):\n",
    "    for j in range(size):\n",
    "        if matrix[i][j] != 0:\n",
    "            print(i, j, matrix[i][j])"
   ]
  },
  {
   "cell_type": "markdown",
   "metadata": {},
   "source": [
    "## Ориентированный граф задан в формате списка рёбер. Проверить, является ли он сильно связным."
   ]
  },
  {
   "cell_type": "code",
   "execution_count": 153,
   "metadata": {
    "scrolled": true
   },
   "outputs": [
    {
     "name": "stdout",
     "output_type": "stream",
     "text": [
      "3\n",
      "3\n",
      "0 1\n",
      "1 2\n",
      "0 2\n",
      "NO\n"
     ]
    }
   ],
   "source": [
    "order = int(input())  # порядок графа (число вершин)\n",
    "size = int(input())  # размер графа (число ребер)\n",
    "\n",
    "graph_normal = {v : set() for v in range(order)}  # граф\n",
    "graph_reversed = {v : set() for v in range(order)}  # инвертированный граф\n",
    "\n",
    "for i in range(size):\n",
    "    v1, v2 = map(int, input().split())\n",
    "    graph_normal[v1].add(v2)\n",
    "    graph_reversed[v2].add(v1)\n",
    "    \n",
    "            \n",
    "def dfs(vertex, graph, used):  # обход в глубину\n",
    "    used.add(vertex)  # добавляем вершину в список посещенных\n",
    "    for neighbour in graph[vertex]:  # проход по соседям\n",
    "        if neighbour not in used:  # если соседняя вершина не посещена,\n",
    "            dfs(neighbour, graph, used)  # то запускаем алгоритм на ней\n",
    "            \n",
    "\n",
    "used = set()\n",
    "used_inv = set()\n",
    "dfs(0, graph_normal, used)  # обход в глубину на нормальном графе\n",
    "dfs(0, graph_reversed, used_inv)  # на инвертированном графе \n",
    "\n",
    "if (used == set(graph_normal.keys())  # если used или used_inv не содержат в себе\n",
    "    and                               # какой-то из вершин, то граф не сильносвязный\n",
    "    used_inv == set(graph_reversed.keys())\n",
    "   ):\n",
    "    print('YES')\n",
    "else:\n",
    "    print('NO')"
   ]
  },
  {
   "cell_type": "markdown",
   "metadata": {},
   "source": [
    "## Алгоритм Косарайю (для себя)"
   ]
  },
  {
   "cell_type": "code",
   "execution_count": 171,
   "metadata": {
    "scrolled": false
   },
   "outputs": [
    {
     "name": "stdout",
     "output_type": "stream",
     "text": [
      "3\n",
      "4\n",
      "0 1\n",
      "1 2\n",
      "2 1\n",
      "2 0\n",
      "YES\n"
     ]
    }
   ],
   "source": [
    "order = int(input())  # порядок графа (число вершин)\n",
    "size = int(input())  # размер графа (число ребер)\n",
    "\n",
    "graph_normal = {v : set() for v in range(order)}\n",
    "graph_reversed = {v : set() for v in range(order)}\n",
    "\n",
    "for i in range(size):\n",
    "    v1, v2 = map(int, input().split())\n",
    "    graph_normal[v1].add(v2)\n",
    "    graph_reversed[v2].add(v1)\n",
    "    \n",
    "\n",
    "def dfs_stack(vertex, graph, used, stack):\n",
    "    used.add(vertex)\n",
    "    stack.append(vertex)\n",
    "    for neighbour in graph[vertex]:\n",
    "        if neighbour not in used:\n",
    "            dfs_stack(neighbour, graph, used, stack)\n",
    "            \n",
    "\n",
    "used = set()\n",
    "used_inv = set()\n",
    "\n",
    "# ?????????????????????????????????????????????????????????\n",
    "\n",
    "stack = []\n",
    "stack_inv = []\n",
    "dfs_stack(0, graph_normal, used, stack)\n",
    "dfs_stack(stack[-1], graph_reversed, used_inv, stack_inv)    \n",
    "\n",
    "if stack == stack_inv[::-1]:\n",
    "    print('YES')\n",
    "else:\n",
    "    print('NO')"
   ]
  },
  {
   "cell_type": "markdown",
   "metadata": {},
   "source": [
    "## Дан ориентированный граф. Вершины пронумерованы от 0. Трeбуется с помощью обхода в глубину проверить является ли граф ацикличным."
   ]
  },
  {
   "cell_type": "code",
   "execution_count": 109,
   "metadata": {
    "scrolled": false
   },
   "outputs": [
    {
     "name": "stdout",
     "output_type": "stream",
     "text": [
      "8 8\n",
      "7 3\n",
      "3 1\n",
      "5 2\n",
      "6 4\n",
      "6 7\n",
      "4 7\n",
      "1 6\n",
      "1 2\n",
      "1 6 4 7 3\n"
     ]
    }
   ],
   "source": [
    "order, size = map(int, input().split())\n",
    "\n",
    "graph = {v : set() for v in range(order)}\n",
    "\n",
    "for _ in range(size):\n",
    "    v1, v2 = map(int, input().split())\n",
    "    graph[v1].add(v2)\n",
    "    \n",
    "    \n",
    "def dfs_stack(vertex, graph, stack, color):\n",
    "    color[vertex] = 1  # красим вершину в серый цвет \n",
    "    for neighbour in graph[vertex]:\n",
    "        if color[neighbour] == 0:  # если вершина белая - добавляем ее предка в массив\n",
    "            stack[neighbour] = vertex\n",
    "            if dfs_stack(neighbour, graph, stack, color):  # если на какой-то итерации вернется True,\n",
    "                return True                                # то вернем True (был найден цикл)\n",
    "        elif color[neighbour] == 1:  # если сосед серый, то мы нашли цикл\n",
    "            loop.append(neighbour)  # start of loop\n",
    "            loop.append(vertex)  # end of loop\n",
    "            return True  # нашли цикл\n",
    "    color[vertex] = 2  # красим вершину в черный цвет \n",
    "    return False  # если не нашли цикл, продолжаем обход\n",
    "\n",
    "\n",
    "stack = [-1] * order  # список предков вершин\n",
    "color = [0] * order  # цвета вершин\n",
    "loop = []  # начало и конец цикла\n",
    "            \n",
    "for vertex in graph:\n",
    "    if dfs_stack(vertex, graph, stack, color):\n",
    "        break  # если нашли цикл, то останавливаем обход\n",
    "\n",
    "cycle = []  # массив элементов цикла\n",
    "if loop:  # если есть цикл\n",
    "    current = loop[1]\n",
    "    while current != loop[0]:  # добавляем в список вершины из списка предков\n",
    "        cycle.append(current)\n",
    "        current = stack[current]\n",
    "    cycle.append(loop[0])\n",
    "    cycle.reverse()\n",
    "    print(*cycle)\n",
    "else:  # если нет цикла\n",
    "    print('YES')"
   ]
  },
  {
   "cell_type": "markdown",
   "metadata": {},
   "source": [
    "## Дан ориентированный граф. Вершины пронумерованы от 0. Требуется с помощью топологической сортировки линейно упорядочить вершины графа в список так, чтобы для любого ребра графа из вершины A в вершину B, вершина A была левее чем B в списке."
   ]
  },
  {
   "cell_type": "code",
   "execution_count": 12,
   "metadata": {},
   "outputs": [
    {
     "name": "stdout",
     "output_type": "stream",
     "text": [
      "4 4\n",
      "0 1\n",
      "1 2\n",
      "2 3\n",
      "3 1\n",
      "NO\n",
      "0 1 2 3\n"
     ]
    }
   ],
   "source": [
    "def is_loop(graph):  # функция для проверки, есть ли цикл в графе\n",
    "                     # если есть, то сортировка невозможна\n",
    "    \n",
    "    def dfs_stack(vertex, graph, stack, color):\n",
    "        color[vertex] = 1\n",
    "        for neighbour in graph[vertex]:\n",
    "            if color[neighbour] == 0:\n",
    "                stack[neighbour] = vertex\n",
    "                if dfs_stack(neighbour, graph, stack, color):\n",
    "                    return True\n",
    "            elif color[neighbour] == 1:\n",
    "                loop.append(neighbour)  # start of loop\n",
    "                loop.append(vertex)  # end of loop\n",
    "                return True\n",
    "        color[vertex] = 2\n",
    "        return False\n",
    "\n",
    "\n",
    "    stack = [-1] * order\n",
    "    color = [0] * order\n",
    "    loop = []\n",
    "\n",
    "    for vertex in graph:\n",
    "        if dfs_stack(vertex, graph, stack, color):\n",
    "            break\n",
    "\n",
    "    cycle = []\n",
    "    if loop:\n",
    "        return True\n",
    "    else:\n",
    "        return False\n",
    "    \n",
    "\n",
    "def dfs_topological(vertex, graph, used, ans):\n",
    "    used.add(vertex)\n",
    "    for neighbour in graph[vertex]:\n",
    "        if neighbour not in used:\n",
    "            dfs_topological(neighbour, graph, used, ans)\n",
    "    ans.append(vertex)  # записываем порядок вершин после сортировки\n",
    "\n",
    "\n",
    "order, size = map(int, input().split())\n",
    "\n",
    "graph = {v : set() for v in range(order)}\n",
    "\n",
    "for _ in range(size):\n",
    "    v1, v2 = map(int, input().split())\n",
    "    graph[v1].add(v2)\n",
    "\n",
    "if is_loop(graph):  # проверка на цикл\n",
    "    print('NO')\n",
    "    exit(0)\n",
    "    \n",
    "used = set()\n",
    "ans = []\n",
    "    \n",
    "for vertex in graph:\n",
    "    if vertex not in used:\n",
    "        dfs_topological(vertex, graph, used, ans)\n",
    "print(*ans[::-1])  # вывод отсортированного списка вершин графа"
   ]
  }
 ],
 "metadata": {
  "kernelspec": {
   "display_name": "Python 3",
   "language": "python",
   "name": "python3"
  },
  "language_info": {
   "codemirror_mode": {
    "name": "ipython",
    "version": 3
   },
   "file_extension": ".py",
   "mimetype": "text/x-python",
   "name": "python",
   "nbconvert_exporter": "python",
   "pygments_lexer": "ipython3",
   "version": "3.8.2"
  }
 },
 "nbformat": 4,
 "nbformat_minor": 4
}
