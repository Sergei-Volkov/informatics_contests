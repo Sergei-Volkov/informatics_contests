{
 "cells": [
  {
   "cell_type": "markdown",
   "metadata": {},
   "source": [
    "## Выяснить, является ли заданное число простым."
   ]
  },
  {
   "cell_type": "code",
   "execution_count": 8,
   "metadata": {},
   "outputs": [
    {
     "name": "stdin",
     "output_type": "stream",
     "text": [
      " 5083\n"
     ]
    },
    {
     "name": "stdout",
     "output_type": "stream",
     "text": [
      "0\n"
     ]
    }
   ],
   "source": [
    "number = int(input())\n",
    "\n",
    "number_sqrt = int(number**0.5)\n",
    "a = 0\n",
    "\n",
    "for i in range(2, number_sqrt+1):\n",
    "    if number % i == 0:\n",
    "        a += 1\n",
    "        \n",
    "if a == 0:\n",
    "    print(1)\n",
    "elif a != 0:\n",
    "    print(0)"
   ]
  },
  {
   "cell_type": "markdown",
   "metadata": {},
   "source": [
    "## Необходимо написать программу, производящую факторизацию числа (разложение на простые множители). Множители должны быть упорядочены по неубыванию. Подаваемое на вход программе число - натуральное и строго большее 1."
   ]
  },
  {
   "cell_type": "code",
   "execution_count": 4,
   "metadata": {},
   "outputs": [
    {
     "name": "stdout",
     "output_type": "stream",
     "text": [
      "253\n",
      "11\n",
      "23\n"
     ]
    }
   ],
   "source": [
    "number = int(input())\n",
    "\n",
    "for i in range(2, int(number**0.5)+1):\n",
    "    while number % i == 0:\n",
    "        number /= i\n",
    "        print(i)\n",
    "        \n",
    "if number != 1:\n",
    "    print(int(number))"
   ]
  },
  {
   "cell_type": "markdown",
   "metadata": {},
   "source": [
    "## Представьте натуральное число n в виде суммы двух кубов неотрицательных целых чисел. Т.е. n = a^3 + b^3, где n - натуральное, a и b - неотрицательные целые. Если такое представление возможно, выпишите найденные числа a и b через пробел в порядке неубывания. Если разложить нельзя, напишите строку \"impossible\"."
   ]
  },
  {
   "cell_type": "code",
   "execution_count": 9,
   "metadata": {},
   "outputs": [
    {
     "name": "stdin",
     "output_type": "stream",
     "text": [
      " 9\n"
     ]
    },
    {
     "name": "stdout",
     "output_type": "stream",
     "text": [
      "1 2\n",
      "Wall time: 58.9 s\n"
     ]
    }
   ],
   "source": [
    "number = int(input())\n",
    "d = 0\n",
    "k = 0\n",
    "s = 0\n",
    "\n",
    "while d**3 <= number / 2:\n",
    "    c = number - d**3\n",
    "    while k**3 <= c:\n",
    "        if k**3 == c:\n",
    "            print(d, k)\n",
    "            s = 1\n",
    "        k += 1\n",
    "    if s == 1:\n",
    "        break\n",
    "    k = 0\n",
    "    d += 1\n",
    "    \n",
    "if s == 0:\n",
    "    print('impossible')"
   ]
  },
  {
   "cell_type": "markdown",
   "metadata": {},
   "source": [
    "## Необходимо написать функцию prime(n), генерирующую n-ое простое число, где n - натуральное. Первым простым числом является 2, вторым - 3, третьим - 5 и так далее."
   ]
  },
  {
   "cell_type": "code",
   "execution_count": 33,
   "metadata": {},
   "outputs": [
    {
     "name": "stdin",
     "output_type": "stream",
     "text": [
      " 100\n"
     ]
    },
    {
     "name": "stdout",
     "output_type": "stream",
     "text": [
      "541\n"
     ]
    }
   ],
   "source": [
    "number = int(input())\n",
    "m = 1\n",
    "i = 0\n",
    "\n",
    "def is_prime(n):\n",
    "    d = 2 \n",
    "    while n % d != 0:\n",
    "        d += 1\n",
    "    return d == n\n",
    "\n",
    "while i != number:\n",
    "    m = m + 1\n",
    "    i = i + is_prime(m)\n",
    "    \n",
    "print(m)"
   ]
  },
  {
   "cell_type": "markdown",
   "metadata": {},
   "source": [
    "## Вам необходимо написать программу, вычисляющую минимальное число, для которого заданы: 1) сумма цифр, 2) количество цифр, 3) цифры должны быть упорядочены по неубыванию."
   ]
  },
  {
   "cell_type": "code",
   "execution_count": 11,
   "metadata": {},
   "outputs": [
    {
     "name": "stdin",
     "output_type": "stream",
     "text": [
      " 5 2\n"
     ]
    },
    {
     "name": "stdout",
     "output_type": "stream",
     "text": [
      "output = 10\n",
      "4 0 1\n",
      "3 0 1\n",
      "2 0 1\n",
      "1 0 1\n",
      "output = 14\n",
      "14\n"
     ]
    }
   ],
   "source": [
    "inp = input().split()\n",
    "number_sum = int(inp[0])\n",
    "number_amount = int(inp[1])\n",
    "k = 1\n",
    "out = 0\n",
    "\n",
    "if number_sum > 9 * number_amount or number_sum < number_amount: # если сумма цифр больше, чем 9 * число цифр, то это фигня\n",
    "    print('impossible')                                          # также если сумма цифр меньше, чем число цифр, то это фигня\n",
    "else:\n",
    "    for i in range(1, number_amount+1):\n",
    "        while(number_sum - k) > (number_amount - i) * 9:\n",
    "            print(number_sum - k, number_amount - i, 10 ** (number_amount - i))\n",
    "            k += 1\n",
    "        if k == 0:\n",
    "            k = 1\n",
    "        out = out + k * (10 ** (number_amount - i))\n",
    "        print('output = {}'.format(out))\n",
    "        number_sum -= k\n",
    "        k = 0\n",
    "    print(out)"
   ]
  },
  {
   "cell_type": "markdown",
   "metadata": {},
   "source": [
    "## Вам необходимо определить количество конечных нулей факториала n!. Например, 5! = 120 - число конечных нулей равно 1; 13! = 6227020800 - число конечных нулей равно 2. Будьте осторожны: запись факториала 1000! уже содержит 2568 цифр..."
   ]
  },
  {
   "cell_type": "code",
   "execution_count": 6,
   "metadata": {},
   "outputs": [
    {
     "name": "stdin",
     "output_type": "stream",
     "text": [
      " 26\n"
     ]
    },
    {
     "name": "stdout",
     "output_type": "stream",
     "text": [
      "5\n"
     ]
    }
   ],
   "source": [
    "number = int(input())\n",
    "\n",
    "fives = 0\n",
    "i = 1\n",
    "\n",
    "while number > 5**i+1:\n",
    "    fives += number // 5**i\n",
    "    i += 1\n",
    "    \n",
    "print(fives)"
   ]
  }
 ],
 "metadata": {
  "kernelspec": {
   "display_name": "Python 3",
   "language": "python",
   "name": "python3"
  },
  "language_info": {
   "codemirror_mode": {
    "name": "ipython",
    "version": 3
   },
   "file_extension": ".py",
   "mimetype": "text/x-python",
   "name": "python",
   "nbconvert_exporter": "python",
   "pygments_lexer": "ipython3",
   "version": "3.7.5"
  }
 },
 "nbformat": 4,
 "nbformat_minor": 2
}
