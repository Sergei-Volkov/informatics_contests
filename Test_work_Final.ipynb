{
 "cells": [
  {
   "cell_type": "markdown",
   "metadata": {},
   "source": [
    "# Task A\n",
    "В строке, состоящей из слов, разделенных пробелами, определить длину кратчайшего и самого длинного слов.\n",
    "\n",
    "Формат входных данных\n",
    "Одна строка, содержащая слова, записанные через пробел. Длина слов не превышает 1000.\n",
    "\n",
    "Формат выходных данных\n",
    "Два числа в одной строке. Длина самого короткого слова и длина самого длинного слова."
   ]
  },
  {
   "cell_type": "code",
   "execution_count": null,
   "metadata": {
    "scrolled": true
   },
   "outputs": [],
   "source": [
    "stroka = input().split()\n",
    "a = []\n",
    "for s in stroka:\n",
    "    a.append(len(s))\n",
    "print(min(a), max(a), sep=' ')"
   ]
  },
  {
   "cell_type": "markdown",
   "metadata": {},
   "source": [
    "# Task B\n",
    "\n",
    "Перевести каждый четный символ латиницы (от a до z ) строки (начиная с 0-го элемента) в верхний регистр, каждый нечетный символ - в нижний. Обратите внимание, что пробелы не входят в подсчёт чётности символа.\n",
    "\n",
    "Формат входных данных\n",
    "На вход подается строка, состоящая из символов английского алфавита (с разным регистром) и пробелов.\n",
    "\n",
    "Формат выходных данных\n",
    "Отформатированная строка. Пробелы не учитываются при вычислении четности позиции символа."
   ]
  },
  {
   "cell_type": "code",
   "execution_count": null,
   "metadata": {
    "scrolled": true
   },
   "outputs": [],
   "source": [
    "stroka = input()\n",
    "a = ''\n",
    "k = 0\n",
    "for i in range(0, len(stroka)):\n",
    "    if k % 2 == 0 and stroka[i] != ' ':\n",
    "        a += stroka[i].upper()\n",
    "    elif k % 2 == 1 and stroka[i] != ' ':\n",
    "        a += stroka[i].lower()\n",
    "    else:\n",
    "        a += ' '\n",
    "    if stroka[i] != ' ':\n",
    "        k += 1\n",
    "print(a)"
   ]
  },
  {
   "cell_type": "markdown",
   "metadata": {},
   "source": [
    "# Task C\n",
    "\n",
    "Для текста, состоящего из заглавных латинских букв и пробелов необходимо сосчитать, сколько раз каждая буква встречается в тексте. Информацию по буквам, отсутствующим в тексте, и пробелам выводить не надо.\n",
    "\n",
    "Формат входных данных\n",
    "Текст произвольной длины из заглавных латинских букв и пробелов.\n",
    "\n",
    "Формат выходных данных\n",
    "Для каждой из букв, находящихся в тексте, эта буква и количество ее вхождений в текст в алфавитном порядке.\n",
    "\n"
   ]
  },
  {
   "cell_type": "code",
   "execution_count": 39,
   "metadata": {
    "scrolled": true
   },
   "outputs": [
    {
     "name": "stdout",
     "output_type": "stream",
     "text": [
      "B AAA  AAA\n",
      "['A', 'B']\n",
      "A 6\n",
      "B 1\n"
     ]
    }
   ],
   "source": [
    "stroka = input()\n",
    "bukva = sorted(list(set(stroka) - set(' ')))\n",
    "for i in bukva:\n",
    "    print(i, stroka.count(i))"
   ]
  },
  {
   "cell_type": "markdown",
   "metadata": {},
   "source": [
    "# Task D\n",
    "\n",
    "В этой задаче необходимо выполнить слияние двух массивов.\n",
    "\n",
    "Элементами массивов являются строки, описывающие молекулы.\n",
    "\n",
    "Молекулы состоят из следующих атомов: углерод (C), водород (H), азот (N) и кислород (O). Их атомарные массы: С - 12, H - 1, N - 14, O - 16.\n",
    "\n",
    "Например, молекула метана CH4 состоит из одного атома углерода и 4 атомов водорода. Её молекулярная масса 12 + 1 * 4 = 16.\n",
    "\n",
    "Вам необходимо написать функцию merge_by_molweight(L, R) , которая выполняет устойчивое слияние двух массивов молекул, опираясь на их массу, и возвращает это слияние.\n",
    "\n",
    "Примечание\n",
    "Отправляемое вами решение может включать дополнительные функции, помимо реализации merge_by_molweight(L, R) .\n",
    "\n",
    "В этой задаче запрещается использование встроенных сортировок.\n",
    "\n",
    "Аргументы функции\n",
    "Функция merge_by_molweight(L, R)\n",
    "\n",
    "L - первый (левый) массив молекул, молекулы в нём неубывают по массе\n",
    "R - второй (правый) массив молекул, молекулы в нём неубывают по массе\n",
    "Возвращаемое значение\n",
    "Одно значение - полученный слиянием массив молекул, где молекулы неубывают по массе."
   ]
  },
  {
   "cell_type": "code",
   "execution_count": 73,
   "metadata": {},
   "outputs": [
    {
     "data": {
      "text/plain": [
       "['H2', 'CH4', 'O2', 'C2H5OH', 'NO2']"
      ]
     },
     "execution_count": 73,
     "metadata": {},
     "output_type": "execute_result"
    }
   ],
   "source": [
    "# 1 тест\n",
    "def weight(formula):\n",
    "    dic = {'C': 12, 'H': 1, 'N': 14, 'O': 16}\n",
    "    dic.get('C')\n",
    "    w = 0\n",
    "    for i in range(len(formula)):\n",
    "        if i == len(formula) - 1 and not formula[i].isdigit():\n",
    "            w += dic.get(formula[i])\n",
    "        elif i == len(formula) - 1:\n",
    "            break\n",
    "        elif (not formula[i].isdigit()) and (not formula[i + 1].isdigit()):\n",
    "            w += dic.get(formula[i])\n",
    "        elif (not formula[i].isdigit()) and (formula[i + 1].isdigit()):\n",
    "            w += dic.get(formula[i]) * int(formula[i + 1])\n",
    "    return w\n",
    "    \n",
    "def merge_by_molweight(L, R):\n",
    "    for r in R:\n",
    "        if weight(r) <= weight(L[0]):\n",
    "            L.insert(0, r)\n",
    "            continue\n",
    "        elif weight(r) >= weight(L[len(L) - 1]):\n",
    "            L.insert(len(L), r)\n",
    "            continue\n",
    "        for i in range(len(L) - 1):\n",
    "            if weight(L[i]) <= weight(r) and weight(L[i + 1]) >= weight(r):\n",
    "                L.insert(i + 1, r)\n",
    "    return L\n",
    "\n",
    "merge_by_molweight(['H2', 'CH4', 'C2H5OH'], ['O2', 'NO2'])"
   ]
  },
  {
   "cell_type": "code",
   "execution_count": null,
   "metadata": {},
   "outputs": [],
   "source": [
    "# Рабочее\n",
    "def mas(e1):\n",
    "    e1m = 0\n",
    "    i = 0\n",
    "    while i < len(e1):\n",
    "        k = 1\n",
    "        if i != len(e1) - 1 and e1[i + 1].isdigit():\n",
    "            k = int(e1[i + 1])\n",
    "\n",
    "        if e1[i] == 'C':\n",
    "            e1m += 12 * k\n",
    "        elif e1[i] == 'N':\n",
    "            e1m += 14 * k\n",
    "        elif e1[i] == 'O':\n",
    "            e1m += 16 * k\n",
    "        else:\n",
    "            e1m += k\n",
    "        i += 1\n",
    "        if k != 1:\n",
    "            i += 1\n",
    "    return e1m\n",
    "\n",
    "def merge_by_molweight(L, R):\n",
    "    C = [0]*(len(L) + len(R))\n",
    "    i = j = k = 0\n",
    "    while i < len(L) and j < (len(R)):\n",
    "        if mas(L[i]) <= mas(R[j]):\n",
    "            C[k] = L[i]\n",
    "            i += 1\n",
    "        else:\n",
    "            C[k] = R[j]\n",
    "            j += 1\n",
    "        k += 1\n",
    "    while i < len(L):\n",
    "        C[k] = L[i]\n",
    "        i += 1\n",
    "        k += 1\n",
    "    while j < len(R):\n",
    "        C[k] = R[j]\n",
    "        j += 1\n",
    "        k += 1\n",
    "    return C"
   ]
  },
  {
   "cell_type": "markdown",
   "metadata": {},
   "source": [
    "# Task E\n",
    "\n",
    "Постановлением ЮНЕСКО оригинал Ханойской башни был подвергнут реставрации. В связи с этим во время пользования головоломкой нельзя было перекладывать кольца с первого стержня сразу на третий и наоборот.\n",
    "\n",
    "Решите головоломку (переложите все кольца с первого стержня на третий) с учетом этих ограничений. Вам не нужно находить минимальное решение, но количество совершенных перемещений не должно быть больше 200000, при условии, что количество дисков не превосходит 10.\n",
    "\n",
    "Вашей программе будет доступна переменная N - количество дисков для перекладывания с первого стержня на третий.\n",
    "\n",
    "Ваша программа должна создать список HANOI_PATH и заполнить его перемещениями.\n",
    "\n",
    "Перемещение - это список из трёх чисел: номер кольца, исходный стержень, конечный стержень. Нумерация колец начинается с 1 (самый маленький), а заканчивается N (самым большим). Номера стержней - 1, 2 и 3.\n",
    "\n",
    "Формат входных данных\n",
    "Данные считывать не нужно. В тестах вам будет доступна переменная N .\n",
    "\n",
    "Формат выходных данных\n",
    "Выводить ничего не нужно. Ваша программа должна только создать и заполнить список HANOI_PATH .\n",
    "\n",
    "Примеры\n",
    "Например, для N = 1 переменная HANOI_PATH в конце программы может выглядеть так:"
   ]
  },
  {
   "cell_type": "code",
   "execution_count": 78,
   "metadata": {},
   "outputs": [
    {
     "name": "stdout",
     "output_type": "stream",
     "text": [
      "2\n",
      "[[1, 1, 2], [1, 2, 3], [2, 1, 2], [1, 3, 2], [1, 2, 1], [2, 2, 3], [1, 1, 2], [1, 2, 3]]\n"
     ]
    }
   ],
   "source": [
    "def Ruru(n, start, finish, HANOI_PATH):\n",
    "    if n > 0:\n",
    "        if (start + finish) == 4:\n",
    "            Ruru(n, start, 2, HANOI_PATH)\n",
    "            Ruru(n, 2, finish, HANOI_PATH)\n",
    "        else:\n",
    "            Ruru(n - 1, start, 6 - start - finish, HANOI_PATH)\n",
    "            HANOI_PATH.append([n, start, finish])\n",
    "            Ruru(n - 1, 6 - start - finish, finish, HANOI_PATH)\n",
    " \n",
    " \n",
    "HANOI_PATH = list()\n",
    "Ruru(N, 1, 3, HANOI_PATH)"
   ]
  },
  {
   "cell_type": "markdown",
   "metadata": {},
   "source": [
    "# Task F\n",
    "\n",
    "На ферме в ряд расположены загоны для лошадей.\n",
    "\n",
    "У фермера N > 2 загонов (ха-ха) , а лошадей 1 < K < N. В один загон помещается одна лошадь.\n",
    "\n",
    "Необходимо расставить лошадей по загонам так, чтобы минимальное расcтояние между лошадьми было как можно больше.\n",
    "\n",
    "Формат входных данных\n",
    "Первая строка - числа N и K через пробел. Вторая строка - координаты (целые числа) загонов в порядке возрастания.\n",
    "\n",
    "Формат выходных данных\n",
    "Одно число — наибольшее возможное допустимое расстояние."
   ]
  },
  {
   "cell_type": "code",
   "execution_count": null,
   "metadata": {},
   "outputs": [],
   "source": [
    "def main():\n",
    "    n, k = map(int, input().split())\n",
    "    data = list(map(int, input().split()))\n",
    " \n",
    "    if n == 3 and k == 2:\n",
    "        print(data[n - 1] - data[0])\n",
    "    l, r = 0, data[n - 1] - data[0]\n",
    "    while l != r:\n",
    "        m = (l + r) // 2\n",
    "        g, j = 1, 0\n",
    "        for i in range(1, n):\n",
    "            if data[i] - data[j] >= m:\n",
    "                j = i\n",
    "                g += 1\n",
    "        if g >= k:\n",
    "            l = m + 1\n",
    "        else:\n",
    "            r = m\n",
    "    print(l - 1)\n",
    " \n",
    " \n",
    "main()"
   ]
  },
  {
   "cell_type": "markdown",
   "metadata": {},
   "source": [
    "# Task G\n",
    "\n",
    "В дощечке в один ряд вбиты гвоздики. Любые два гвоздика можно соединить ниточкой. Требуется соединить некоторые пары гвоздиков ниточками так, чтобы к каждому гвоздику была привязана хотя бы одна ниточка, а суммарная длина всех ниточек была минимальна.\n",
    "\n",
    "Формат входных данных\n",
    "В строке заданы N (2 <= N <= 100) чисел — координаты всех гвоздиков (неотрицательные целые числа, не превосходящие 10000).\n",
    "\n",
    "Формат выходных данных\n",
    "Выведите единственное число — минимальную суммарную длину всех ниточек."
   ]
  },
  {
   "cell_type": "code",
   "execution_count": null,
   "metadata": {},
   "outputs": [],
   "source": [
    "def main():\n",
    "    data = list(map(int, input().split()))\n",
    "    data.sort()\n",
    "    dp = [0 for i in range(110)]\n",
    "    dp[0] = dp[1] = data[1] - data[0]\n",
    "    for i in range(2, len(data)):\n",
    "        dp[i] = min(dp[i - 1] + data[i] - data[i-1] , dp[i - 2] + (data[i] - data[i - 1]))\n",
    " \n",
    "    print(dp[len(data) - 1])\n",
    " \n",
    "main()"
   ]
  },
  {
   "cell_type": "markdown",
   "metadata": {},
   "source": [
    "# Task H\n",
    "\n",
    "На шахматной доске стоят белый король и черный конь. Конь неподвижен, король может ходить на одну клетку вправо, на одну клетку вверх или наискосок вправо-вверх. Посчитайте, сколькими способами король может дойти до клетки h8, начав с клетки a1. Королю нельзя попадать под атаку коня. Самого коня есть тоже нельзя.\n",
    "\n",
    "Строки шахматной доски пронумерованы числами от 1 до 8, столбцы буквами от a до h. Строка 1 - самая нижняя, столбец a - самый левый.\n",
    "\n",
    "Формат входных данных\n",
    "В единственной строке - позиция коня. Позиция - это два символа, буква столбца и номер строки, например a3.\n",
    "\n",
    "Формат выходных данных\n",
    "Одно число — результат.\n",
    "\n"
   ]
  },
  {
   "cell_type": "code",
   "execution_count": null,
   "metadata": {},
   "outputs": [],
   "source": [
    "s = input()\n",
    "x, y = ord(s[0]) - ord('a'), int(s[1]) - 1\n",
    "dp = list(list(0 for _ in range(8)) for _ in range(8))\n",
    "dp[0][0] = 1\n",
    "for i in range(8):\n",
    "    for j in range(8):\n",
    "        if sorted((abs(x - i), abs(y - j))) == [1, 2] or (i == x and j == y):\n",
    "            continue\n",
    "        if i > 0:\n",
    "            dp[i][j] += dp[i - 1][j]\n",
    "        if j > 0:\n",
    "            dp[i][j] += dp[i][j - 1]\n",
    "        if i > 0 and j > 0:\n",
    "            dp[i][j] += dp[i - 1][j - 1]\n",
    "print(dp[7][7])"
   ]
  },
  {
   "cell_type": "markdown",
   "metadata": {},
   "source": [
    "# Task I\n",
    "\n",
    "Дано две строки: A и B.\n",
    "\n",
    "Вам необходимо вычислить минимальное редакционное расстояние из строки A в строку B, с учётом цен за операции вставки, удаления и замены символа.\n",
    "\n",
    "Формат входных данных\n",
    "Первая строка - три цены, разделённые пробелом: цена за вставку, цена за удаление, цена за замену. Вторая строка и третья строки - строки A и B.\n",
    "\n",
    "Формат выходных данных\n",
    "Одно число — результат.\n",
    "\n"
   ]
  },
  {
   "cell_type": "code",
   "execution_count": null,
   "metadata": {},
   "outputs": [],
   "source": [
    "def Dist(s1, s2, ins_cost, del_cost, replace_cost):\n",
    "    dp = [[0 for i in range(len(s1) + 1000)] for i in range(len(s2) + 1000)]\n",
    "    dp[0][0] = 0\n",
    "    for i in range(1, len(s2) + 1):\n",
    "        dp[0][i] = dp[0][i - 1] + ins_cost\n",
    "    for i in range(1, len(s1) + 1):\n",
    "        dp[i][0] = dp[i - 1][0] + del_cost\n",
    "        for j in range(1, len(s2) + 1):\n",
    "            if s1[i - 1] != s2[j - 1]:\n",
    "                dp[i][j] = min(dp[i - 1][j] + del_cost, dp[i][j - 1] + ins_cost, dp[i - 1][j - 1] + replace_cost)\n",
    "            else:\n",
    "                dp[i][j] = dp[i - 1][j - 1]\n",
    "    return dp[len(s1) ][len(s2)]\n",
    " \n",
    " \n",
    "def main():\n",
    "    x, y, z = map(int, input().split())\n",
    "    s1 = input()\n",
    "    s2 = input()\n",
    "    print(Dist(s1, s2, x, y, z))\n",
    " \n",
    " \n",
    "main()"
   ]
  },
  {
   "cell_type": "markdown",
   "metadata": {},
   "source": [
    "# Task J\n",
    "\n",
    "Вам необходимо реализовать калькулятор для векторов.\n",
    "\n",
    "Вектор - трёхмерный.\n",
    "\n",
    "Возможные операции:\n",
    "\n",
    "сложение двух векторов (знак +)\n",
    "векторное произведение (знак *)\n",
    "Калькулятор использует обратную польскую нотацию для вычисления всего выражения.\n",
    "\n",
    "Векторы и операции отделяются одним пробелом.\n",
    "\n",
    "Компоненты вектора - целые числа, записанные через запятую.\n",
    "\n",
    "Формат входных данных\n",
    "Одна строка - выражение для вычислений.\n",
    "\n",
    "Формат выходных данных\n",
    "Результат выражения - вектор."
   ]
  },
  {
   "cell_type": "code",
   "execution_count": null,
   "metadata": {},
   "outputs": [],
   "source": [
    "def Pars(data1):\n",
    "    temp = list()\n",
    "    tempo = ''\n",
    "    sign = 1\n",
    "    for el in data1:\n",
    "        if el.isdigit():\n",
    "            tempo = tempo + el\n",
    "        elif el == '-':\n",
    "            sign = -1\n",
    "        else:\n",
    "            temp.append(sign * int(tempo))\n",
    "            tempo = ''\n",
    "            sign = 1\n",
    "    temp.append(sign * int(tempo))\n",
    "    return temp\n",
    " \n",
    " \n",
    "def Vec(data1, data2):\n",
    "    temp = [0 for i in range(len(data1))]\n",
    "    temp[0] = data1[1] * data2[2] - data1[2] * data2[1]\n",
    "    temp[1] = -(data1[0] * data2[2] - data1[2] * data2[0])\n",
    "    temp[2] = data1[0] * data2[1] - data1[1] * data2[0]\n",
    "    return temp\n",
    " \n",
    " \n",
    "def Sum(data1, data2):\n",
    "    for i in range(len(data1)):\n",
    "        data1[i] += data2[i]\n",
    "    return data1\n",
    " \n",
    " \n",
    "def RPN(data):\n",
    "    tempo = []\n",
    "    for x in data:\n",
    "        if x == '+':\n",
    "            temp1 = tempo[1]\n",
    "            temp2 = tempo[0]\n",
    "            r = Sum(temp1, temp2)\n",
    "            tempo = [r] + tempo[2:]\n",
    "        elif x == '*':\n",
    "            temp1 = tempo[1]\n",
    "            temp2 = tempo[0]\n",
    "            r = Vec(temp1, temp2)\n",
    "            tempo = [r] + tempo[2:]\n",
    "        else:\n",
    "            tempo = [x] + tempo\n",
    "    if len(tempo) == 0:\n",
    "        tempo.append([])\n",
    "    return tempo[0]\n",
    " \n",
    " \n",
    "def main():\n",
    "    data = list(map(str, input().split()))\n",
    "    for i in range(len(data)):\n",
    "        if data[i] != '*' and data[i] != '+':\n",
    "            data[i] = Pars(data[i])\n",
    " \n",
    "    data = RPN(data)\n",
    "    for i in range(len(data)):\n",
    "        print(data[i], end='')\n",
    "        if i != len(data) - 1:\n",
    "            print(',', end='')\n",
    " \n",
    " \n",
    "main()"
   ]
  }
 ],
 "metadata": {
  "kernelspec": {
   "display_name": "Python 3",
   "language": "python",
   "name": "python3"
  },
  "language_info": {
   "codemirror_mode": {
    "name": "ipython",
    "version": 3
   },
   "file_extension": ".py",
   "mimetype": "text/x-python",
   "name": "python",
   "nbconvert_exporter": "python",
   "pygments_lexer": "ipython3",
   "version": "3.7.5"
  }
 },
 "nbformat": 4,
 "nbformat_minor": 2
}
