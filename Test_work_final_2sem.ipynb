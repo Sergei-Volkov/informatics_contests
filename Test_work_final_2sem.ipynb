{
 "cells": [
  {
   "cell_type": "markdown",
   "metadata": {},
   "source": [
    "## Найти самое популярное слово из данных без учёта регистра и найти количество его вхождений."
   ]
  },
  {
   "cell_type": "code",
   "execution_count": 22,
   "metadata": {},
   "outputs": [
    {
     "name": "stdout",
     "output_type": "stream",
     "text": [
      "5\n",
      "AaA\n",
      "aAaA\n",
      "AaAaA\n",
      "aaaAAA\n",
      "aaa\n",
      "aaa 2\n"
     ]
    }
   ],
   "source": [
    "amount = int(input())\n",
    "bag = dict()\n",
    "\n",
    "for i in range(amount):\n",
    "    word = input().lower()\n",
    "    if word in bag.keys():\n",
    "        bag[word] += 1\n",
    "    else:\n",
    "        bag[word] = 1\n",
    "        \n",
    "bag = {k: bag[k] for k in sorted(bag, key=bag.get, reverse=True)}\n",
    "\n",
    "max_value = max(bag.values())  # maximum value\n",
    "max_keys = [k for k, v in bag.items() if v == max_value]\n",
    "\n",
    "print(max_keys[0], max_value)"
   ]
  },
  {
   "cell_type": "markdown",
   "metadata": {},
   "source": [
    "## Вершина ориентированного графа называется истоком, если в неё не входит ни одно ребро Вершина ориентированного графа называется стоком, если из неё не выходит ни одного ребра.\n",
    "\n",
    "Ориентированный граф задан матрицей смежности. Вершины нумеруются с единицы.\n",
    "\n",
    "Найдите все вершины графа, которые являются истоками, и все его вершины, которые являются стоками."
   ]
  },
  {
   "cell_type": "code",
   "execution_count": 26,
   "metadata": {
    "scrolled": true
   },
   "outputs": [
    {
     "name": "stdout",
     "output_type": "stream",
     "text": [
      "5\n",
      "0 0 0 0 0\n",
      "0 0 0 0 1\n",
      "1 1 0 0 0\n",
      "0 0 0 0 0\n",
      "0 0 0 0 0\n",
      "3 4\n",
      "1 4 5\n"
     ]
    }
   ],
   "source": [
    "n = int(input())\n",
    "a = [[int(j) for j in input().split()] for i in range(n)]\n",
    "\n",
    "deg_in = [0] * n\n",
    "deg_out = [0] * n\n",
    "for i in range(n):\n",
    "    for j in range(n):\n",
    "        if a[i][j] == 1:\n",
    "            deg_in[j] += 1\n",
    "            deg_out[i] += 1\n",
    "            \n",
    "print(*[i+1 for i, v in enumerate(deg_in) if v==0])\n",
    "print(*[i+1 for i, v in enumerate(deg_out) if v==0])"
   ]
  },
  {
   "cell_type": "markdown",
   "metadata": {},
   "source": [
    "## В клубе N человек. Многие из них дружат компаниями. Требуется выяснить, сколько всего друзей у конкретного человека в клубе."
   ]
  },
  {
   "cell_type": "code",
   "execution_count": 72,
   "metadata": {},
   "outputs": [
    {
     "name": "stdout",
     "output_type": "stream",
     "text": [
      "\n"
     ]
    },
    {
     "ename": "ValueError",
     "evalue": "not enough values to unpack (expected 2, got 0)",
     "output_type": "error",
     "traceback": [
      "\u001b[1;31m---------------------------------------------------------------------------\u001b[0m",
      "\u001b[1;31mValueError\u001b[0m                                Traceback (most recent call last)",
      "\u001b[1;32m<ipython-input-72-6989b8dc3dc4>\u001b[0m in \u001b[0;36m<module>\u001b[1;34m\u001b[0m\n\u001b[0;32m     10\u001b[0m \u001b[1;33m\u001b[0m\u001b[0m\n\u001b[0;32m     11\u001b[0m \u001b[1;33m\u001b[0m\u001b[0m\n\u001b[1;32m---> 12\u001b[1;33m \u001b[0mamount\u001b[0m\u001b[1;33m,\u001b[0m \u001b[0mperson\u001b[0m \u001b[1;33m=\u001b[0m \u001b[0mmap\u001b[0m\u001b[1;33m(\u001b[0m\u001b[0mint\u001b[0m\u001b[1;33m,\u001b[0m \u001b[0minput\u001b[0m\u001b[1;33m(\u001b[0m\u001b[1;33m)\u001b[0m\u001b[1;33m.\u001b[0m\u001b[0msplit\u001b[0m\u001b[1;33m(\u001b[0m\u001b[1;33m)\u001b[0m\u001b[1;33m)\u001b[0m\u001b[1;33m\u001b[0m\u001b[1;33m\u001b[0m\u001b[0m\n\u001b[0m\u001b[0;32m     13\u001b[0m \u001b[0ma\u001b[0m \u001b[1;33m=\u001b[0m \u001b[1;33m[\u001b[0m\u001b[1;33m[\u001b[0m\u001b[0mint\u001b[0m\u001b[1;33m(\u001b[0m\u001b[0mj\u001b[0m\u001b[1;33m)\u001b[0m \u001b[1;32mfor\u001b[0m \u001b[0mj\u001b[0m \u001b[1;32min\u001b[0m \u001b[0minput\u001b[0m\u001b[1;33m(\u001b[0m\u001b[1;33m)\u001b[0m\u001b[1;33m.\u001b[0m\u001b[0msplit\u001b[0m\u001b[1;33m(\u001b[0m\u001b[1;33m)\u001b[0m\u001b[1;33m]\u001b[0m \u001b[1;32mfor\u001b[0m \u001b[0mi\u001b[0m \u001b[1;32min\u001b[0m \u001b[0mrange\u001b[0m\u001b[1;33m(\u001b[0m\u001b[0mamount\u001b[0m\u001b[1;33m)\u001b[0m\u001b[1;33m]\u001b[0m\u001b[1;33m\u001b[0m\u001b[1;33m\u001b[0m\u001b[0m\n\u001b[0;32m     14\u001b[0m \u001b[1;33m\u001b[0m\u001b[0m\n",
      "\u001b[1;31mValueError\u001b[0m: not enough values to unpack (expected 2, got 0)"
     ]
    }
   ],
   "source": [
    "def dfs(vertex, used, friends):\n",
    "    friends[0] += 1\n",
    "    used.add(vertex)\n",
    "    for neighbour in range(amount):\n",
    "        if (a[vertex][neighbour] == 1 \n",
    "            and\n",
    "            neighbour not in used\n",
    "           ):\n",
    "            dfs(neighbour, used, friends)\n",
    "\n",
    "\n",
    "amount, person = map(int, input().split())\n",
    "a = [[int(j) for j in input().split()] for i in range(amount)]\n",
    "\n",
    "used = set()\n",
    "friends = [-1]\n",
    "dfs(person, used, friends)\n",
    "print(*friends)"
   ]
  },
  {
   "cell_type": "markdown",
   "metadata": {},
   "source": [
    "## Число компонент связности в орграфе"
   ]
  },
  {
   "cell_type": "code",
   "execution_count": 66,
   "metadata": {},
   "outputs": [
    {
     "name": "stdout",
     "output_type": "stream",
     "text": [
      "4 2 \n",
      "0 1 15\n",
      "2 3 26\n",
      "30\n",
      "52\n"
     ]
    }
   ],
   "source": [
    "def dfs(el, used, g):\n",
    "    global sum\n",
    "    used[el] = 1\n",
    "    for ell in g[el]:\n",
    "        sum += ell[1]\n",
    "        if used[ell[0]] == 0:\n",
    "            dfs(ell[0], used, g)\n",
    " \n",
    " \n",
    "n, m = map(int, input().split())\n",
    "g = [[] for i in range(n)]\n",
    "for i in range(m):\n",
    "    u, v, c = map(int, input().split())\n",
    "    g[u].append([v, c])\n",
    "    g[v].append([u, c])\n",
    " \n",
    "used = [0 for i in range(n)]\n",
    " \n",
    "ans = []\n",
    " \n",
    "for i in range(len(used)):\n",
    "    if used[i] == 0:\n",
    "        sum = 0\n",
    "        dfs(i, used, g)\n",
    "        ans.append(sum // 2)\n",
    " \n",
    "ans.sort()\n",
    "for el in ans:\n",
    "    print(el)"
   ]
  },
  {
   "cell_type": "code",
   "execution_count": 57,
   "metadata": {},
   "outputs": [
    {
     "data": {
      "text/plain": [
       "[]"
      ]
     },
     "execution_count": 57,
     "metadata": {},
     "output_type": "execute_result"
    }
   ],
   "source": [
    "component"
   ]
  },
  {
   "cell_type": "code",
   "execution_count": 54,
   "metadata": {},
   "outputs": [
    {
     "data": {
      "text/plain": [
       "[6, 1, 0]"
      ]
     },
     "execution_count": 54,
     "metadata": {},
     "output_type": "execute_result"
    }
   ],
   "source": [
    "component_weight"
   ]
  }
 ],
 "metadata": {
  "kernelspec": {
   "display_name": "Python 3",
   "language": "python",
   "name": "python3"
  },
  "language_info": {
   "codemirror_mode": {
    "name": "ipython",
    "version": 3
   },
   "file_extension": ".py",
   "mimetype": "text/x-python",
   "name": "python",
   "nbconvert_exporter": "python",
   "pygments_lexer": "ipython3",
   "version": "3.8.2"
  }
 },
 "nbformat": 4,
 "nbformat_minor": 4
}
