{
 "cells": [
  {
   "cell_type": "markdown",
   "metadata": {},
   "source": [
    "## Последовательность состоит из натуральных чисел и завершается числом 0. Всего вводится не более 10000 чисел (не считая завершающего числа 0). Определите, сколько элементов этой последовательности равны ее наибольшему элементу (включая сам наибольший). Числа, следующие за числом 0, считывать не нужно."
   ]
  },
  {
   "cell_type": "code",
   "execution_count": 1,
   "metadata": {
    "scrolled": true
   },
   "outputs": [
    {
     "name": "stdout",
     "output_type": "stream",
     "text": [
      "1\n",
      "7\n",
      "9\n",
      "0\n",
      "1\n"
     ]
    }
   ],
   "source": [
    "number = int(input())\n",
    "maximum = number\n",
    "counter = 1\n",
    "while number != 0:\n",
    "    number = int(input())\n",
    "    if number > maximum:\n",
    "        maximum = number\n",
    "        counter = 1\n",
    "    elif number == maximum:\n",
    "        counter += 1\n",
    "print(counter)"
   ]
  },
  {
   "cell_type": "markdown",
   "metadata": {},
   "source": [
    "## Одной из важнейших операций в линейной алгебре, аналитической геометрии, математическом анализе, анализе данных, искуственном интеллекте, компьютерной графике и в огромном количестве других областей математики и информатики является вычисление скалярного произведения двух векторов.\n",
    "\n",
    "Вычисляется скалярное произведение, как сумма произведений соответствующих компонент векторов.\n",
    "\n",
    "В данной задаче вам необходимо написать функцию :\n",
    "\n",
    "python: dot_product(N, vector1, vector2) ,\n",
    "cpp: void dot_product(int N, int *vector1, int *vector2) ,\n",
    "вычисляющую скалярное произведение для двух заданных векторов одинаковой размерности N .\n",
    "\n",
    "Обратите внимание: в решении должно быть только объяевление одной функции dot_product и никакого другого кода."
   ]
  },
  {
   "cell_type": "code",
   "execution_count": 2,
   "metadata": {},
   "outputs": [],
   "source": [
    "def dot_product(N, vector1, vector2):\n",
    "    if N <= 0:\n",
    "        return 0\n",
    "    else:\n",
    "        dot_prod = 0\n",
    "        for i in range(N):\n",
    "            dot_prod += vector1[i] * vector2[i]\n",
    "        return dot_prod"
   ]
  },
  {
   "cell_type": "markdown",
   "metadata": {},
   "source": [
    "## Определить n-ый женский и мужской член последовательности Хофштадтера. Женские (F) и мужские (M) последователи Хофштадтера определяются следующим образом:\n",
    "\n",
    "F(0) = 1, M(0) = 0\n",
    "\n",
    "F(n) = n - M(F(n-1)), M(n) = n - F(M(n-1)), n > 0"
   ]
  },
  {
   "cell_type": "code",
   "execution_count": 4,
   "metadata": {},
   "outputs": [],
   "source": [
    "def F(n: int):\n",
    "    if n == 0:\n",
    "        return 1\n",
    "    else:\n",
    "        return n - M(F(n - 1))\n",
    "\n",
    "\n",
    "def M(n: int):\n",
    "    if n == 0:\n",
    "        return 0\n",
    "    else:\n",
    "        return n - F(M(n - 1))"
   ]
  },
  {
   "cell_type": "markdown",
   "metadata": {},
   "source": [
    "## На вход подаётся массив значений функции. Требуется вывести положения (индексы) строгих локальных минимумов и локальных максимумов."
   ]
  },
  {
   "cell_type": "code",
   "execution_count": 14,
   "metadata": {},
   "outputs": [
    {
     "name": "stdout",
     "output_type": "stream",
     "text": [
      "6\n",
      "1 2 4 1 5 3\n",
      "2 3 4\n"
     ]
    }
   ],
   "source": [
    "length = int(input())\n",
    "seq = list(map(int, input().split()))\n",
    "maximums = []\n",
    "for i in range(1, length - 1):\n",
    "    if seq[i - 1] < seq[i] and seq[i] > seq[i + 1] or seq[i - 1] > seq[i] and seq[i] < seq[i + 1]:\n",
    "        maximums.append(i)\n",
    "print(*maximums)"
   ]
  },
  {
   "cell_type": "markdown",
   "metadata": {},
   "source": [
    "## В этой зачаче необходимо транспонировать матрицу размера NxN. Транспонирование это часто встречающаяся в линейной алгебре операция, при которой столбцы матрицы становятся строками, а строки - столбцами."
   ]
  },
  {
   "cell_type": "code",
   "execution_count": 24,
   "metadata": {},
   "outputs": [
    {
     "name": "stdout",
     "output_type": "stream",
     "text": [
      "3\n",
      "1 2 3\n",
      "a b c\n",
      "4 5 6\n",
      "1 a 4\n",
      "2 b 5\n",
      "3 c 6\n"
     ]
    }
   ],
   "source": [
    "size = int(input())\n",
    "if size % 2 != 0:\n",
    "    counter = size // 2 + 1\n",
    "else:\n",
    "    counter = size // 2\n",
    "matrix = [input().split() for i in range(size)]\n",
    "\n",
    "\n",
    "def transpose(matr):\n",
    "    res=[]\n",
    "    n=len(matr)\n",
    "    m=len(matr[0])\n",
    "    for j in range(m):\n",
    "        tmp=[]\n",
    "        for i in range(n):\n",
    "            tmp=tmp+[matr[i][j]]\n",
    "        res=res+[tmp]\n",
    "    return res\n",
    "\n",
    "\n",
    "for i in range(size):\n",
    "    print(*transpose(matrix)[i])"
   ]
  },
  {
   "cell_type": "markdown",
   "metadata": {},
   "source": [
    "## Герою компьютерной игры нужно перебраться от одного края экрана к другому, перепрыгивая по платформам. При этом при прыжке с одной платформы на соседнюю, у героя уходит |y2-y1| единиц энергии, где y1 и y2 – высоты, на которых расположены эти платформы. Кроме того, у героя есть суперприем, который позволяет перескочить через платформу, но на это затрачивается 3*|y3-y1| единиц энергии. Конечно же, энергию следует расходовать максимально экономно.\n",
    "\n",
    "Вам известны высоты всех платформ в порядке от левого края до правого. Необходимо найти, какое минимальное количество энергии потребуется герою, чтобы добраться с первой платформы до последней."
   ]
  },
  {
   "cell_type": "code",
   "execution_count": null,
   "metadata": {},
   "outputs": [],
   "source": [
    "amount = int(input())  # amount of platforms\n",
    "\n",
    "if amount == 1:  # if amount of platforms equals 1, than\n",
    "    print(0)     # amount of energy is 0\n",
    "    exit(0)\n",
    "    \n",
    "heights = []\n",
    "for i in range(amount):  # height of each platform\n",
    "    heights.append(int(input()))\n",
    "    \n",
    "counter = [0] * amount  # counter for min energy\n",
    "counter[0], counter[1] = 0, abs(heights[1] - heights[0])\n",
    "\n",
    "for i in range(2, amount):  # fulling counter\n",
    "    counter[i] = min(counter[i - 2] + 3 * abs(heights[i] - heights[i - 2]), \n",
    "                     counter[i - 1] + abs(heights[i] - heights[i - 1]))\n",
    "    \n",
    "    \n",
    "    \n",
    "print(counter[-1])  # min energy value"
   ]
  },
  {
   "cell_type": "markdown",
   "metadata": {},
   "source": [
    "## Необходимо отсортировать набор дат в хронологическом порядке во возрастанию.\n",
    "\n",
    "Дата состоит из дня, месяца, года и времени с точностью до минут.\n",
    "\n",
    "Названия месяцев английские, с заглавной буквы.\n",
    "\n",
    "Диапазон времени 00:00 - 23:59.\n",
    "\n",
    "Формат входных данных\n",
    "В первой строке число N - количество записей. В последующих N строках даты в формате \"ЧислоМесяца НазваниеМесяца Год Час:Минута\". Для записи минут используется два знака, т.е. с лидирующим нулём, если количество минут меньше 10."
   ]
  },
  {
   "cell_type": "code",
   "execution_count": null,
   "metadata": {},
   "outputs": [],
   "source": [
    "def find_name(dictionary, value):\n",
    "    '''\n",
    "        Function to get key from the dictionary by value\n",
    "        \n",
    "        Input:\n",
    "        \n",
    "        dictionary - dict\n",
    "        value - any type of value in this dict\n",
    "        \n",
    "        Output:\n",
    "        \n",
    "        name - finded key\n",
    "    '''\n",
    "    for name, val in dictionary.items():\n",
    "        if val == value:\n",
    "            return name\n",
    "\n",
    "\n",
    "amount = int(input())  # amount of dates\n",
    "dates = []  # creating list of dates in format [date, month, year, hours:mins]\n",
    "\n",
    "for i in range(amount):\n",
    "    dates.append([string for string in input().split()])\n",
    "    dates[i].append(0)\n",
    "    dates[i].append(0)\n",
    "\n",
    "# months dictionary\n",
    "months = {'January' : 1, 'February' : 2, 'March' : 3,\n",
    "          'April' : 4, 'May' : 5, 'June' : 6, 'July' : 7,\n",
    "          'August' : 8, 'September' : 9, 'October' : 10,\n",
    "          'November' : 11, 'December' : 12}\n",
    "\n",
    "for date in dates:  # transforming data to format [time in min, date - 2010, month (num), year, saved time in format hh:mm]\n",
    "    for i in [0, 2]:\n",
    "        date[i] = int(date[i])\n",
    "    date[2] -= 2010\n",
    "    date[1] = months[ date[1] ]\n",
    "    time = date[3].split(\":\")\n",
    "    date[3] = int(time[0]) * 60 + int(time[1])\n",
    "    date[4] = time[0]\n",
    "    date[5] = time[1]\n",
    "    \n",
    "    date[0], date[2] = date[2], date[0]\n",
    "    date[0], date[1], date[2], date[3] = date[3], date[2], date[1], date[0]\n",
    "\n",
    "## Radix sort\n",
    "length_bucket = [1501, 32, 13, 11]  # amount of buckets for each element of dates\n",
    "\n",
    "for k in range(4):  # sorting dates by k-th element\n",
    "    bucket = [ [] for i in range(length_bucket[k]) ]\n",
    "    for date in dates:\n",
    "        for j in range(length_bucket[k]):\n",
    "            if date[k] == j:\n",
    "                bucket[j].append(date)\n",
    "                \n",
    "    count = 0  # generating new array using filled buckets\n",
    "    for m in range(length_bucket[k]):\n",
    "        if bucket[m]:\n",
    "            for j, date in enumerate(bucket[m]):\n",
    "                dates[j + count] = date\n",
    "            count += len(bucket[m])\n",
    "\n",
    "for date in dates:  # transforming data again to first format\n",
    "    date[0], date[1], date[2], date[3] = date[3], date[2], date[1], date[0]\n",
    "    date[0], date[2] = str( date[2] ), str( date[0] + 2010 )\n",
    "    date[1] = find_name(months, date[1])\n",
    "    \n",
    "for date in dates:  # printing sorted data\n",
    "    print(date[0] + ' ' + date[1] + ' ' + date[2] + ' ' + date[4] + ':' + date[5])"
   ]
  }
 ],
 "metadata": {
  "kernelspec": {
   "display_name": "Python 3",
   "language": "python",
   "name": "python3"
  },
  "language_info": {
   "codemirror_mode": {
    "name": "ipython",
    "version": 3
   },
   "file_extension": ".py",
   "mimetype": "text/x-python",
   "name": "python",
   "nbconvert_exporter": "python",
   "pygments_lexer": "ipython3",
   "version": "3.7.5"
  }
 },
 "nbformat": 4,
 "nbformat_minor": 2
}
