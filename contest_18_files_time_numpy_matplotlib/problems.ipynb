{
 "cells": [
  {
   "cell_type": "markdown",
   "metadata": {},
   "source": [
    "## Скачайте входной файл find_a_fish.txt. В нём находятся 4 аминокислотных последовательности белка, выполняющего одну и ту же функцию, но присутсвующие в различных организмах. Три из них получены из млекопитающих, одна из них - из рыбы. Вычислив редакционное расстояние Левенштейна, сделайте предположение, последовательность с каким номером принадлежит рыбе."
   ]
  },
  {
   "cell_type": "code",
   "execution_count": 106,
   "metadata": {},
   "outputs": [],
   "source": [
    "def levenshtein(seq1, seq2):\n",
    "    size_x = len(seq1) + 1\n",
    "    size_y = len(seq2) + 1\n",
    "    matrix = [ [ [0] for _ in range(size_y) ] for _ in range(size_x) ]\n",
    "    for x in range(size_x):\n",
    "        matrix [x] [0] = x\n",
    "    for y in range(size_y):\n",
    "        matrix [0] [y] = y\n",
    "\n",
    "    for x in range(1, size_x):\n",
    "        for y in range(1, size_y):\n",
    "            if seq1[x-1] == seq2[y-1]:\n",
    "                matrix [x][y] = min(\n",
    "                    matrix[x-1][y] + 1,\n",
    "                    matrix[x-1][y-1],\n",
    "                    matrix[x][y-1] + 1\n",
    "                )\n",
    "            else:\n",
    "                matrix [x][y] = min(\n",
    "                    matrix[x-1][y] + 1,\n",
    "                    matrix[x-1][y-1] + 1,\n",
    "                    matrix[x][y-1] + 1\n",
    "                )\n",
    "    return (matrix[size_x - 1][size_y - 1])"
   ]
  },
  {
   "cell_type": "code",
   "execution_count": 48,
   "metadata": {},
   "outputs": [],
   "source": [
    "import itertools"
   ]
  },
  {
   "cell_type": "code",
   "execution_count": 117,
   "metadata": {},
   "outputs": [
    {
     "name": "stdout",
     "output_type": "stream",
     "text": [
      "34 (0, 1)\n",
      "155 (0, 2)\n",
      "31 (0, 3)\n",
      "154 (1, 2)\n",
      "19 (1, 3)\n",
      "153 (2, 3)\n"
     ]
    }
   ],
   "source": [
    "with open('find_a_fish.txt') as file:\n",
    "    content = file.read()\n",
    "    \n",
    "content = content.split('>')\n",
    "del content[0]\n",
    "for i in range(len(content)):\n",
    "    content[i] = content[i][1:].replace('\\n', '')\n",
    "    \n",
    "combs = itertools.combinations(content, 2)\n",
    "pairs = itertools.combinations(range(4), 2)\n",
    "for comb, pair in zip(combs, pairs):\n",
    "    print(levenshtein(comb[0], comb[1]), pair)\n",
    "    \n",
    "# Второй элемент дает с другими элементами большее значение\n",
    "# редакционного расстояния, значит эта последовательность принадлежит рыбе"
   ]
  },
  {
   "cell_type": "markdown",
   "metadata": {},
   "source": [
    "## В файле ceasar.txt содержится зашифрованное кодом Цезаря сообщение. Расшифруйте его.\n",
    "\n",
    "Напишите программу, которая автоматически расшифровывает подобные сообщения.\n",
    "\n",
    "Шифр Цезаря -- сдвиговый шифр. После выбора сдвига N каждая буква сообщения заменяется на букву, стоящую на N позиций правее в алфавите (при этом алфавит закольцовывается). Например, при сдвиге 2 в русском алфавите произойдут замены А → В, Б → Г, ..., Ю → А, Я → Б и строка 'AБЮЯ' перейдёт в 'ВГАБ'."
   ]
  },
  {
   "cell_type": "code",
   "execution_count": 16,
   "metadata": {},
   "outputs": [
    {
     "name": "stdout",
     "output_type": "stream",
     "text": [
      "CHARLES BABBAGE WAS AN ENGLISH POLYMATH. A MATHEMATICIAN, PHILOSOPHER, INVENTOR AND MECHANICAL ENGINEER, BABBAGE ORIGINATED THE CONCEPT OF A DIGITAL PROGRAMMABLE COMPUTER.\n",
      "CONSIDERED BY SOME TO BE A \"FATHER OF THE COMPUTER\", BABBAGE IS CREDITED WITH INVENTING THE FIRST MECHANICAL COMPUTER THAT EVENTUALLY LED TO MORE COMPLEX ELECTRONIC DESIGNS, THOUGH ALL THE ESSENTIAL IDEAS OF MODERN COMPUTERS ARE TO BE FOUND IN BABBAGE'S ANALYTICAL ENGINE. HIS VARIED WORK IN OTHER FIELDS HAS LED HIM TO BE DESCRIBED AS \"PRE-EMINENT\" AMONG THE MANY POLYMATHS OF HIS CENTURY.\n",
      "PARTS OF BABBAGE'S INCOMPLETE MECHANISMS ARE ON DISPLAY IN THE SCIENCE MUSEUM IN LONDON. IN 1991, A FUNCTIONING DIFFERENCE ENGINE WAS CONSTRUCTED FROM BABBAGE'S ORIGINAL PLANS. BUILT TO TOLERANCES ACHIEVABLE IN THE 19TH CENTURY, THE SUCCESS OF THE FINISHED ENGINE INDICATED THAT BABBAGE'S MACHINE WOULD HAVE WORKED.\n"
     ]
    }
   ],
   "source": [
    "# английский алфавит заглавные буквы 90 >= ord() >= 65\n",
    "\n",
    "def CaesarCipherChar(symbol, N):\n",
    "    if 90 >= ord(symbol) >= 65:\n",
    "        if N % 26 + ord(symbol) <= 90:\n",
    "            return chr(N % 26 + ord(symbol))\n",
    "        else:\n",
    "            return chr(N % 26 + ord(symbol) - 26)\n",
    "    else:\n",
    "        return symbol\n",
    "        \n",
    "        \n",
    "def CaesarCipher(string, N):\n",
    "    new_string = ''\n",
    "    for elem in string:\n",
    "        new_string += CaesarCipherChar(elem, N)\n",
    "    return(new_string)\n",
    "\n",
    "\n",
    "with open('ceasar.txt') as file:\n",
    "    content = file.read()\n",
    "content = content.split('\\n')[::2]\n",
    "# А здесь просто нужно было посмотреть на строки вида smth'P, повторяющиеся несколько раз, очевидно, что в оригинале это 'S\n",
    "for crypt in content:\n",
    "    print(CaesarCipher(crypt, 3))"
   ]
  }
 ],
 "metadata": {
  "kernelspec": {
   "display_name": "Python 3",
   "language": "python",
   "name": "python3"
  },
  "language_info": {
   "codemirror_mode": {
    "name": "ipython",
    "version": 3
   },
   "file_extension": ".py",
   "mimetype": "text/x-python",
   "name": "python",
   "nbconvert_exporter": "python",
   "pygments_lexer": "ipython3",
   "version": "3.7.5"
  }
 },
 "nbformat": 4,
 "nbformat_minor": 2
}
