{
 "cells": [
  {
   "cell_type": "markdown",
   "metadata": {},
   "source": [
    "## В строке последовательно вводятся два числа, которые нужно сложить."
   ]
  },
  {
   "cell_type": "code",
   "execution_count": 1,
   "metadata": {},
   "outputs": [
    {
     "name": "stdin",
     "output_type": "stream",
     "text": [
      " 2 3\n"
     ]
    },
    {
     "name": "stdout",
     "output_type": "stream",
     "text": [
      "5\n"
     ]
    }
   ],
   "source": [
    "x, y = input().split()\n",
    "x = int(x)\n",
    "y = int(y)\n",
    "print(x + y)"
   ]
  },
  {
   "cell_type": "markdown",
   "metadata": {},
   "source": [
    "## Вам дано выражение вида \"a x b\", где a и b - натуральные числа, а x - знак сравнения, '<' или '>'. Истинно ли данное выражение?"
   ]
  },
  {
   "cell_type": "code",
   "execution_count": 5,
   "metadata": {},
   "outputs": [
    {
     "name": "stdin",
     "output_type": "stream",
     "text": [
      " 1\n",
      " <\n",
      " 2\n"
     ]
    },
    {
     "name": "stdout",
     "output_type": "stream",
     "text": [
      "YES\n"
     ]
    }
   ],
   "source": [
    "a = int(input())\n",
    "sign = input()\n",
    "b = int(input())\n",
    "if (a > b and sign == '>') or (a < b and sign == '<'):\n",
    "    print('YES')\n",
    "else:\n",
    "    print('NO')"
   ]
  },
  {
   "cell_type": "markdown",
   "metadata": {},
   "source": [
    "## Определите тип треугольника (остроугольный, тупоугольный, прямоугольный) с данными сторонами."
   ]
  },
  {
   "cell_type": "code",
   "execution_count": 32,
   "metadata": {},
   "outputs": [
    {
     "name": "stdin",
     "output_type": "stream",
     "text": [
      " 1\n",
      " 2\n",
      " 4\n"
     ]
    },
    {
     "name": "stdout",
     "output_type": "stream",
     "text": [
      "impossible\n"
     ]
    }
   ],
   "source": [
    "a = int(input())\n",
    "b = int(input())\n",
    "c = int(input())\n",
    "sides = [a, b, c]\n",
    "maximum = max(sides)\n",
    "sides.remove(maximum)\n",
    "def cosine(a, b, c):\n",
    "    return float((b**2+c**2-a**2)/(2*b*c))\n",
    "if a+b <= c or a+c <= b or b+c <= a:\n",
    "    print('impossible')\n",
    "elif cosine(maximum, sides[0], sides[1]) < 0:\n",
    "    print('obtuse')\n",
    "elif maximum**2 == sides[0]**2 + sides[1]**2:\n",
    "    print('right')\n",
    "else:\n",
    "    print('acute')"
   ]
  },
  {
   "cell_type": "markdown",
   "metadata": {},
   "source": [
    "## Сложить все числа из потока ввода. Числа дробные, с плавающей точкой, двойной точности."
   ]
  },
  {
   "cell_type": "code",
   "execution_count": 37,
   "metadata": {},
   "outputs": [
    {
     "name": "stdin",
     "output_type": "stream",
     "text": [
      " 3\n",
      " 0\n",
      " 10.99\n",
      " -1.01\n"
     ]
    },
    {
     "name": "stdout",
     "output_type": "stream",
     "text": [
      "9.98\n"
     ]
    }
   ],
   "source": [
    "number_of_numbers = int(input())\n",
    "sum = 0\n",
    "for i in range(number_of_numbers):\n",
    "    number = float(input())\n",
    "    sum += number\n",
    "print(sum)"
   ]
  },
  {
   "cell_type": "markdown",
   "metadata": {},
   "source": [
    "## Требуется найти длину удава, выраженную в мартышках, попугаях или слоненках, по выбору пользователя. \"Эффективная длина\" попугая - 10см, мартышки - 90см, слоненка - 3м. Результат округляйте вниз, однако, если при этом получается ноль, выведите 1, чтобы не обижать удава."
   ]
  },
  {
   "cell_type": "code",
   "execution_count": 39,
   "metadata": {},
   "outputs": [
    {
     "name": "stdin",
     "output_type": "stream",
     "text": [
      " 200\n",
      " elephant\n"
     ]
    },
    {
     "name": "stdout",
     "output_type": "stream",
     "text": [
      "1\n"
     ]
    }
   ],
   "source": [
    "length = int(input())\n",
    "method = input()\n",
    "animals = ['monkey', 'parrot', 'elephant']\n",
    "animals_length = [90, 10, 300]\n",
    "for animal, animal_length in zip(animals, animals_length):\n",
    "    if method == animal:\n",
    "        number = length // animal_length\n",
    "        if number != 0:\n",
    "            print(number)\n",
    "        else:\n",
    "            print(1)"
   ]
  }
 ],
 "metadata": {
  "kernelspec": {
   "display_name": "Python 3",
   "language": "python",
   "name": "python3"
  },
  "language_info": {
   "codemirror_mode": {
    "name": "ipython",
    "version": 3
   },
   "file_extension": ".py",
   "mimetype": "text/x-python",
   "name": "python",
   "nbconvert_exporter": "python",
   "pygments_lexer": "ipython3",
   "version": "3.7.1"
  }
 },
 "nbformat": 4,
 "nbformat_minor": 2
}
