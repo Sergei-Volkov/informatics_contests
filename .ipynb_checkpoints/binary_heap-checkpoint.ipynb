{
 "cells": [
  {
   "cell_type": "code",
   "execution_count": 3,
   "metadata": {},
   "outputs": [
    {
     "name": "stdout",
     "output_type": "stream",
     "text": [
      "1 2 3 4 6 8 2 3\n",
      "[1, 2, 2, 3, 3, 4, 6, 8]\n"
     ]
    }
   ],
   "source": [
    "# Binary heap and than binary heap sort\n",
    "\n",
    "def down(array, i, end):  # creating binary heap\n",
    "    if end > 2*i + 2:  # if we have 2 children\n",
    "        if array[2*i + 2] > array[2*i + 1]:  # if one children is bigger then other\n",
    "            if array[2*i + 2] > array[i]:  # if children is bigger then parent\n",
    "                array[2*i + 2], array[i] = array[i], array[2*i + 2]  # swap them\n",
    "                down(array, 2*i + 2, end)  # next stage of pyramid\n",
    "        else:  # if other children is bigger\n",
    "            if array[2*i + 1] > array[i]:  # if children is bigger then parent\n",
    "                array[2*i + 1], array[i] = array[i], array[2*i + 1]  # swap them\n",
    "                down(array, 2*i + 1, end)  # next stage of pyramid\n",
    "    elif end > 2*i + 1:  # if we have 1 child\n",
    "        if array[2*i + 1] > array[i]:  # if child is bigger then parent\n",
    "            array[2*i + 1], array[i] = array[i], array[2*i + 1]  # swap them\n",
    "            down(array, 2*i + 1, end)  # next stage\n",
    "    \n",
    "abc = list(map(int, input().split()))  # our list\n",
    "\n",
    "for i in range(len(abc) // 2, -1, -1):  # create binary heap\n",
    "    down(abc, i, len(abc))\n",
    "    \n",
    "abc[0], abc[-1] = abc[-1], abc[0]  # swap the biggest element with the last one\n",
    "\n",
    "for i in range(1, len(abc) - 1):  # cut last (biggest) element and iterate throw lasting part\n",
    "    down(abc, 0, len(abc) - i)\n",
    "    abc[0], abc[len(abc) - i - 1] = abc[len(abc) - i - 1], abc[0]\n",
    "    \n",
    "print(abc)  # sorted array"
   ]
  }
 ],
 "metadata": {
  "kernelspec": {
   "display_name": "Python 3",
   "language": "python",
   "name": "python3"
  },
  "language_info": {
   "codemirror_mode": {
    "name": "ipython",
    "version": 3
   },
   "file_extension": ".py",
   "mimetype": "text/x-python",
   "name": "python",
   "nbconvert_exporter": "python",
   "pygments_lexer": "ipython3",
   "version": "3.7.5"
  }
 },
 "nbformat": 4,
 "nbformat_minor": 2
}
