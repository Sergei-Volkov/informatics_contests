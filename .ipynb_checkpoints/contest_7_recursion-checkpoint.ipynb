{
 "cells": [
  {
   "cell_type": "markdown",
   "metadata": {},
   "source": [
    "## В этой задаче необходимо создать функцию matryoshka(n) , которая по заданному натуральному числу n печатает матрёшку.\n",
    "\n",
    "Каждая матрёшка обладает уровнем вложенности. Все матрёшки, кроме самой маленькой, состоят из верха и низа. Печать должна отражать, как верхи и низы матрёшек согласуются между собой и самой маленькой (цельной) матрёшкой.\n",
    "\n",
    "Верх матрёшки уровня i нужно показать, напечатав verh matryoshki i . Низ матрёшки уровня i нужно показать, напечатав niz matryoshki i . Положение самой маленькой матрёшки показывается печатью matryoshechka .\n",
    "\n",
    "В этой задаче необходимо обойтись без циклов for и while"
   ]
  },
  {
   "cell_type": "code",
   "execution_count": 1,
   "metadata": {},
   "outputs": [],
   "source": [
    "def matryoshka(n):\n",
    "    '''\n",
    "        Function which prints how many layers\n",
    "        are presented in matryoshka doll.\n",
    "        \n",
    "        Input:\n",
    "        \n",
    "        n - number of layers, int.\n",
    "    '''\n",
    "    if n > 1:\n",
    "        print('verh matryoshki', n)\n",
    "        matryoshka(n - 1)\n",
    "        print('niz matryoshki', n)\n",
    "    if n  == 1:\n",
    "        print('matryoshechka')"
   ]
  },
  {
   "cell_type": "markdown",
   "metadata": {},
   "source": [
    "## Определить n-ый женский и мужской член последовательности Хофштадтера. Женские (F) и мужские (M) последователи Хофштадтера определяются следующим образом:\n",
    "\n",
    "F(0) = 1, M(0) = 0\n",
    "\n",
    "F(n) = n - M(F(n-1)), M(n) = n - F(M(n-1)), n > 0\n",
    "\n",
    "Внимание! Нужно передавать на проверку только две функции F(n) и M(n). В этих функциях нельзя использовать циклы."
   ]
  },
  {
   "cell_type": "code",
   "execution_count": 3,
   "metadata": {},
   "outputs": [],
   "source": [
    "def F(n):\n",
    "    '''\n",
    "        Returns female element of Hofshtadter sequence.\n",
    "        \n",
    "        Input:\n",
    "        \n",
    "        n - number of element, int.\n",
    "    '''\n",
    "    if n == 0:\n",
    "        return 1\n",
    "    else:\n",
    "        return n - M( F(n - 1) )\n",
    "\n",
    "    \n",
    "\n",
    "def M(n):\n",
    "    '''\n",
    "        Returns male element of Hofshtadter sequence.\n",
    "        \n",
    "        Input:\n",
    "        \n",
    "        n - number of element, int\n",
    "    '''\n",
    "    if n == 0:\n",
    "        return 0\n",
    "    else:\n",
    "        return n - F( M(n - 1) )"
   ]
  },
  {
   "cell_type": "markdown",
   "metadata": {},
   "source": [
    "## С 1 января Петя решил заняться спортом и для этого собирается начать подтягиваться лесенкой. Петя выбирает посильное число подтягиваний K и каждый день увеличивает число подходов по следующей схеме:\n",
    "\n",
    "1 день: K\n",
    "2 день: K + (K+1) + K\n",
    "3 день: K + (K+1) + (K+2) + (K+1) + K\n",
    "...\n",
    "Петя всегда помнит сколько раз подтянулся вчера.\n",
    "\n",
    "Определите с помощью рекурсии сколько раз Петя подтянется в M-й день."
   ]
  },
  {
   "cell_type": "code",
   "execution_count": 14,
   "metadata": {},
   "outputs": [
    {
     "name": "stdout",
     "output_type": "stream",
     "text": [
      "4\n",
      "2\n"
     ]
    },
    {
     "data": {
      "text/plain": [
       "13"
      ]
     },
     "execution_count": 14,
     "metadata": {},
     "output_type": "execute_result"
    }
   ],
   "source": [
    "def pullups(K, M):\n",
    "    '''\n",
    "        Function that calculates amount of pullups that \n",
    "        boy can do on M-th day.\n",
    "        On the first day he did K pullups.\n",
    "        \n",
    "        Output:\n",
    "        \n",
    "        Amount of pullups on M-th day, int.\n",
    "        \n",
    "        1st day: K\n",
    "        2nd day: K + (K+1) + K\n",
    "        3rd day: K + (K+1) + (K+2) + (K+1) + K \n",
    "        and so on.\n",
    "    '''\n",
    "    temp = K + M - 1\n",
    "    if M == 1:\n",
    "        return temp\n",
    "    return pullups(K, M - 1) + temp + temp - 1\n",
    "\n",
    "\n",
    "\n",
    "K = int(input())\n",
    "M = int(input())\n",
    "\n",
    "print(pullups(K, M))"
   ]
  },
  {
   "cell_type": "markdown",
   "metadata": {},
   "source": [
    "## Написать функцию make_exchange(money, coins) , которая принимает сумму денег money (целое число) и массив номиналов разменных монет coins (целых чисел, возможно пустой) и возвращает количество способов произвести размен. Считаем, что разменных монет бесконечное множество.\n",
    "\n",
    "Способы наподобие 1+2 и 2+1 считаем тождественными."
   ]
  },
  {
   "cell_type": "code",
   "execution_count": 29,
   "metadata": {},
   "outputs": [],
   "source": [
    "def make_exchange(money: int, coins: list):\n",
    "    '''\n",
    "        Function that counts amount of combinations\n",
    "        how to represent fixed amount of money with\n",
    "        the coins of given values.\n",
    "        \n",
    "        Output:\n",
    "        Amount of combinations.\n",
    "    '''\n",
    "    if money == 0:\n",
    "        return 1\n",
    "    \n",
    "    if money < 0 or not coins:\n",
    "        return 0\n",
    "    \n",
    "    else:\n",
    "        return ( make_exchange(money, coins[1:])\n",
    "                + make_exchange(money - coins[0], coins) )"
   ]
  },
  {
   "cell_type": "markdown",
   "metadata": {},
   "source": [
    "## Задать функцию is_add_35(n) , которая по заданному целому неотрицательному числу n определяет, возможно ли получить его из числа 1, используя только операции «прибавить 3» и «прибавить 5» (количество использований операций может быть в том числе нулевым).\n",
    "\n",
    "Функция должна возвращать истину ( True ), если число n можно получить указанными выше операциями, и ложь ( False ) в противном случае. Реализацию ввода-вывода писать не нужно, только определение самой функции!\n",
    "\n",
    "В этой задаче необходимо обойтись без циклов for и while "
   ]
  },
  {
   "cell_type": "code",
   "execution_count": 33,
   "metadata": {},
   "outputs": [],
   "source": [
    "def is_add_35(n):\n",
    "    '''\n",
    "        Function which checks is it possible to get the \n",
    "        given number only by adding some number\n",
    "        of 3 or 5 to 1.\n",
    "        \n",
    "        Input:\n",
    "        \n",
    "        n - given number, int.\n",
    "        \n",
    "        Output:\n",
    "        \n",
    "        True, if it is possible.\n",
    "        False, if it is not.\n",
    "    '''\n",
    "    if n == 1:\n",
    "        return True\n",
    "    \n",
    "    elif n < 1:\n",
    "        return False\n",
    "    \n",
    "    else:\n",
    "        return is_add_35(n - 3) or is_add_35(n - 5)"
   ]
  },
  {
   "cell_type": "markdown",
   "metadata": {},
   "source": [
    "## Написать рекурсивный алгоритм, выводящий все подмассивы (упорядоченные подмножества идущих подряд элементов) данного массива."
   ]
  },
  {
   "cell_type": "code",
   "execution_count": 47,
   "metadata": {},
   "outputs": [
    {
     "name": "stdout",
     "output_type": "stream",
     "text": [
      "1 2 3\n",
      "1\n",
      "1 2\n",
      "2\n",
      "1 2 3\n",
      "2 3\n",
      "3\n"
     ]
    }
   ],
   "source": [
    "def subarrays(array, start, end):\n",
    "    '''\n",
    "        Function that prints all subarrays of given array.\n",
    "        \n",
    "        Input:\n",
    "        \n",
    "        array - list.\n",
    "        start - start point of printing subarray\n",
    "        end - stop points of printing subarray\n",
    "        \n",
    "        Output:\n",
    "        \n",
    "        All subarrays, each on new line. \n",
    "    '''\n",
    "    if end == len(array):\n",
    "        return\n",
    "    \n",
    "    elif start > end:\n",
    "        return subarrays(array, 0, end + 1)\n",
    "    \n",
    "    else:\n",
    "        print(*array[start : end + 1])\n",
    "        return subarrays(array, start + 1, end)\n",
    "    \n",
    "    \n",
    "\n",
    "arr = list( map( int, input().split() ) )\n",
    "\n",
    "\n",
    "\n",
    "subarrays(arr, 0, 0)"
   ]
  },
  {
   "cell_type": "markdown",
   "metadata": {},
   "source": [
    "## Вам даны 2 координаты 2 клеток на шахматном поле. Нужно ответить на вопрос, можно ли попасть из одной клетки в другую за не более чем 2 хода конем. В случае, если попасть возможно, надо вывести количество ходов, за которое это можно сделать. Если попасть невозможно, следует вернуть -1.\n",
    "\n",
    "В этой задаче запрещено использование циклов."
   ]
  },
  {
   "cell_type": "code",
   "execution_count": null,
   "metadata": {},
   "outputs": [],
   "source": [
    "def Horse(x, y, data, cnt=0):\n",
    "    if x >= 9 or x <= 0 or y <= 0 or y >= 9 or cnt >= 3:\n",
    "        return\n",
    "    if data[x][y] != -1:\n",
    "        data[x][y] = min(cnt, data[x][y])\n",
    "        return\n",
    "    else:\n",
    "        data[x][y] = cnt\n",
    "    Horse(x + 2, y + 1, data, cnt + 1)\n",
    "    Horse(x + 2, y - 1, data, cnt + 1)\n",
    "    Horse(x - 2, y + 1, data, cnt + 1)\n",
    "    Horse(x - 2, y - 1, data, cnt + 1)\n",
    "    Horse(x + 1, y + 2, data, cnt + 1)\n",
    "    Horse(x - 1, y + 2, data, cnt + 1)\n",
    "    Horse(x + 1, y - 2, data, cnt + 1)\n",
    "    Horse(x - 1, y - 2, data, cnt + 1)\n",
    "\n",
    " \n",
    " \n",
    "def main():\n",
    "    x1 = int(input())\n",
    "    y1 = int(input())\n",
    "    x2 = int(input())\n",
    "    y2 = int(input())\n",
    "    data =  [[-1] * 8] * 8 ## chess desk\n",
    "    Horse(x1, y1, data)\n",
    "    print(data[x2][y2])\n",
    " \n",
    " \n",
    "main()"
   ]
  },
  {
   "cell_type": "markdown",
   "metadata": {},
   "source": [
    "## Вычислить детерминант матрицы.\n",
    "\n",
    "Справочная информация для тех, у кого пока не было в детерминта в курсе линейной алгебры.\n",
    "\n",
    "Детерминант - важнейшая характеристика матрицы. Одно из основных практических применений - проверка матрицы на обратимость, что означает существование и единственность решения системы линейных уравнений.\n",
    "\n",
    "Определение детерминанта через дополнительный минор (разложение по строке):\n",
    "\n",
    "Пусть A - квадратная матрица размера n x n и содержащая элементы a_ij , тогда её детерминант det A вычисляется по следующей формуле:\n",
    "\n",
    "det A = sum{j=1:n} { a_ij (-1)**(i+j) d_ij }\n",
    "\n",
    "где i - индекс строки, j - индекс столбца, d_ij - дополнительный минор подматрицы D_ij .\n",
    "\n",
    "Подматрица D_ij некоторой матрицы B это матрица, получающаяся вычеркиванием (отбрасыванием) из матрицы B строки i и столбца j , если такое возможно (т.е. в результате вычеркивания D_ij будет содержать элементы, хотя бы один).\n",
    "\n",
    "Дополнительный минор d_ij = det D_ij .\n",
    "\n",
    "Детерминант матрицы, состоящей из одного элемента, равен этому элементу.\n",
    "\n",
    "В курсе линейной алгебры доказано, что приведённое сверху выражение детерминанта не зависит от выбора строки i .\n",
    "\n",
    "Вам необходимо написать рекурсивный алгоритм вычисления детерминанта."
   ]
  },
  {
   "cell_type": "code",
   "execution_count": 84,
   "metadata": {},
   "outputs": [
    {
     "name": "stdout",
     "output_type": "stream",
     "text": [
      "3\n",
      "1 0 0\n",
      "0 1 0\n",
      "0 0 1\n",
      "1\n"
     ]
    }
   ],
   "source": [
    "def determinant(matrix, n):\n",
    "    '''\n",
    "        Function that calculates determinant of given matrix\n",
    "        of size n x n. Calculation is proceeded using \n",
    "        first line of matrix.\n",
    "        \n",
    "        Input:\n",
    "        \n",
    "        matrix - matrix of size n x n.\n",
    "        n - size of matrix.\n",
    "        \n",
    "        Output:\n",
    "        \n",
    "        det - determinant of matrix.\n",
    "    '''\n",
    "    if n == 0: ## if matrix has 0 size\n",
    "        return 0\n",
    "    \n",
    "    elif n == 1: ## if matrix is a number\n",
    "        return matrix[0][0]\n",
    "    \n",
    "    elif n == 2: ## if matrix is 2 x 2\n",
    "        det = matrix[0][0] * matrix[1][1] - matrix[0][1] * matrix[1][0]\n",
    "        return det\n",
    "    \n",
    "    else: ## else, using determinant formula\n",
    "        det = 0\n",
    "        for i in range(n):\n",
    "            det += matrix[i][n - 1] * ((-1) ** (i + n -1)) * determinant(matrix[:i] + matrix[i+1:], n-1)\n",
    "        return det\n",
    "    \n",
    "    \n",
    "\n",
    "    \n",
    "size = int(input()) ## getting matrix from input\n",
    "\n",
    "matrix = [ list( map(int, input().split()) ) for i in range(size) ]\n",
    "\n",
    "\n",
    "\n",
    "print(determinant(matrix, size))"
   ]
  }
 ],
 "metadata": {
  "kernelspec": {
   "display_name": "Python 3",
   "language": "python",
   "name": "python3"
  },
  "language_info": {
   "codemirror_mode": {
    "name": "ipython",
    "version": 3
   },
   "file_extension": ".py",
   "mimetype": "text/x-python",
   "name": "python",
   "nbconvert_exporter": "python",
   "pygments_lexer": "ipython3",
   "version": "3.7.5"
  }
 },
 "nbformat": 4,
 "nbformat_minor": 2
}
