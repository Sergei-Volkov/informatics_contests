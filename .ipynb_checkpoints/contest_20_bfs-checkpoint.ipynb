{
 "cells": [
  {
   "cell_type": "markdown",
   "metadata": {},
   "source": [
    "## Дан невзвешенный связный граф. Вершины пронумерованы от 0. Трeбуется с помощью обхода в ширину найти расстояние от одной указанной вершины до другой."
   ]
  },
  {
   "cell_type": "code",
   "execution_count": 8,
   "metadata": {},
   "outputs": [
    {
     "name": "stdout",
     "output_type": "stream",
     "text": [
      "8 10 5 2\n",
      "4 7\n",
      "5 1\n",
      "0 1\n",
      "3 1\n",
      "0 2\n",
      "3 5\n",
      "3 4\n",
      "0 4\n",
      "4 6\n",
      "5 4\n",
      "3\n"
     ]
    }
   ],
   "source": [
    "from collections import deque\n",
    "\n",
    "vertexes, edges, start_v, end_v = map(int, input().split())  # наш граф\n",
    "graph = {v: set() for v in range(vertexes)}\n",
    "for _ in range(edges):\n",
    "    v1, v2 = map(int, input().split())\n",
    "    graph[v1].add(v2)\n",
    "    graph[v2].add(v1)\n",
    "    \n",
    "distances = [None] * vertexes  # расстояния до каждой вершины от стартовой\n",
    "distances[start_v] = 0  \n",
    "queue = deque([start_v])\n",
    "\n",
    "while queue:  # пока очередь не очистилась, считаем расстояние между каждой вершиной,\n",
    "    cur_v = queue.popleft()  # соединенной каким-либом путем со стартовой, и стартовой вершиной\n",
    "    for neighbour_v in graph[cur_v]:\n",
    "        if distances[neighbour_v] is None:\n",
    "            distances[neighbour_v] = distances[cur_v] + 1\n",
    "            queue.append(neighbour_v)\n",
    "            \n",
    "print(distances[end_v])  # расстояние от стартовой до конечной вершины"
   ]
  },
  {
   "cell_type": "markdown",
   "metadata": {},
   "source": [
    "## Дан невзвешенный неориентированный связный граф. Вершины пронумерованы от 0. Трeбуется с помощью обхода в ширину построить остовное дерево."
   ]
  },
  {
   "cell_type": "code",
   "execution_count": 27,
   "metadata": {},
   "outputs": [
    {
     "name": "stdout",
     "output_type": "stream",
     "text": [
      "6 7\n",
      "2 3\n",
      "2 0\n",
      "5 2\n",
      "1 0\n",
      "1 2\n",
      "5 1\n",
      "4 1\n",
      "0 1\n",
      "2 1\n",
      "3 2\n",
      "4 1\n",
      "5 1\n"
     ]
    }
   ],
   "source": [
    "from collections import deque\n",
    "\n",
    "vertexes, edges = map(int, input().split())  # наш граф\n",
    "graph = {v: set() for v in range(vertexes)}\n",
    "for _ in range(edges):\n",
    "    v1, v2 = map(int, input().split())\n",
    "    graph[v1].add(v2)\n",
    "    graph[v2].add(v1)\n",
    "    \n",
    "distances = [None] * vertexes  # расстояние от стартовой вершины (здесь нулевая)\n",
    "parents = {v: set() for v in range(vertexes)}  # список предков вершин\n",
    "start_v = max(graph.keys(), key=lambda k: len(graph[k]))  # вершина с большим числом ребер с большей\n",
    "distances[start_v] = 0  # вероятностью будет являться родоначальником остовного дерева\n",
    "queue = deque([start_v])\n",
    "\n",
    "while queue:  # пока очередь не очистилась, считаем расстояния до вершин, параллельно\n",
    "    cur_v = queue.popleft()  # запоминая предка каждой вершины\n",
    "    for neighbour_v in graph[cur_v]:\n",
    "        if distances[neighbour_v] is None:\n",
    "            distances[neighbour_v] = distances[cur_v] + 1\n",
    "            parents[neighbour_v].add(cur_v)  # т.к. неориентированный граф, у каждой вершины\n",
    "            queue.append(neighbour_v)  # может быть несколько предков\n",
    "            \n",
    "for par in parents:\n",
    "    if parents[par]:  # распечатываем все ребра остовного дерева\n",
    "        for child in parents[par]:\n",
    "            print(par, child)"
   ]
  },
  {
   "cell_type": "markdown",
   "metadata": {},
   "source": [
    "## Дан ориентированный граф. Вершины пронумерованы от 0. Трeбуется с помощью обхода в ширину найти цикл минимальной длины."
   ]
  },
  {
   "cell_type": "code",
   "execution_count": 23,
   "metadata": {},
   "outputs": [
    {
     "name": "stdout",
     "output_type": "stream",
     "text": [
      "8 8\n",
      "7 3\n",
      "3 1\n",
      "5 2\n",
      "6 4\n",
      "6 7\n",
      "4 7\n",
      "1 6\n",
      "1 2\n",
      "1 6 7 3\n"
     ]
    }
   ],
   "source": [
    "from collections import deque\n",
    "\n",
    "order, size = map(int, input().split())  # наш граф\n",
    "graph = {v : set() for v in range(order)}\n",
    "for _ in range(size):\n",
    "    v1, v2 = map(int, input().split())\n",
    "    graph[v1].add(v2)\n",
    "\n",
    "\n",
    "def bfs(start_v):  # функция для поиска в ширину\n",
    "    if graph[start_v]:  # если из вершины не выходят ребра, то пропускаем ее\n",
    "        parents = [None] * order  # список предков вершин\n",
    "        distances = [None] * order  # расстояния (здесь не очень нужны)\n",
    "        distances[start_v] = 0\n",
    "        queue = deque([start_v])  # очередь для записи вершин\n",
    "        while queue:\n",
    "            cur_v = queue.popleft()  # текущая вершина\n",
    "            for neighbour_v in graph[cur_v]:\n",
    "                if distances[neighbour_v] is None:  # если вершина не посещена, добавляем ее в \n",
    "                    distances[neighbour_v] = distances[cur_v] + 1  # соответствующие списки\n",
    "                    parents[neighbour_v] = cur_v\n",
    "                    queue.append(neighbour_v)\n",
    "                elif neighbour_v == start_v:  # если мы вернулись в изначальную вершину, то это\n",
    "                    path = [cur_v]  # значит, что мы нашли кратчайший цикл с ней\n",
    "                    parent = parents[cur_v]\n",
    "                    while not parent is None:  # сохраняем цикл\n",
    "                        path.append(parent)\n",
    "                        parent = parents[parent]\n",
    "                    return path[::-1]\n",
    "    return []\n",
    "\n",
    "\n",
    "cycles = []\n",
    "for start_v in graph:  # запускаем обход в ширину из каждой вершины\n",
    "    cycle = bfs(start_v)\n",
    "    if cycle:  # сохраняем все кратчайшие циклы\n",
    "        cycles.append(cycle)\n",
    "\n",
    "if not cycles:  # если циклов нет, то их нет =)\n",
    "    print('NO CYCLES')\n",
    "    exit(0)\n",
    "else:  # иначе сортируем их по длине, выбираем минимальный\n",
    "    cycles.sort(key=len)\n",
    "    print(*cycles[0])"
   ]
  },
  {
   "cell_type": "markdown",
   "metadata": {},
   "source": [
    "## Дана таблица, состоящая из N строк и M столбцов. В каждой клетке таблицы записано одно из чисел: 0 или 1.\n",
    "\n",
    "Расстоянием между клетками cell_1 = (x1, y1) и cell_2 = (x2, y2) назовём:\n",
    "\n",
    "**расстояние(cell_1, cell_2) = |x1 - x2| + |y1 - y2|.**\n",
    "\n",
    "Вам необходимо построить таблицу расстояний, в (i, j)-клетке которой будет записано минимальное расстояние между клеткой (i, j) начальной таблицы и клеткой, в которой записана единица. Гарантируется, что хотя бы одна единица в исходной таблице есть."
   ]
  },
  {
   "cell_type": "code",
   "execution_count": 31,
   "metadata": {
    "scrolled": true
   },
   "outputs": [
    {
     "name": "stdout",
     "output_type": "stream",
     "text": [
      "5 5\n",
      "0 0 1 0 0\n",
      "0 1 0 0 0\n",
      "0 0 0 1 0\n",
      "0 0 0 0 0\n",
      "1 0 0 0 1\n",
      "2 1 0 1 2\n",
      "1 0 1 1 2\n",
      "2 1 1 0 1\n",
      "1 2 2 1 1\n",
      "0 1 2 1 0\n"
     ]
    }
   ],
   "source": [
    "import itertools\n",
    "from collections import deque\n",
    "\n",
    "\n",
    "def bfs(start_v):  # функция для поиска в ширину\n",
    "    distances[start_v[0]][start_v[1]] = 0\n",
    "    queue = deque([start_v])  # очередь для записи вершин\n",
    "    while queue:\n",
    "        cur_v = queue.popleft()  # текущая вершина\n",
    "        for neighbour_v in graph[cur_v]:\n",
    "            # если вершина не посещена, добавляем ее в соответствующие списки\n",
    "            if (distances[neighbour_v[0]][neighbour_v[1]] is None\n",
    "                or  # или если обход с другой вершины дает меньшее значение, то обновляем его\n",
    "                distances[cur_v[0]][cur_v[1]] + 1 < distances[neighbour_v[0]][neighbour_v[1]]\n",
    "               ): \n",
    "                distances[neighbour_v[0]][neighbour_v[1]] = distances[cur_v[0]][cur_v[1]] + 1\n",
    "                queue.append(neighbour_v)\n",
    "\n",
    "\n",
    "N, M = map(int, input().split())  # размеры таблицы\n",
    "\n",
    "table = []  # таблица\n",
    "for _ in range(N):\n",
    "    table.append(list(map(int, input().split())))\n",
    "\n",
    "graph = {v : set() for v in itertools.product(range(N), range(M))}  # в графе ключи - координаты точек\n",
    "\n",
    "for i in range(N):  # каждая вершина связана ребрами с вершинами слева, справа, сверху и снизу\n",
    "    for j in range(M):\n",
    "        if i-1 >= 0:\n",
    "            graph[(i, j)].add((i-1, j))\n",
    "        if i+1 < N:\n",
    "            graph[(i, j)].add((i+1, j))\n",
    "        if j-1 >= 0:\n",
    "            graph[(i, j)].add((i, j-1))\n",
    "        if j+1 < M:\n",
    "            graph[(i, j)].add((i, j+1))\n",
    "\n",
    "distances = [[None for _ in range(M)] for _ in range(N)]  # список расстояний\n",
    "\n",
    "for vertex in graph:  # проверка, что значение вершины в таблице равно 1\n",
    "    if table[vertex[0]][vertex[1]] == 1:\n",
    "        bfs(vertex)\n",
    "            \n",
    "for i in range(N):\n",
    "    print(*distances[i])"
   ]
  },
  {
   "cell_type": "markdown",
   "metadata": {},
   "source": [
    "## На стандартной шахматной доске (8х8) живут 2 шахматных коня: Красный и Зеленый. Обычно они беззаботно скачут по просторам доски, пощипывая шахматную травку, но сегодня особенный день: у Зеленого коня День Рождения. Зеленый конь решил отпраздновать это событие вместе с Красным. Но для осуществления этого прекрасного плана им нужно оказаться на одной клетке. Заметим, что Красный и Зеленый шахматные кони сильно отличаются от черного с белым: они ходят не по очереди, а одновременно,и если оказываются на одной клетке, никто никого не съедает. Сколько ходов им потребуется, чтобы насладиться праздником?"
   ]
  },
  {
   "cell_type": "code",
   "execution_count": 37,
   "metadata": {},
   "outputs": [
    {
     "name": "stdout",
     "output_type": "stream",
     "text": [
      "b1 d8\n",
      "-1\n"
     ]
    }
   ],
   "source": [
    "from collections import deque\n",
    "\n",
    "letters = 'abcdefgh'  # создаем граф того, как конь может двигаться по доске\n",
    "numbers = '12345678'\n",
    "\n",
    "graph = dict()\n",
    "for l in letters:\n",
    "    for n in numbers:\n",
    "        graph[l+n] = set()\n",
    "        \n",
    "        \n",
    "def add_edge(v1, v2):\n",
    "    graph[v1].add(v2)\n",
    "    graph[v2].add(v1)\n",
    "        \n",
    "        \n",
    "for i in range(8):\n",
    "    for j in range(8):\n",
    "        v1 = letters[i] + numbers[j]\n",
    "        \n",
    "        if 0 <= i+2 < 8 and 0 <= j+1 < 8:\n",
    "            v2 = letters[i+2] + numbers[j+1]\n",
    "            add_edge(v1, v2)\n",
    "            \n",
    "        if 0 <= i-2 < 8 and 0 <= j+1 < 8:\n",
    "            v2 = letters[i-2] + numbers[j+1]\n",
    "            add_edge(v1, v2)\n",
    "            \n",
    "        if 0 <= i+1 < 8 and 0 <= j+2 < 8:\n",
    "            v2 = letters[i+1] + numbers[j+2]\n",
    "            add_edge(v1, v2)\n",
    "            \n",
    "        if 0 <= i-1 < 8 and 0 <= j+2 < 8:\n",
    "            v2 = letters[i-1] + numbers[j+2]\n",
    "            add_edge(v1, v2)\n",
    "            \n",
    "red, green = input().split()  # исходные точки красного и зеленого коней\n",
    "\n",
    "distances_red = {v: None for v in graph}\n",
    "distances_red[red] = 0\n",
    "distances_green = {v: None for v in graph}\n",
    "distances_green[green] = 0\n",
    "\n",
    "queue_red = deque([red])\n",
    "queue_green = deque([green])\n",
    "\n",
    "\n",
    "def bfs(start_v, queue, distances):  # поиск в ширину\n",
    "    while queue:  # пока очередь не очистилась, считаем расстояние между каждой вершиной,\n",
    "        cur_v = queue.popleft()  # соединенной каким-либом путем со стартовой, и стартовой вершиной\n",
    "        for neighbour_v in graph[cur_v]:\n",
    "            if distances[neighbour_v] is None:\n",
    "                distances[neighbour_v] = distances[cur_v] + 1\n",
    "                queue.append(neighbour_v)\n",
    "\n",
    "            \n",
    "bfs(red, queue_red, distances_red)\n",
    "bfs(green, queue_green, distances_green)\n",
    "\n",
    "min_dist = []\n",
    "for vertex in graph:  # если для какой-то вершины расстояния совпали, то записываем их\n",
    "    if distances_green[vertex] == distances_red[vertex]:\n",
    "        min_dist.append(distances_green[vertex])\n",
    "        \n",
    "if min_dist:  # если это множество непусто, печатаем минимальное расстояние\n",
    "    print(min(min_dist))\n",
    "else:  # если пусто, то кони не могут встретиться\n",
    "    print(-1)"
   ]
  }
 ],
 "metadata": {
  "kernelspec": {
   "display_name": "Python 3",
   "language": "python",
   "name": "python3"
  },
  "language_info": {
   "codemirror_mode": {
    "name": "ipython",
    "version": 3
   },
   "file_extension": ".py",
   "mimetype": "text/x-python",
   "name": "python",
   "nbconvert_exporter": "python",
   "pygments_lexer": "ipython3",
   "version": "3.8.2"
  }
 },
 "nbformat": 4,
 "nbformat_minor": 4
}
