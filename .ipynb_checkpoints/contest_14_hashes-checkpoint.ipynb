{
 "cells": [
  {
   "cell_type": "markdown",
   "metadata": {},
   "source": [
    "## Вам необходимо вычислить полиномиальный хеш от строки.\n",
    "\n",
    "Вычисления хеша выполнять по схеме справа-налево. То есть символу строки, стоящему на нулевой позиции, будет соответствовать самая большая степень основания, а символу, стоящему последним, будет соответствовать нулевая степень основания.\n",
    "\n",
    "Чтобы узнать порядковый номер (код) символа, воспользуйтесь функцией ord().\n",
    "\n",
    "Рекомендуется обернуть реализацию хеш-функции в функцию, чтобы воспользоваться ей в задачах по хеш-таблицам."
   ]
  },
  {
   "cell_type": "code",
   "execution_count": 17,
   "metadata": {},
   "outputs": [
    {
     "name": "stdout",
     "output_type": "stream",
     "text": [
      "3 1000\n",
      "abc\n",
      "266\n"
     ]
    }
   ],
   "source": [
    "def hash(base, mod, string):\n",
    "    \"\"\"\n",
    "    Function calculating hash-function of string with certain base by mod.\n",
    "    \"\"\"\n",
    "    value = 0\n",
    "    for pos, elem in enumerate(string[::-1]):  # считаем значение полинома\n",
    "        value += ord(elem) * base**pos         # в последней задаче сделано с помощью массива (динамика)\n",
    "    return value % mod\n",
    "\n",
    "\n",
    "base, mod = map(int, input().split())\n",
    "string = input()\n",
    "print(hash(base, mod, string))"
   ]
  },
  {
   "cell_type": "markdown",
   "metadata": {},
   "source": [
    "## Эта задача из серии по реализации ассоциативного массива на хеш-таблице с использованием цепочек для разрешения коллизий.\n",
    "\n",
    "Вам необходимо создать пустую хеш-таблицу и заполнить её входными значениями.\n",
    "\n",
    "Для заполнения таблицы рекомендуется реализовать функцию insert(table, key, value) - это будет ваша первая функция-интерфейс к таблице, позволяющая добавлять новые элементы в таблицу и перезаписывать старые. Другие две функции: удаление и поиск элемента предстоит сделать в других задачах.\n",
    "\n",
    "При реализации пользуйтесь хеш-таблицей следующего формата:"
   ]
  },
  {
   "cell_type": "code",
   "execution_count": 24,
   "metadata": {},
   "outputs": [
    {
     "name": "stdout",
     "output_type": "stream",
     "text": [
      "8\n",
      "YULIA I-course\n",
      "PAVEL II-course\n",
      "ANASTASIYA III-course\n",
      "DMITRIY PhD\n",
      "MARIYA VI-course\n",
      "IVAN IV-course\n",
      "NOBODY academ\n",
      "MARIYA PhD\n",
      "0\n",
      "90 ANASTASIYA III-course\n",
      "1\n",
      "91 MARIYA PhD\n",
      "2\n",
      "42 IVAN IV-course\n",
      "6\n",
      "16 PAVEL II-course\n",
      "6 DMITRIY PhD\n",
      "8\n",
      "28 YULIA I-course\n",
      "9\n",
      "59 NOBODY academ\n"
     ]
    }
   ],
   "source": [
    "def insert(table, key, value):\n",
    "    \"\"\"\n",
    "    Function to insert value to hash table.\n",
    "    \"\"\"\n",
    "    hash_value = hash(91, 100, key)  # считаем значение хеша для ключа\n",
    "    elem = [hash_value, key, value]  # в таком виде записываем в таблицу\n",
    "    mod = hash_value % 10  # по этим значениям распределяем по таблице с 10 строками\n",
    "    if table[mod]:  # если строка не пуста\n",
    "        flag = True  # маркер нахождения одинакового ключа\n",
    "        for i in range(len(table[mod])):\n",
    "            if table[mod][i][1] == key:  # если находим элемент с тем же ключом, то меняем его на elem\n",
    "                flag = False  # нашли одинаковый ключ\n",
    "                table[mod][i] = elem\n",
    "        if flag:  # если не нашли элемент с тем же ключом\n",
    "            table[mod].append(elem)  # то добавляем его в конец соответствующей строки\n",
    "    else:\n",
    "        table[mod].append(elem)  # если строка пустая, то добавляем elem в конец строки\n",
    "                \n",
    "\n",
    "hash_table = [[] for _ in range(10)]  # хеш табличка\n",
    "\n",
    "amount = int(input())  # считывание данных\n",
    "for i in range(amount):\n",
    "    key, value = input().split()\n",
    "    insert(hash_table, key, value)\n",
    "    \n",
    "for pos, elem in enumerate(hash_table):  # распетывание таблички\n",
    "    if elem:\n",
    "        print(pos)\n",
    "        for j in range(len(elem)):\n",
    "            print(*elem[j])"
   ]
  },
  {
   "cell_type": "markdown",
   "metadata": {},
   "source": [
    "## Эта задача из серии по реализации ассоциативного массива на хеш-таблице с использованием цепочек для разрешения коллизий.\n",
    "\n",
    "В задаче необходимо написать алгоритм поиска элемента по ключу."
   ]
  },
  {
   "cell_type": "code",
   "execution_count": 36,
   "metadata": {},
   "outputs": [],
   "source": [
    "def search(table, key):\n",
    "    \"\"\"\n",
    "    Function to search for given key in hash table.\n",
    "    \"\"\"\n",
    "    hash_value = hash(91, 100, key)\n",
    "    mod = hash_value % 10\n",
    "    for elem in table[mod]:\n",
    "        if elem[0] == hash_value and elem[1] == key:\n",
    "            return elem[2]\n",
    "    else:\n",
    "        return 'KeyError'"
   ]
  },
  {
   "cell_type": "markdown",
   "metadata": {},
   "source": [
    "## Эта задача из серии по реализации ассоциативного массива на хеш-таблице с использованием цепочек для разрешения коллизий.\n",
    "\n",
    "В задаче необходимо написать удаления элемента по ключу."
   ]
  },
  {
   "cell_type": "code",
   "execution_count": 39,
   "metadata": {},
   "outputs": [],
   "source": [
    "def remove(table, key):\n",
    "    \"\"\"\n",
    "    Function to remove given key in hash table if it's presented in it.\n",
    "    \"\"\"\n",
    "    hash_value = hash(91, 100, key)\n",
    "    mod = hash_value % 10\n",
    "    for i, elem in enumerate(table[mod]):\n",
    "        if elem[0] == hash_value and elem[1] == key:\n",
    "            to_trash = elem[2]\n",
    "            del table[mod][i]\n",
    "            return to_trash\n",
    "    else:\n",
    "        return 'KeyError'"
   ]
  },
  {
   "cell_type": "markdown",
   "metadata": {},
   "source": [
    "## Найти все вхождения строки A в строке B, используя алгоритм Рабина-Карпа. Строки состоят из строчных и прописных английских букв.\n",
    "\n",
    "Примечание: для вывода массива чисел рекомендуется использовать print(\" \".join(map(str, numbers))). Многократный вызов print в цикле может привести к TL."
   ]
  },
  {
   "cell_type": "code",
   "execution_count": 44,
   "metadata": {},
   "outputs": [
    {
     "name": "stdout",
     "output_type": "stream",
     "text": [
      "aaa\n",
      "aaaaa\n",
      "0 1 2\n"
     ]
    }
   ],
   "source": [
    "base = 91\n",
    "mod = 1000000321\n",
    "\n",
    "\n",
    "def code(symbol):\n",
    "    \"\"\"\n",
    "    Function calcularing Unicode code of symbol.\n",
    "    \"\"\"\n",
    "    return ord(symbol) - ord('a') + 1\n",
    "\n",
    "\n",
    "def poly_hash(string):\n",
    "    \"\"\"\n",
    "    Function calculating hash-function of string with certain base by mod.\n",
    "    \"\"\"\n",
    "    values = [0]\n",
    "    for elem in string:  # последовательно считаем значения хеш-функции на префиксах строки\n",
    "        values.append( ((values[-1]*base) + code(elem))  % mod )\n",
    "    return values\n",
    "\n",
    "\n",
    "target = input()  # ввод данных\n",
    "text = input()\n",
    "len_target = len(target)\n",
    "len_text = len(text)\n",
    "\n",
    "hash_target = poly_hash(target)[-1]  # хеш искомой строки\n",
    "hash_text = poly_hash(text)  # хеши префиксов строки, в которой ищем таргет\n",
    "\n",
    "indexes = []  # массив с местами вхождения таргета в тексте\n",
    "tmp = base**len_target % mod  # смотри ссылку\n",
    "for i in range(0, -len_target + len_text + 1):  # сравниваем хеши подстрок с хешем таргета\n",
    "    if (hash_target ==\n",
    "        (hash_text[i + len_target] - hash_text[i]*tmp) % mod):  # если совпадает, то записываем позицию\n",
    "        indexes.append(i)\n",
    "        \n",
    "if indexes:  # печать позиций\n",
    "    print(\" \".join(map(str, indexes)))\n",
    "else:\n",
    "    print(-1)"
   ]
  }
 ],
 "metadata": {
  "kernelspec": {
   "display_name": "Python 3",
   "language": "python",
   "name": "python3"
  },
  "language_info": {
   "codemirror_mode": {
    "name": "ipython",
    "version": 3
   },
   "file_extension": ".py",
   "mimetype": "text/x-python",
   "name": "python",
   "nbconvert_exporter": "python",
   "pygments_lexer": "ipython3",
   "version": "3.7.5"
  }
 },
 "nbformat": 4,
 "nbformat_minor": 2
}
