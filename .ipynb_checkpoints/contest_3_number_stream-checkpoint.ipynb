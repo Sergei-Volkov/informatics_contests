{
 "cells": [
  {
   "cell_type": "markdown",
   "metadata": {},
   "source": [
    "## Необходимо найти НОД двух чисел, используя алгоритм Евклида."
   ]
  },
  {
   "cell_type": "code",
   "execution_count": 5,
   "metadata": {},
   "outputs": [
    {
     "name": "stdin",
     "output_type": "stream",
     "text": [
      " 1\n",
      " 2\n"
     ]
    },
    {
     "name": "stdout",
     "output_type": "stream",
     "text": [
      "1\n"
     ]
    }
   ],
   "source": [
    "a = int(input())\n",
    "b = int(input())\n",
    "\n",
    "while b != 0:\n",
    "    a, b = b, a % b\n",
    "    \n",
    "print(a)"
   ]
  },
  {
   "cell_type": "markdown",
   "metadata": {},
   "source": [
    "## Посчитать количество четных чисел в последовательсти. Последовательность целых чисел заканчивается нулём. Ноль не входит в последовательность."
   ]
  },
  {
   "cell_type": "code",
   "execution_count": 4,
   "metadata": {},
   "outputs": [
    {
     "name": "stdin",
     "output_type": "stream",
     "text": [
      " 1\n",
      " -1\n",
      " 0\n"
     ]
    },
    {
     "name": "stdout",
     "output_type": "stream",
     "text": [
      "0\n"
     ]
    }
   ],
   "source": [
    "sum = 0\n",
    "number = int(input())\n",
    "\n",
    "while number != 0:\n",
    "    if number % 2 == 0:\n",
    "        sum += 1\n",
    "    number = int(input())\n",
    "    \n",
    "print(sum)"
   ]
  },
  {
   "cell_type": "markdown",
   "metadata": {},
   "source": [
    "## Выборочные моменты\n",
    "Математическая статистика -- очень важная область математики. В ней говорится, как оценивать значения различных случайных величин, зная только, какие значения эти самые величины принимали. На ней базируются обработка данных физических экспериментов, социологических опросов, построение прогнозов погоды, создание искуственного интеллекта и огромное количество других важных практических задач.\n",
    "\n",
    "Одни из основных понятий, которыми оперирует математичесткая статистика - это распределения случайных величин, а точнее некоторые параметры (моменты) этих распределений. Оцениваются эти моменты по выборке - тем значениям из распределения, которые мы получили в результате эксперимента.\n",
    "\n",
    "Вам даны данные некоторого эксперимента X. По этим данным вам необходимо оценить два наиболее важных момента - выборочное средее M(X) и выборочную дисперсию D(X). Выборочное среднее M(X) считается, как среднее арифметическое всех чисел в выборке. Выборочная дисперсия равна среднему квадрату отклонения величины от ее выборочного матожидания D(X)=M(X-M(X)). Путем нехитрых преобразований можно привести эту пормулу к более простой: D(X)=M(X 2 )-(M(X)) 2 , где X 2 - квадраты значений в выборке. Размер выборки не превосходит 10 5 , величины не превосходят по модулю 1000. "
   ]
  },
  {
   "cell_type": "code",
   "execution_count": 9,
   "metadata": {},
   "outputs": [
    {
     "name": "stdin",
     "output_type": "stream",
     "text": [
      " 1\n",
      " 1\n",
      " 1\n",
      " 1\n",
      " 0\n"
     ]
    },
    {
     "name": "stdout",
     "output_type": "stream",
     "text": [
      "1.0 0.0\n"
     ]
    }
   ],
   "source": [
    "sum = 0\n",
    "sq_sum = 0\n",
    "i = 0\n",
    "number = int(input())\n",
    "\n",
    "while number != 0:\n",
    "    sum += number\n",
    "    sq_sum += number**2\n",
    "    i += 1\n",
    "    number = int(input())\n",
    "    \n",
    "mx2 = float(sq_sum / i)\n",
    "mx = float(sum / i)\n",
    "dispersion = mx2 - mx**2\n",
    "print(round(mx, 3), round(dispersion, 3))"
   ]
  },
  {
   "cell_type": "markdown",
   "metadata": {},
   "source": [
    "## Найти суммы двух минимальных и двух максимальных элементов в данном списке натуральных чисел.\n",
    "\n",
    "В данной задаче не следует запоминать все числа в память, в том числе использовать массив или список в явной форме. Поиск двух максимальных и двух минимальных чисел должен производиться однопроходным алгоритмом."
   ]
  },
  {
   "cell_type": "code",
   "execution_count": 2,
   "metadata": {},
   "outputs": [
    {
     "name": "stdin",
     "output_type": "stream",
     "text": [
      " 6\n",
      " 7 1 9 4 2 3\n"
     ]
    },
    {
     "name": "stdout",
     "output_type": "stream",
     "text": [
      "3 16\n"
     ]
    }
   ],
   "source": [
    "N = int(input())\n",
    "numbers = input().split(' ')\n",
    "#print(numbers)\n",
    "\n",
    "max1 = 0\n",
    "max2 = -1\n",
    "min1 = 10**6 + 1\n",
    "min2 = 10**6 + 2\n",
    "\n",
    "for number in numbers:\n",
    "    number = int(number)\n",
    "    \n",
    "    if number > max1:\n",
    "        max1, max2 = number, max1\n",
    "    elif number > max2:\n",
    "        max2 = number\n",
    "    elif number <= max2:\n",
    "        max1, max2 = max1, max2\n",
    "    #print('max1 = {}'.format(max1), 'max2 = {}'.format(max2))\n",
    "    \n",
    "    if number < min1:\n",
    "        min1, min2 = number, min1\n",
    "    elif number < min2:\n",
    "        min2 = number\n",
    "    elif number >= min2:\n",
    "        min1, min2 = min1, min2\n",
    "    #print('min1 = {}'.format(min1), 'min2 = {}'.format(min2))\n",
    "    \n",
    "    #print('number = {}'.format(number))\n",
    "\n",
    "print(min1+min2, max1+max2)"
   ]
  },
  {
   "cell_type": "markdown",
   "metadata": {},
   "source": [
    "## Количество элементов, не равных максимальному\n",
    "На вход вашей программе подается последовательность целых чисел, заканчивающаяся нулем. Необходимо найти количество элементов этой последовательности, не равных максимальному значению в ней. Длина последовательности не превосходит 10 6 . Сами числа по модулю не превосходят 1000. Гарантируется, что последовательность содержит хотя бы один элемент."
   ]
  },
  {
   "cell_type": "code",
   "execution_count": 5,
   "metadata": {},
   "outputs": [
    {
     "name": "stdin",
     "output_type": "stream",
     "text": [
      " 1\n",
      " 2\n",
      " 3\n",
      " 4\n",
      " 5\n",
      " 0\n"
     ]
    },
    {
     "name": "stdout",
     "output_type": "stream",
     "text": [
      "4\n"
     ]
    }
   ],
   "source": [
    "number = int(input())\n",
    "\n",
    "maximum = -10000\n",
    "i = 0\n",
    "k = 0\n",
    "\n",
    "while number != 0:\n",
    "    if number == maximum:\n",
    "        i += 1\n",
    "    if number > maximum:\n",
    "        maximum = number\n",
    "        i = 1\n",
    "    number = int(input())\n",
    "    k += 1\n",
    "    \n",
    "print(k - i)"
   ]
  },
  {
   "cell_type": "markdown",
   "metadata": {},
   "source": [
    "## Необходимо найти максимальное число в строке. Число - это последовательно идущие цифры десятичной системы счисления. "
   ]
  },
  {
   "cell_type": "code",
   "execution_count": 28,
   "metadata": {},
   "outputs": [
    {
     "name": "stdin",
     "output_type": "stream",
     "text": [
      " 48 A137HB\n"
     ]
    },
    {
     "name": "stdout",
     "output_type": "stream",
     "text": [
      "137\n"
     ]
    }
   ],
   "source": [
    "import re\n",
    "string = input()\n",
    "\n",
    "temp = re.findall('[-+]?\\d+', string) \n",
    "numbers = list(map(int, temp))\n",
    "\n",
    "print(max(numbers))"
   ]
  },
  {
   "cell_type": "markdown",
   "metadata": {},
   "source": [
    "## Допустим (в рамках задачи), что в некоторой стране зарплата сотрудника дорожной патрульной службы состоит из штрафов, накладываемых на водителей за превышение скорости в 60 км/ч, штраф напрямую зависит от номера автомобиля, а рабочий день заканчивается с приездом начальника, при этом начальника штрафовать нельзя независимо от его скорости. Требуется посчитать зарплату сотрудника за день. Требуется посчитать зарплату сотрудника за день."
   ]
  },
  {
   "cell_type": "code",
   "execution_count": 36,
   "metadata": {},
   "outputs": [
    {
     "name": "stdin",
     "output_type": "stream",
     "text": [
      " 80 E101PA\n",
      " 61 M555OH\n",
      " 60 H222OM\n",
      " 10 A999AA\n"
     ]
    },
    {
     "name": "stdout",
     "output_type": "stream",
     "text": [
      "1500\n"
     ]
    }
   ],
   "source": [
    "string = input()\n",
    "salary = 0\n",
    "\n",
    "while string[-6:] != 'A999AA':\n",
    "    if int(string.replace(string[-7:], '')) > 60:\n",
    "        if string[-3] == string[-4] == string[-5]:\n",
    "            salary += 1000\n",
    "        elif string[-3] == string[-4] or string[-4] == string[-5] or string[-3] == string[-5]:\n",
    "            salary += 500\n",
    "        else:\n",
    "            salary += 100\n",
    "    string = input()\n",
    "\n",
    "print(salary)"
   ]
  },
  {
   "cell_type": "markdown",
   "metadata": {},
   "source": [
    "## Длина очереди\n",
    "Вася захотел купить себе новый iPhone в первый день продаж. Однако, как часто бывает в первый день продаж, когда он пришел в магазин, стояла уже огромная очередь. Чтобы как-то провести время, он стал считать, людей, которых он видит. Очередь стоит в одну цепочку, поэтому Вася не может видеть низкого человека, если в очереди он стоит после высокого. Вам дан рост людей в очереди, нужно сказать, сколько людей видит Вася. Известно, что длина очереди не превосходит 10 5 ."
   ]
  },
  {
   "cell_type": "code",
   "execution_count": 45,
   "metadata": {},
   "outputs": [
    {
     "name": "stdin",
     "output_type": "stream",
     "text": [
      " 1\n",
      " 2\n",
      " 5\n",
      " 4\n",
      " 3\n",
      " 0\n"
     ]
    },
    {
     "name": "stdout",
     "output_type": "stream",
     "text": [
      "3\n"
     ]
    }
   ],
   "source": [
    "number = int(input())\n",
    "\n",
    "maximum = number\n",
    "k = 1\n",
    "\n",
    "while number != 0:\n",
    "    number = int(input())\n",
    "    if number > maximum:\n",
    "        maximum = number\n",
    "        k += 1\n",
    "\n",
    "print(k)"
   ]
  },
  {
   "cell_type": "markdown",
   "metadata": {},
   "source": [
    "## Перевести число из него-десятичной системы счисления в десятичную."
   ]
  },
  {
   "cell_type": "code",
   "execution_count": 59,
   "metadata": {},
   "outputs": [
    {
     "name": "stdin",
     "output_type": "stream",
     "text": [
      " 46\n"
     ]
    },
    {
     "name": "stdout",
     "output_type": "stream",
     "text": [
      "-34\n"
     ]
    }
   ],
   "source": [
    "number = input()\n",
    "\n",
    "absolute = str(abs(int(number)))\n",
    "decimal = 0\n",
    "\n",
    "for i, digit in enumerate(absolute):\n",
    "    decimal += int(digit) * (-10)**(len(absolute) - i - 1)\n",
    "\n",
    "sign = 0\n",
    "if int(number) < 0:\n",
    "    sign = -1\n",
    "else:\n",
    "    sign = 1\n",
    "    \n",
    "print(sign * decimal)"
   ]
  },
  {
   "cell_type": "markdown",
   "metadata": {},
   "source": [
    "## В вавилонской системе счисления для записи чисел внутри 60-ричного разряда использовались всего два знака: стоячий клин \"v\" (латинская строчная v) для обозначения единиц и лежачий клин \"<\" (знак строго меньше) для обозначения десятков. Для формирования разряда сначала выписывалось количество десятков, а затем количество единиц. Разряды вавилоняне разделяли пустым пространством, однако мы будем использовать для этого точку \".\". Если какой-то разряд отсутствовал, на его месте ничего не писалось. Вам требуется записать поданное на вход число в вавилонской системе."
   ]
  },
  {
   "cell_type": "code",
   "execution_count": 82,
   "metadata": {},
   "outputs": [
    {
     "name": "stdin",
     "output_type": "stream",
     "text": [
      " 57\n"
     ]
    },
    {
     "name": "stdout",
     "output_type": "stream",
     "text": [
      "<<<<<vvvvvvv\n"
     ]
    }
   ],
   "source": [
    "number = int(input())\n",
    "babylonian = ''\n",
    "\n",
    "if number < 60:\n",
    "    print(number // 10 * '<' + number % 10 * 'v')\n",
    "else:\n",
    "    while number // 60 != 0:\n",
    "        if number % 60 != 0:\n",
    "            babylonian = (number % 60) // 10 * '<' + (number % 60) % 10 * 'v' + '.' + babylonian\n",
    "        else:\n",
    "            babylonian = '.' + babylonian\n",
    "        number = number // 60\n",
    "    babylonian = 'v' * number + '.' + babylonian\n",
    "    print(babylonian[:-1])"
   ]
  }
 ],
 "metadata": {
  "kernelspec": {
   "display_name": "Python 3",
   "language": "python",
   "name": "python3"
  },
  "language_info": {
   "codemirror_mode": {
    "name": "ipython",
    "version": 3
   },
   "file_extension": ".py",
   "mimetype": "text/x-python",
   "name": "python",
   "nbconvert_exporter": "python",
   "pygments_lexer": "ipython3",
   "version": "3.7.5"
  }
 },
 "nbformat": 4,
 "nbformat_minor": 2
}
