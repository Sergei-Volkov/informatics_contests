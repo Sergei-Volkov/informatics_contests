{
 "cells": [
  {
   "cell_type": "markdown",
   "metadata": {},
   "source": [
    "## Вывести n -ое число Фибоначчи. Считать fib(0) = fib(1) = 1. Запрещено использование циклов.\n",
    "\n",
    "Помните: если не будете использовать кэширование, ваше решение не пройдёт по времени!"
   ]
  },
  {
   "cell_type": "code",
   "execution_count": 4,
   "metadata": {},
   "outputs": [
    {
     "name": "stdout",
     "output_type": "stream",
     "text": [
      "5\n",
      "8\n"
     ]
    }
   ],
   "source": [
    "number = int(input()) ## getting number\n",
    "\n",
    "memory = [1, 1] + [0] * (number - 1) ## list of memorised fibbonachi numbers\n",
    "\n",
    "def fib_dinamic(n):\n",
    "    '''\n",
    "        Function calculating n-th Fibbonachi number using dynamic programming.\n",
    "        \n",
    "        Input:\n",
    "        \n",
    "        n - int, >= 0\n",
    "        \n",
    "        Output:\n",
    "        \n",
    "        n-th Fibbonachi number\n",
    "    '''\n",
    "    \n",
    "    if memory[n] != 0: ## if number has been already calculated,\n",
    "        return memory[n] ## return it's value\n",
    "    \n",
    "    else: ## else calculate it using formula of sequence\n",
    "        memory[n] = fib_dinamic(n - 1) + fib_dinamic(n - 2)\n",
    "    \n",
    "    return memory[n] ## return calculated value\n",
    "\n",
    "print(fib_dinamic(number))"
   ]
  },
  {
   "cell_type": "markdown",
   "metadata": {},
   "source": [
    "## Кузнечик стоит на первой клетке n клеток, выстроенных в цепочку, и собирается допрыгать до последней клетки номер n . В каждой клетке записано число. Кузнечик может прыгать вперёд либо на 1 клетку, либо на число клеток, записанное в текущей клетке. Сколько способов у кузнечика выполнить свою задачу?"
   ]
  },
  {
   "cell_type": "code",
   "execution_count": 23,
   "metadata": {},
   "outputs": [
    {
     "name": "stdout",
     "output_type": "stream",
     "text": [
      "3\n",
      "2 2 1\n",
      "2\n"
     ]
    }
   ],
   "source": [
    "length = int(input()) ## getting length of path and values written\n",
    "chain = list( map( int, input().split() ) ) ## in each cell \n",
    "\n",
    "counter = [0] * length ## array, counting how many paths came \n",
    "counter[0] = 1 ## to each cell\n",
    "\n",
    "for i in range(length - 1):\n",
    "    \n",
    "    if chain[i] + i < length: ## if we can jump, do it\n",
    "        counter[chain[i] + i] += counter[i]\n",
    "        \n",
    "    if chain[i] != 1: ## count path created by going 1 cell further\n",
    "        \n",
    "        counter[i + 1] += counter[i]\n",
    "        \n",
    "        \n",
    "\n",
    "print(counter[-1] % 937)"
   ]
  },
  {
   "cell_type": "markdown",
   "metadata": {},
   "source": [
    "## Кузнечик стоит на цепочке n клеток в первой клетке и собирается допрыгать до клетки номер n . Клетки покрашены в разные цвета. Кузнечик тоже. Кузнечик может прыгать либо на одну клетку либо на две, но только на клетку своего цвета. На некоторых клетках расставлены банки с краской, кузнечик может перекрасится на такой клетке, если хочет. Сколько способов у кузнечика выполнить свою задачу? Кузнечик никогда не использует банки с краской того же цвета что и он сам, зачем зря тратить краску?"
   ]
  },
  {
   "cell_type": "code",
   "execution_count": 46,
   "metadata": {},
   "outputs": [
    {
     "name": "stdout",
     "output_type": "stream",
     "text": [
      "4\n",
      "1 1 2 2\n",
      "2 2 2 2\n",
      "3\n"
     ]
    }
   ],
   "source": [
    "length = int(input()) \n",
    "colors = list( map( int, input().split() ) )\n",
    "cans = list( map( int, input().split() ) )\n",
    "default_color = colors[0]\n",
    "\n",
    "counter = [0] * length ## array, counting how many paths came \n",
    "counter[0] = 1 ## to each cell\n",
    "\n",
    "for i in range(length - 1):\n",
    "    \n",
    "    ## if next cell is of same color or there's can with same color on this cell\n",
    "    ## than this route is ok\n",
    "    if colors[i] == colors[i + 1] or cans[i] == colors[i + 1]:\n",
    "        counter[i + 1] += counter[i]\n",
    "        \n",
    "    ## if 2 steps away cell is of same color or there's can with same color\n",
    "    ## on this cell than this route is ok\n",
    "    if (i + 2 < length) and (colors[i] == colors[i + 2] or cans[i] == colors[i + 2]):\n",
    "        counter[i + 2] += counter[i]\n",
    "    \n",
    "    \n",
    "    \n",
    "print(counter[-1] % 947)"
   ]
  },
  {
   "cell_type": "markdown",
   "metadata": {},
   "source": [
    "## Герою компьютерной игры нужно перебраться от одного края экрана к другому, перепрыгивая по платформам. При этом при прыжке с одной платформы на соседнюю, у героя уходит |y2-y1| единиц энергии, где y1 и y2 – высоты, на которых расположены эти платформы. Кроме того, у героя есть суперприем, который позволяет перескочить через платформу, но на это затрачивается 3*|y3-y1| единиц энергии. Конечно же, энергию следует расходовать максимально экономно.\n",
    "\n",
    "Вам известны высоты всех платформ в порядке от левого края до правого. Необходимо найти, какое минимальное количество энергии потребуется герою, чтобы добраться с первой платформы до последней."
   ]
  },
  {
   "cell_type": "code",
   "execution_count": 7,
   "metadata": {},
   "outputs": [
    {
     "name": "stdout",
     "output_type": "stream",
     "text": [
      "3\n",
      "1\n",
      "5\n",
      "10\n",
      "9\n"
     ]
    }
   ],
   "source": [
    "amount = int(input()) ## amount of platforms\n",
    "\n",
    "if amount == 1: ## if amount of platforms equals 1, than\n",
    "    print(0)    ## amount of energy is 0\n",
    "    exit(0)\n",
    "    \n",
    "heights = []\n",
    "\n",
    "for i in range(amount): ## height of each platform\n",
    "    heights.append(int(input()))\n",
    "    \n",
    "counter = [0] * amount ## counter for min energy\n",
    "counter[0], counter[1] = 0, abs(heights[1] - heights[0])\n",
    "\n",
    "for i in range(2, amount): ## fulling counter\n",
    "    counter[i] = min( counter[i - 2] + 3 * abs(heights[i] - heights[i - 2]), counter[i - 1] + abs(heights[i] - heights[i - 1]) )\n",
    "    \n",
    "    \n",
    "    \n",
    "print(counter[-1]) ## min energy value"
   ]
  },
  {
   "cell_type": "markdown",
   "metadata": {},
   "source": [
    "## При переработке радиоактивных материалов образуются отходы двух видов — особо опасные (тип A) и неопасные (тип B). Для их хранения используются одинаковые контейнеры. После помещения отходов в контейнеры, последние укладываются вертикальной стопкой. Стопка считается взрывоопасной, если в ней подряд идет более двух контейнеров типа A. Для заданного количества контейнеров N определить число безопасных стопок."
   ]
  },
  {
   "cell_type": "code",
   "execution_count": 1,
   "metadata": {},
   "outputs": [
    {
     "name": "stdout",
     "output_type": "stream",
     "text": [
      "5\n",
      "24\n"
     ]
    }
   ],
   "source": [
    "amount = int(input())\n",
    "\n",
    "if amount == 1:\n",
    "    print(2)\n",
    "    exit(0)\n",
    "\n",
    "## counter[amount][prelast digit][last digit]\n",
    "counter = [ [ [ 0 for _ in range(2) ] for _ in range(2) ] for _ in range(amount + 1) ]\n",
    "\n",
    "## initials, this variants are the only\n",
    "counter[2][0][0], counter[2][1][0], counter[2][0][1], counter[2][1][1] = 1, 1, 1, 1\n",
    "\n",
    "for i in range(3, amount + 1): ## inversed !!!\n",
    "    counter[i][0][0] = counter[i - 1][0][0] + counter[i - 1][1][0] ## 00 -> 001 or 000\n",
    "    counter[i][0][1] = counter[i - 1][0][0] + counter[i - 1][1][0] ## 01 -> 010 or 011\n",
    "    counter[i][1][0] = counter[i - 1][0][1] + counter[i - 1][1][1] ## 10 -> 101 or 100\n",
    "    counter[i][1][1] = counter[i - 1][0][1]                        ## 11 -> 110 only\n",
    "\n",
    "print(counter[amount][0][0] + counter[amount][1][0] +\n",
    "      counter[amount][0][1] + counter[amount][1][1])"
   ]
  },
  {
   "cell_type": "code",
   "execution_count": null,
   "metadata": {},
   "outputs": [],
   "source": []
  },
  {
   "cell_type": "markdown",
   "metadata": {},
   "source": [
    "## Саша, не сделал домашнюю работу, зато купил шоколадку. И, по глупости, начал распечатывать ее прямо на уроке... Шелест золотинки услышала учительница. Она хотела вызвать в школу родителей, но Саша уговорил ее не вызывать их, а дать дополнительное задание.\n",
    "\n",
    "Учительница внимательно посмотрела на шоколадку (она была размером 3х4 плиток), разделила на кусочки по две плитки и угостила всех, кто сделал домашнюю работу. А Сашу попросила написать программу, которая определяет, сколько существует способов деления шоколадки размером 3×N плиток на кусочки по две плитки.\n",
    "\n",
    "Для выполнения задания Саше нужна помощь.\n",
    "\n",
    "Примечание: все плитки в шоколадке пронумерованы, поэтому способы деления, симметричные относительно точки или оси могут будут разными."
   ]
  },
  {
   "cell_type": "code",
   "execution_count": 12,
   "metadata": {},
   "outputs": [
    {
     "name": "stdout",
     "output_type": "stream",
     "text": [
      "2\n",
      "3\n"
     ]
    }
   ],
   "source": [
    "length = int(input()) ## length of chocolate bar\n",
    "\n",
    "if length % 2 != 0 or length == 0: ## if length is equal zero\n",
    "    print(0)                       ## or it's odd, than there's\n",
    "    exit(0)                        ## no variants to chop it\n",
    "    \n",
    "counter = [0 for _ in range(length + 1)] ## counter of variants\n",
    "counter[0], counter[2] = 1, 3\n",
    "\n",
    "adding = 2 * counter[0] ## if lenfth is bigger than to we have \n",
    "                        ## squares in between of rectangles 2x3\n",
    "\n",
    "for i in range(4, length + 2, 2): ## summing rectangles 2x3 and addings\n",
    "    counter[i] = 3 * counter[i - 2] + adding\n",
    "    adding += 2 * counter[i - 2]\n",
    "\n",
    "print(counter[-1]) ## amount of variants"
   ]
  }
 ],
 "metadata": {
  "kernelspec": {
   "display_name": "Python 3",
   "language": "python",
   "name": "python3"
  },
  "language_info": {
   "codemirror_mode": {
    "name": "ipython",
    "version": 3
   },
   "file_extension": ".py",
   "mimetype": "text/x-python",
   "name": "python",
   "nbconvert_exporter": "python",
   "pygments_lexer": "ipython3",
   "version": "3.7.5"
  }
 },
 "nbformat": 4,
 "nbformat_minor": 2
}
