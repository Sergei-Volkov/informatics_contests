{
 "cells": [
  {
   "cell_type": "markdown",
   "metadata": {},
   "source": [
    "## Дан взвешенный связный граф. Вершины нумеруются с нуля. Трeбуется с помощью алгоритма Дейкстры восстановить кратчайший путь от вершины s до вершины f."
   ]
  },
  {
   "cell_type": "code",
   "execution_count": 12,
   "metadata": {},
   "outputs": [
    {
     "name": "stdout",
     "output_type": "stream",
     "text": [
      "4 5 0 3\n",
      "0 1 10\n",
      "0 2 40\n",
      "1 2 15\n",
      "0 3 20\n",
      "3 1 5\n",
      "0 1 3\n"
     ]
    }
   ],
   "source": [
    "from collections import deque\n",
    "\n",
    "order, size, start, finish = map(int, input().split())  # размеры графа, стартовая и конечная вершины\n",
    "graph = dict()\n",
    "\n",
    "\n",
    "def add_edge(graph, v1, v2, weight):  # функция добавления ребра в граф\n",
    "    if v1 not in graph:  # если вершины еще нет в графе, добавляем ее и взвешенное ребро\n",
    "        graph[v1] = {v2 : weight}\n",
    "    else:  # если вершина уже есть в графе, то добавляем в список взвешенное ребро\n",
    "        graph[v1][v2] = weight\n",
    "        \n",
    "\n",
    "def create_graph():  # функция для считывания неориентированного графа\n",
    "    for _ in range(size):  # считывание ввода\n",
    "        v1, v2, weight = map(int, input().split())\n",
    "        add_edge(graph, v1, v2, weight)  # добавление соответствующих ребер и вершин в граф\n",
    "        add_edge(graph, v2, v1, weight)\n",
    "\n",
    "\n",
    "def dijkstra(graph, start):  # стандартный алгоритм Дейкстра\n",
    "    queue = deque([start])  # очередь для вершин\n",
    "    distances = dict()  # список минимальных расстояний до вершин от вершины start\n",
    "    distances[start] = 0  # расстояние до самой точки start равно нулю\n",
    "    while queue:  # пока очередь не опустела, продолжаем обход\n",
    "        cur_v = queue.popleft()  # текущая вершина - верхняя из очереди\n",
    "        for neigh_v in graph[cur_v]:  # проверяем ее соседей\n",
    "            if (neigh_v not in distances  # если соседняя вершина еще не посещена или\n",
    "                or                        # уже записанное расстояние до нее больше чем соответствуюшее \n",
    "                distances[cur_v] + graph[cur_v][neigh_v] < distances[neigh_v] # значение при проходе по ребру,\n",
    "               ):  # то обновляем значение на новое меньшее\n",
    "                distances[neigh_v] = distances[cur_v] + graph[cur_v][neigh_v]\n",
    "                queue.append(neigh_v)  # и добавляем вершину в очередь\n",
    "    return distances\n",
    "\n",
    "\n",
    "def min_path(graph, start, finish):  # функция для поиска минимального пути из вершины start в вершину finish\n",
    "    distances = dijkstra(graph, start)  # список минимальных расстояний от вершины start\n",
    "    cur_v = finish  # идем от вершины finish\n",
    "    min_path = [finish]  # нужный путь (написанный наоборот)\n",
    "    while cur_v != start:  # продолжаем путь, пока не придем в вершину start\n",
    "        for neigh_v in graph[cur_v]:\n",
    "            # проверяем для соседних вершин, равно ли записанное для них расстояние сумме расстояния от\n",
    "            if distances[cur_v] == distances[neigh_v] + graph[neigh_v][cur_v]:  # текущей вершины и веса ребра\n",
    "                min_path.append(neigh_v)  # если это выполнено, то вершина - часть минимального пути\n",
    "                cur_v = neigh_v  # меняем текущую вершину\n",
    "                break  # выходим из цикла по соседним вершинам\n",
    "    return min_path[::-1]  # возвращаем нужный путь\n",
    "\n",
    "\n",
    "create_graph()\n",
    "print(*min_path(graph, start, finish))"
   ]
  },
  {
   "cell_type": "markdown",
   "metadata": {},
   "source": [
    "## Алгоритм Форда-Беллмана. Дан ориентированный взвешенный граф и номер стартовой вершины. Вершины нумеруются с нуля. Необходимо определить кратчашие расстояния от неё до остальных вершин."
   ]
  },
  {
   "cell_type": "code",
   "execution_count": 27,
   "metadata": {
    "scrolled": false
   },
   "outputs": [
    {
     "name": "stdout",
     "output_type": "stream",
     "text": [
      "4 3 1\n",
      "1 3 -204\n",
      "2 3 176\n",
      "3 0 560\n",
      "356 0 10000000000 -204\n",
      "356 0 UDF -204\n"
     ]
    }
   ],
   "source": [
    "# ДАЖЕ НЕ ДУМАЙТЕ ЭТО РЕШАТЬ САМИ, БЕРИТЕ ГОТОВЫЙ ВАРИАНТ, И ВСЕ!!!\n",
    "# НЕ ИГРАЙТЕ СО СВОИМИ НЕРВАМИ!!! ОНИ ДОРОЖЕ!!!\n",
    "\n",
    "\n",
    "order, size, start = map(int, input().split())  # размеры графа и стартовая вершина для обхода\n",
    "\n",
    "edges = []  # список ребер (взвешенных)\n",
    "for _ in range(size):\n",
    "    edges.append(list(map(int, input().split())))\n",
    "\n",
    "distances = [10**10] * order  # инициализируем расстояния большими числами\n",
    "distances[start] = 0  # расстояние до стартовой точки равно нулю\n",
    "\n",
    "for _ in range(order - 1):  # итерируемся по допустимому числу ребер в составе пути\n",
    "    for v1, v2, weight in edges:  # для каждого ребра из списка\n",
    "        if (distances[v1] != 10**10  # если вершина уже посещена \n",
    "            and                      # и расстояние, записанное для 2 вершины, больше значения,\n",
    "            distances[v2] > distances[v1] + weight  # получаемое для этого ребра,\n",
    "           ):                                       # то записываем меньшее значение\n",
    "            distances[v2] = distances[v1] + weight\n",
    "            \n",
    "for v1, v2, weight in edges:  # если вершина посещена, но расстояние при проходе по \n",
    "    if (distances[v1] != 10**10  # ребру увеличивается, то это отрицательный цикл\n",
    "        and\n",
    "        distances[v2] > distances[v1] + weight\n",
    "       ):\n",
    "        distances[v2] = -10**10  # помечаем такие вершины\n",
    "        \n",
    "for i in range(len(distances)):  # если это непосещенная вершина или вершины\n",
    "    if (abs(distances[i]) >= 10**10):  # в отрицательном цикле, то помечаем ее\n",
    "        distances[i] = 'UDF'  # как неопределенную\n",
    "        \n",
    "print(*distances)"
   ]
  },
  {
   "cell_type": "markdown",
   "metadata": {},
   "source": [
    "## Некоторые из городов государства соединены дорогами. Жители этого государства просят вас помочь им с выбором столицы: требуется, чтобы сумма расстояний от столицы до каждого из остальных городов была минимальна.\n",
    "\n",
    "Для удобства города уже пронумерованы от 0 до n-1 ."
   ]
  },
  {
   "cell_type": "code",
   "execution_count": 51,
   "metadata": {},
   "outputs": [
    {
     "name": "stdout",
     "output_type": "stream",
     "text": [
      "8 9\n",
      "6 3 91\n",
      "0 4 92\n",
      "6 7 56\n",
      "1 6 99\n",
      "1 5 66\n",
      "0 2 64\n",
      "3 5 75\n",
      "0 1 33\n",
      "0 3 19\n",
      "0\n"
     ]
    }
   ],
   "source": [
    "from collections import deque\n",
    "\n",
    "order, size = map(int, input().split())  # размер графа\n",
    "graph = {v : {} for v in range(order)}\n",
    "\n",
    "\n",
    "def add_edge(graph, v1, v2, weight):  # функция для добавления ребра в граф\n",
    "    graph[v1][v2] = weight\n",
    "        \n",
    "\n",
    "def create_graph():  # функция для создания графа\n",
    "    for _ in range(size):\n",
    "        v1, v2, weight = map(int, input().split())\n",
    "        add_edge(graph, v1, v2, weight)\n",
    "        add_edge(graph, v2, v1, weight)\n",
    "\n",
    "\n",
    "def dijkstra(graph, start):  # стандартный алгоритм Дейкстра\n",
    "    queue = deque([start])\n",
    "    distances = dict()\n",
    "    distances[start] = 0\n",
    "    while queue:\n",
    "        cur_v = queue.popleft()\n",
    "        for neigh_v in graph[cur_v]:\n",
    "            if (neigh_v not in distances\n",
    "                or \n",
    "                distances[cur_v] + graph[cur_v][neigh_v] < distances[neigh_v]\n",
    "               ):\n",
    "                distances[neigh_v] = distances[cur_v] + graph[cur_v][neigh_v]\n",
    "                queue.append(neigh_v)\n",
    "    return distances\n",
    "\n",
    "\n",
    "create_graph()\n",
    "dist_sum = []\n",
    "for v in graph:  # для каждой вершины считаем сумму расстояний от других вершин до нее\n",
    "    dist_sum.append(sum(dijkstra(graph, v).values()))\n",
    "    \n",
    "print(dist_sum.index(min(dist_sum)))  # столицей будет тот город, до которого сумма расстояний минимальна"
   ]
  },
  {
   "cell_type": "markdown",
   "metadata": {},
   "source": [
    "## Дан неориентированный взвешенный связный граф и несколько пар его вершин. Для каждой введённой пары вершин выведите минимальный по весу путь, содержащий чётное количество рёбер, или -1, если такого пути нет.\n",
    "\n",
    "Для решения задачи нужно построить вспомогательный граф, вершинами которого будут состояния (v,c), где v — номер текущей вершины, c = 0 или 1 — текущая чётность количества рёбер в пути. Таким образом, каждому ребру (u,v) исходного графа будет соответствовать рёбра ((u,0),(v,1)) и ((u,1),(v,0)) нового графа. После этого, на вспомогательном графе надо с помощью алгоритма Дейкстры найти путь минимального веса из стартовой вершины с четностью 0 в конечную, с чётностью, тоже равной 0."
   ]
  },
  {
   "cell_type": "code",
   "execution_count": 65,
   "metadata": {
    "scrolled": false
   },
   "outputs": [
    {
     "name": "stdout",
     "output_type": "stream",
     "text": [
      "8 9\n",
      "1 6 40\n",
      "7 6 41\n",
      "7 3 40\n",
      "5 0 46\n",
      "2 3 41\n",
      "1 2 17\n",
      "1 0 38\n",
      "4 2 40\n",
      "1 3 17\n",
      "1 \n",
      "0 1\n",
      "0 1 3 2 1\n"
     ]
    }
   ],
   "source": [
    "def add_edge(graph, v1, v2, weight):  # функция для добавления вершины в граф с учетом четности\n",
    "    if (v1, 0) not in graph:\n",
    "        graph[(v1, 0)] = {(v2, 1) : weight}\n",
    "        graph[(v1, 1)] = {(v2, 0) : weight}\n",
    "    else:\n",
    "        graph[(v1, 0)][(v2, 1)] = weight\n",
    "        graph[(v1, 1)][(v2, 0)] = weight\n",
    "        \n",
    "\n",
    "def create_graph():  # функция для создания графа\n",
    "    for _ in range(size):\n",
    "        v1, v2, weight = map(int, input().split())\n",
    "        add_edge(graph, v1, v2, weight)\n",
    "        add_edge(graph, v2, v1, weight)\n",
    "\n",
    "\n",
    "def dijkstra(graph, start):  # стандартный алгоритм Дейкстра\n",
    "    queue = deque([start])\n",
    "    distances = dict()\n",
    "    distances[start] = 0\n",
    "    while queue:\n",
    "        cur_v = queue.popleft()\n",
    "        for neigh_v in graph[cur_v]:\n",
    "            if (neigh_v not in distances\n",
    "                or \n",
    "                distances[cur_v] + graph[cur_v][neigh_v] < distances[neigh_v]\n",
    "               ):\n",
    "                distances[neigh_v] = distances[cur_v] + graph[cur_v][neigh_v]\n",
    "                queue.append(neigh_v)\n",
    "    return distances\n",
    "\n",
    "\n",
    "def min_path(graph, start, finish):  # функция для вывода минимального пути из точки \n",
    "    distances = dijkstra(graph, start)  # start в точку finish\n",
    "    if finish not in distances:  # если конечная точка не в списке расстояний,\n",
    "        return [(-1, 0)]  # то возвращаем специальное значение (не существует такого пути)\n",
    "    cur_v = finish\n",
    "    min_path = [finish]\n",
    "    while cur_v != start:\n",
    "        for neigh_v in graph[cur_v]:\n",
    "            if distances[cur_v] == distances[neigh_v] + graph[neigh_v][cur_v]:\n",
    "                min_path.append(neigh_v)\n",
    "                cur_v = neigh_v\n",
    "                break\n",
    "    return min_path[::-1]\n",
    "\n",
    "\n",
    "from collections import deque\n",
    "\n",
    "order, size = map(int, input().split())  # размеры графа\n",
    "graph = dict() \n",
    "create_graph()\n",
    "\n",
    "pairs = int(input())  # пары точек (start, finish), для которых нужна проверка, \n",
    "dots = []             # существует ли между ними путь с четным числом ребер\n",
    "for _ in range(pairs):\n",
    "    dots.append(tuple(map(int, input().split())))\n",
    "    \n",
    "for i in range(pairs):  # считаем минимальный путь между точками, присвоив им одинаковую четность\n",
    "    path = min_path(graph, \n",
    "                    (dots[i][0], 0), \n",
    "                    (dots[i][1], 0))\n",
    "    print(*[dot[0] for dot in path])"
   ]
  },
  {
   "cell_type": "markdown",
   "metadata": {},
   "source": [
    "## Правитель графландии решил провести реформу административных округов в своём государстве. Ему хочется, чтобы расстояние от города до главного города его округа не превышало расстояния от данного города до главных городов других округов. Главные города правитель уже выбрал, вам остаётся всего лишь разбить остальные города по округам. Если есть несколько вариантов расстановки - подойдет любой. Если не справитесь, вам отрубят голову."
   ]
  },
  {
   "cell_type": "code",
   "execution_count": 98,
   "metadata": {
    "scrolled": true
   },
   "outputs": [
    {
     "name": "stdout",
     "output_type": "stream",
     "text": [
      "6 5 0 1\n",
      "2 1 24\n",
      "4 2 1\n",
      "1 0 78\n",
      "5 1 51\n",
      "0 3 19\n",
      "0\n",
      "1\n",
      "1\n",
      "0\n",
      "1\n",
      "1\n"
     ]
    }
   ],
   "source": [
    "def add_edge(graph, v1, v2, weight):  # добавление взвешенного ребра в граф\n",
    "    if v1 not in graph:\n",
    "        graph[v1] = {v2 : weight}\n",
    "    else:\n",
    "        graph[v1][v2] = weight\n",
    "        \n",
    "\n",
    "def create_graph():  # функция для считывания графа\n",
    "    for _ in range(size):\n",
    "        v1, v2, weight = map(int, input().split())\n",
    "        add_edge(graph, v1, v2, weight)\n",
    "        add_edge(graph, v2, v1, weight)\n",
    "\n",
    "\n",
    "def dijkstra(graph, start, distances):  # алгоритм Дейкстра под данную задачу\n",
    "    queue = deque([start])\n",
    "    while queue:\n",
    "        cur_v = queue.popleft()\n",
    "        for neigh_v in graph[cur_v]:\n",
    "            if neigh_v not in distances:  # если вершина не посещена, то записываем вершину, из\n",
    "                distances[neigh_v] = [start,  # которой пришли в нее (start) и расстояние от нее\n",
    "                                      distances[cur_v][1]\n",
    "                                      +\n",
    "                                      graph[cur_v][neigh_v]]\n",
    "                queue.append(neigh_v)  # добавляем вершину в очередь\n",
    "            \n",
    "            elif (distances[neigh_v][0] > distances[cur_v][0]  # если эта вершина уже посещена, но расстояние\n",
    "                                          +                    # от вершины start до нее меньше записанного, то\n",
    "                                          graph[cur_v][neigh_v]  # изменяем значение вершины, из которой пришли\n",
    "                 ):                                              # в нее на start, а расстояние – на \n",
    "                distances[neigh_v][0] = start                    # расстояние от вершины start\n",
    "                distances[neigh_v][1] = distances[cur_v][1] + graph[cur_v][neigh_v]\n",
    "                queue.append(neigh_v)  # добавляем вершину в очередь\n",
    "                \n",
    "                \n",
    "from collections import deque\n",
    "\n",
    "centeres = list(map(int, input().split()))  # список главных городов (+ размеры графа)\n",
    "order = centeres.pop(0)  # число городов\n",
    "size = centeres.pop(0)  # число дорог\n",
    "\n",
    "graph = dict()  # создаем граф\n",
    "create_graph()\n",
    "\n",
    "distances = dict()  # создаем список расстояний, для главных городов расстояние равно 0\n",
    "for center in centeres:\n",
    "    distances[center] = [center, 0]\n",
    "    \n",
    "for center in centeres:  # запускаем алгоритм Дейкстра из каждой вершины графа, соответствующей\n",
    "    dijkstra(graph, center, distances)  # главному городу\n",
    "\n",
    "for vertex in range(order):  # печатаем значение главного города для каждого города, если\n",
    "    if vertex in distances:  # такого не оказалось (компонента связности без главного города), то\n",
    "        print(distances[vertex][0])  # печатаем -1\n",
    "    else:\n",
    "        print(-1)"
   ]
  }
 ],
 "metadata": {
  "kernelspec": {
   "display_name": "Python 3",
   "language": "python",
   "name": "python3"
  },
  "language_info": {
   "codemirror_mode": {
    "name": "ipython",
    "version": 3
   },
   "file_extension": ".py",
   "mimetype": "text/x-python",
   "name": "python",
   "nbconvert_exporter": "python",
   "pygments_lexer": "ipython3",
   "version": "3.8.2"
  }
 },
 "nbformat": 4,
 "nbformat_minor": 4
}
