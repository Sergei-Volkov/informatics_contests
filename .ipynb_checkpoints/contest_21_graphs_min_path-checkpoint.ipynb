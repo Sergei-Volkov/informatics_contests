{
 "cells": [
  {
   "cell_type": "markdown",
   "metadata": {},
   "source": [
    "## Дан взвешенный связный граф. Вершины нумеруются с нуля. Трeбуется с помощью алгоритма Дейкстры восстановить кратчайший путь от вершины s до вершины f."
   ]
  },
  {
   "cell_type": "code",
   "execution_count": 12,
   "metadata": {},
   "outputs": [
    {
     "name": "stdout",
     "output_type": "stream",
     "text": [
      "4 5 0 3\n",
      "0 1 10\n",
      "0 2 40\n",
      "1 2 15\n",
      "0 3 20\n",
      "3 1 5\n",
      "0 1 3\n"
     ]
    }
   ],
   "source": [
    "from collections import deque\n",
    "\n",
    "order, size, start, finish = map(int, input().split())\n",
    "graph = dict()\n",
    "\n",
    "\n",
    "def add_edge(graph, v1, v2, weight):\n",
    "    if v1 not in graph:\n",
    "        graph[v1] = {v2 : weight}\n",
    "    else:\n",
    "        graph[v1][v2] = weight\n",
    "        \n",
    "\n",
    "def create_graph():\n",
    "    for _ in range(size):\n",
    "        v1, v2, weight = map(int, input().split())\n",
    "        add_edge(graph, v1, v2, weight)\n",
    "        add_edge(graph, v2, v1, weight)\n",
    "    return graph\n",
    "\n",
    "\n",
    "def dijkstra(graph, start):\n",
    "    queue = deque([start])\n",
    "    distances = dict()\n",
    "    distances[start] = 0\n",
    "    while queue:\n",
    "        cur_v = queue.popleft()\n",
    "        for neigh_v in graph[cur_v]:\n",
    "            if (neigh_v not in distances\n",
    "                or \n",
    "                distances[cur_v] + graph[cur_v][neigh_v] < distances[neigh_v]\n",
    "               ):\n",
    "                distances[neigh_v] = distances[cur_v] + graph[cur_v][neigh_v]\n",
    "                queue.append(neigh_v)\n",
    "    return distances\n",
    "\n",
    "\n",
    "def min_path(graph, start, finish):\n",
    "    distances = dijkstra(graph, start)\n",
    "    cur_v = finish\n",
    "    min_path = [finish]\n",
    "    while cur_v != start:\n",
    "        for neigh_v in graph[cur_v]:\n",
    "            if distances[cur_v] == distances[neigh_v] + graph[neigh_v][cur_v]:\n",
    "                min_path.append(neigh_v)\n",
    "                cur_v = neigh_v\n",
    "                break\n",
    "    return min_path[::-1]\n",
    "\n",
    "\n",
    "create_graph()\n",
    "print(*min_path(graph, start, finish))"
   ]
  },
  {
   "cell_type": "markdown",
   "metadata": {},
   "source": [
    "## Алгоритм Форда-Беллмана. Дан ориентированный взвешенный граф и номер стартовой вершины. Вершины нумеруются с нуля. Необходимо определить кратчашие расстояния от неё до остальных вершин."
   ]
  },
  {
   "cell_type": "code",
   "execution_count": 27,
   "metadata": {
    "scrolled": false
   },
   "outputs": [
    {
     "name": "stdout",
     "output_type": "stream",
     "text": [
      "4 3 1\n",
      "1 3 -204\n",
      "2 3 176\n",
      "3 0 560\n",
      "356 0 10000000000 -204\n",
      "356 0 UDF -204\n"
     ]
    }
   ],
   "source": [
    "# ДАЖЕ НЕ ДУМАЙТЕ ЭТО РЕШАТЬ САМИ, БЕРИТЕ ГОТОВЫЙ ВАРИАНТ, И ВСЕ!!!\n",
    "# НЕ ИГРАЙТЕ СО СВОИМИ НЕРВАМИ!!! ОНИ ДОРОЖЕ!!!\n",
    "# КТО-НИБУДЬ, ПОТУШИТЕ МОЮ ЖОПУ, ПОЖАЛУЙСТА!!!\n",
    "order, size, start = map(int, input().split())\n",
    "\n",
    "edges = []\n",
    "for _ in range(size):\n",
    "    edges.append(list(map(int, input().split())))\n",
    "\n",
    "distances = [10**10] * order\n",
    "distances[start] = 0\n",
    "\n",
    "for _ in range(order-1):\n",
    "    for v1, v2, weight in edges:\n",
    "        if (distances[v1] != 10**10 \n",
    "            and\n",
    "            distances[v2] > distances[v1] + weight\n",
    "           ):\n",
    "            distances[v2] = distances[v1] + weight\n",
    "            \n",
    "for v1, v2, weight in edges:\n",
    "    if (distances[v1] != 10**10 \n",
    "        and\n",
    "        distances[v2] > distances[v1] + weight\n",
    "       ):\n",
    "        distances[v2] = -10**10\n",
    "        \n",
    "for i in range(len(distances)):\n",
    "    if (abs(distances[i]) >= 10**10):\n",
    "        distances[i] = 'UDF'\n",
    "        \n",
    "print(*distances)"
   ]
  },
  {
   "cell_type": "markdown",
   "metadata": {},
   "source": [
    "## Некоторые из городов государства соединены дорогами. Жители этого государства просят вас помочь им с выбором столицы: требуется, чтобы сумма расстояний от столицы до каждого из остальных городов была минимальна.\n",
    "\n",
    "Для удобства города уже пронумерованы от 0 до n-1 ."
   ]
  },
  {
   "cell_type": "code",
   "execution_count": 51,
   "metadata": {},
   "outputs": [
    {
     "name": "stdout",
     "output_type": "stream",
     "text": [
      "8 9\n",
      "6 3 91\n",
      "0 4 92\n",
      "6 7 56\n",
      "1 6 99\n",
      "1 5 66\n",
      "0 2 64\n",
      "3 5 75\n",
      "0 1 33\n",
      "0 3 19\n",
      "0\n"
     ]
    }
   ],
   "source": [
    "from collections import deque\n",
    "\n",
    "order, size = map(int, input().split())\n",
    "graph = {v : {} for v in range(order)}\n",
    "\n",
    "\n",
    "def add_edge(graph, v1, v2, weight):\n",
    "    graph[v1][v2] = weight\n",
    "        \n",
    "\n",
    "def create_graph():\n",
    "    for _ in range(size):\n",
    "        v1, v2, weight = map(int, input().split())\n",
    "        add_edge(graph, v1, v2, weight)\n",
    "        add_edge(graph, v2, v1, weight)\n",
    "    return graph\n",
    "\n",
    "\n",
    "def dijkstra(graph, start):\n",
    "    queue = deque([start])\n",
    "    distances = dict()\n",
    "    distances[start] = 0\n",
    "    while queue:\n",
    "        cur_v = queue.popleft()\n",
    "        for neigh_v in graph[cur_v]:\n",
    "            if (neigh_v not in distances\n",
    "                or \n",
    "                distances[cur_v] + graph[cur_v][neigh_v] < distances[neigh_v]\n",
    "               ):\n",
    "                distances[neigh_v] = distances[cur_v] + graph[cur_v][neigh_v]\n",
    "                queue.append(neigh_v)\n",
    "    return distances\n",
    "\n",
    "\n",
    "create_graph()\n",
    "dist_sum = []\n",
    "for v in graph:\n",
    "    dist_sum.append(sum(dijkstra(graph, v).values()))\n",
    "    \n",
    "print(dist_sum.index(min(dist_sum)))"
   ]
  },
  {
   "cell_type": "markdown",
   "metadata": {},
   "source": [
    "## Дан неориентированный взвешенный связный граф и несколько пар его вершин. Для каждой введённой пары вершин выведите минимальный по весу путь, содержащий чётное количество рёбер, или -1, если такого пути нет.\n",
    "\n",
    "Для решения задачи нужно построить вспомогательный граф, вершинами которого будут состояния (v,c), где v — номер текущей вершины, c = 0 или 1 — текущая чётность количества рёбер в пути. Таким образом, каждому ребру (u,v) исходного графа будет соответствовать рёбра ((u,0),(v,1)) и ((u,1),(v,0)) нового графа. После этого, на вспомогательном графе надо с помощью алгоритма Дейкстры найти путь минимального веса из стартовой вершины с четностью 0 в конечную, с чётностью, тоже равной 0."
   ]
  },
  {
   "cell_type": "code",
   "execution_count": null,
   "metadata": {},
   "outputs": [],
   "source": [
    "from collections import deque\n",
    "\n",
    "order, size = map(int, input().split())\n",
    "graph = {v : {} for v in range(order)}\n",
    "\n",
    "\n",
    "def add_edge(graph, v1, v2, weight):\n",
    "    graph[v1][v2] = weight\n",
    "        \n",
    "\n",
    "def create_graph():\n",
    "    for _ in range(size):\n",
    "        v1, v2, weight = map(int, input().split())\n",
    "        add_edge(graph, v1, v2, weight)\n",
    "        add_edge(graph, v2, v1, weight)\n",
    "    return graph\n",
    "\n",
    "\n",
    "def dijkstra(graph, start):\n",
    "    queue = deque([start])\n",
    "    distances = dict()\n",
    "    distances[start] = 0\n",
    "    while queue:\n",
    "        cur_v = queue.popleft()\n",
    "        for neigh_v in graph[cur_v]:\n",
    "            if (neigh_v not in distances\n",
    "                or \n",
    "                distances[cur_v] + graph[cur_v][neigh_v] < distances[neigh_v]\n",
    "               ):\n",
    "                distances[neigh_v] = distances[cur_v] + graph[cur_v][neigh_v]\n",
    "                queue.append(neigh_v)\n",
    "    return distances\n",
    "\n",
    "\n",
    "create_graph()"
   ]
  }
 ],
 "metadata": {
  "kernelspec": {
   "display_name": "Python 3",
   "language": "python",
   "name": "python3"
  },
  "language_info": {
   "codemirror_mode": {
    "name": "ipython",
    "version": 3
   },
   "file_extension": ".py",
   "mimetype": "text/x-python",
   "name": "python",
   "nbconvert_exporter": "python",
   "pygments_lexer": "ipython3",
   "version": "3.8.2"
  }
 },
 "nbformat": 4,
 "nbformat_minor": 4
}
