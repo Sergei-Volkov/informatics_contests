{
 "cells": [
  {
   "cell_type": "markdown",
   "metadata": {},
   "source": [
    "## Требуется определить, является ли данный год високосным. (Год является високосным, если его номер кратен 4, но не кратен 100, а также если он кратен 400)."
   ]
  },
  {
   "cell_type": "code",
   "execution_count": 2,
   "metadata": {},
   "outputs": [
    {
     "name": "stdin",
     "output_type": "stream",
     "text": [
      " 2010\n"
     ]
    },
    {
     "name": "stdout",
     "output_type": "stream",
     "text": [
      "NO\n"
     ]
    }
   ],
   "source": [
    "N = int(input())\n",
    "\n",
    "if N % 4 == 0 and N % 100 != 0 or N % 400 == 0:\n",
    "    print('YES')\n",
    "else:\n",
    "    print('NO')"
   ]
  },
  {
   "cell_type": "markdown",
   "metadata": {},
   "source": [
    "## Дано трехзначное число. Найдите сумму его цифр."
   ]
  },
  {
   "cell_type": "code",
   "execution_count": 9,
   "metadata": {},
   "outputs": [
    {
     "name": "stdin",
     "output_type": "stream",
     "text": [
      " 346\n"
     ]
    },
    {
     "name": "stdout",
     "output_type": "stream",
     "text": [
      "13\n"
     ]
    }
   ],
   "source": [
    "N = int(input())\n",
    "\n",
    "a = N // 100\n",
    "b = N // 10 - a*10\n",
    "c = N - a * 100 - b * 10\n",
    "\n",
    "print(a + b + c)"
   ]
  },
  {
   "cell_type": "markdown",
   "metadata": {},
   "source": [
    "## Определите сумму всех элементов последовательности, завершающейся числом 0.\n",
    "\n",
    "Числа, следующие за нулем, считывать не нужно."
   ]
  },
  {
   "cell_type": "code",
   "execution_count": 12,
   "metadata": {},
   "outputs": [
    {
     "name": "stdin",
     "output_type": "stream",
     "text": [
      " 17\n",
      " -4\n",
      " 0\n"
     ]
    },
    {
     "name": "stdout",
     "output_type": "stream",
     "text": [
      "13\n"
     ]
    }
   ],
   "source": [
    "N = int(input())\n",
    "\n",
    "sum = 0\n",
    "while N != 0:\n",
    "    sum += N\n",
    "    N = int(input())\n",
    "    \n",
    "print(sum)"
   ]
  },
  {
   "cell_type": "markdown",
   "metadata": {},
   "source": [
    "## Программа получает на вход последовательность целых неотрицательных чисел, каждое число записано в отдельной строке. Последовательность завершается числом 0, при считывании которого программа должна закончить свою работу и вывести количество членов последовательности (не считая завершающего числа 0). Числа, следующие за числом 0, считывать не нужно."
   ]
  },
  {
   "cell_type": "code",
   "execution_count": 13,
   "metadata": {},
   "outputs": [
    {
     "name": "stdin",
     "output_type": "stream",
     "text": [
      " 1\n",
      " 7\n",
      " 9\n",
      " 0\n"
     ]
    },
    {
     "name": "stdout",
     "output_type": "stream",
     "text": [
      "3\n"
     ]
    }
   ],
   "source": [
    "N = int(input())\n",
    "\n",
    "amount = 0\n",
    "while N != 0:\n",
    "    amount += 1\n",
    "    N = int(input())\n",
    "    \n",
    "print(amount)"
   ]
  },
  {
   "cell_type": "markdown",
   "metadata": {},
   "source": [
    "## На вход программе подается последовательность чисел, заканчивающихся нулем. Сам ноль не входит в последовательность. Найти среднее значение последовательности. Для округления использовать функцию round(x, n). Где x - число, n - количество знаков после запятой."
   ]
  },
  {
   "cell_type": "code",
   "execution_count": 15,
   "metadata": {},
   "outputs": [
    {
     "name": "stdin",
     "output_type": "stream",
     "text": [
      " 4\n",
      " 8\n",
      " 5\n",
      " 0\n"
     ]
    },
    {
     "name": "stdout",
     "output_type": "stream",
     "text": [
      "5.67\n"
     ]
    }
   ],
   "source": [
    "N = int(input())\n",
    "\n",
    "sum = 0\n",
    "amount = 0\n",
    "while N != 0:\n",
    "    amount += 1\n",
    "    sum += N\n",
    "    N = int(input())\n",
    "    \n",
    "print(round(float(sum / amount), 2))"
   ]
  },
  {
   "cell_type": "markdown",
   "metadata": {},
   "source": [
    "## Дано натуральное число N . Выведите слово YES , если число N является точной степенью двойки, или слово NO в противном случае.\n",
    "\n",
    "ВАЖНО! В данной задаче необходимо использовать цикл. В этой задаче нельзя использовать функцию pow . Инструкция if должна находиться после цикла."
   ]
  },
  {
   "cell_type": "code",
   "execution_count": 19,
   "metadata": {},
   "outputs": [
    {
     "name": "stdin",
     "output_type": "stream",
     "text": [
      " 7\n"
     ]
    },
    {
     "name": "stdout",
     "output_type": "stream",
     "text": [
      "NO\n"
     ]
    }
   ],
   "source": [
    "N = int(input())\n",
    "\n",
    "while N % 2 == 0 and N != 1:\n",
    "    N = N / 2\n",
    "    \n",
    "if N == 1:\n",
    "    print('YES')\n",
    "else:\n",
    "    print('NO')"
   ]
  },
  {
   "cell_type": "markdown",
   "metadata": {},
   "source": [
    "## Дан список точек плоскости с целочисленными координатами.\n",
    "\n",
    "Необходимо определить номер координатной четверти K, в которой находится больше всего точек.\n",
    "\n",
    "Точки, хотя бы одна из координат которых равна нулю, считаются не принадлежащими ни одной четверти и не рассматриваются.\n",
    "\n",
    "Если одновременно в нескольких четвертях одинаковое и при этом максимальное количество точек, то вывести только первую по номеру.\n",
    "\n",
    "Замечание: в данной задаче можно обойтись без использования массива — использовать отдельные четыре счётчика.\n",
    "\n",
    "Формат входных данных\n",
    "В первой строке вводится одно целое положительное число – количество точек N.\n",
    "\n",
    "Каждая из следующих N строк содержит координаты очередной точки – два целых числа (первое – координата x, второе – координата y).\n",
    "\n",
    "Формат выходных данных\n",
    "В одной строке выводятся номер координатной четверти K, в которой находится больше всего точек и количество точек в ней."
   ]
  },
  {
   "cell_type": "code",
   "execution_count": 5,
   "metadata": {},
   "outputs": [
    {
     "name": "stdin",
     "output_type": "stream",
     "text": [
      " 1\n",
      " 2\n"
     ]
    },
    {
     "ename": "IndexError",
     "evalue": "list index out of range",
     "output_type": "error",
     "traceback": [
      "\u001b[1;31m---------------------------------------------------------------------------\u001b[0m",
      "\u001b[1;31mIndexError\u001b[0m                                Traceback (most recent call last)",
      "\u001b[1;32m<ipython-input-5-3486c14d7078>\u001b[0m in \u001b[0;36m<module>\u001b[1;34m\u001b[0m\n\u001b[0;32m      5\u001b[0m     \u001b[0mpoint\u001b[0m \u001b[1;33m=\u001b[0m \u001b[0minput\u001b[0m\u001b[1;33m(\u001b[0m\u001b[1;33m)\u001b[0m\u001b[1;33m.\u001b[0m\u001b[0msplit\u001b[0m\u001b[1;33m(\u001b[0m\u001b[1;34m' '\u001b[0m\u001b[1;33m)\u001b[0m\u001b[1;33m\u001b[0m\u001b[1;33m\u001b[0m\u001b[0m\n\u001b[0;32m      6\u001b[0m     \u001b[0mpoint\u001b[0m\u001b[1;33m[\u001b[0m\u001b[1;36m0\u001b[0m\u001b[1;33m]\u001b[0m \u001b[1;33m=\u001b[0m \u001b[0mint\u001b[0m\u001b[1;33m(\u001b[0m\u001b[0mpoint\u001b[0m\u001b[1;33m[\u001b[0m\u001b[1;36m0\u001b[0m\u001b[1;33m]\u001b[0m\u001b[1;33m)\u001b[0m\u001b[1;33m\u001b[0m\u001b[1;33m\u001b[0m\u001b[0m\n\u001b[1;32m----> 7\u001b[1;33m     \u001b[0mpoint\u001b[0m\u001b[1;33m[\u001b[0m\u001b[1;36m1\u001b[0m\u001b[1;33m]\u001b[0m \u001b[1;33m=\u001b[0m \u001b[0mint\u001b[0m\u001b[1;33m(\u001b[0m\u001b[0mpoint\u001b[0m\u001b[1;33m[\u001b[0m\u001b[1;36m1\u001b[0m\u001b[1;33m]\u001b[0m\u001b[1;33m)\u001b[0m\u001b[1;33m\u001b[0m\u001b[1;33m\u001b[0m\u001b[0m\n\u001b[0m\u001b[0;32m      8\u001b[0m     \u001b[0mpoints\u001b[0m\u001b[1;33m.\u001b[0m\u001b[0mappend\u001b[0m\u001b[1;33m(\u001b[0m\u001b[0mpoint\u001b[0m\u001b[1;33m)\u001b[0m\u001b[1;33m\u001b[0m\u001b[1;33m\u001b[0m\u001b[0m\n\u001b[0;32m      9\u001b[0m \u001b[1;32mfor\u001b[0m \u001b[0mdot\u001b[0m \u001b[1;32min\u001b[0m \u001b[0mpoints\u001b[0m\u001b[1;33m:\u001b[0m\u001b[1;33m\u001b[0m\u001b[1;33m\u001b[0m\u001b[0m\n",
      "\u001b[1;31mIndexError\u001b[0m: list index out of range"
     ]
    }
   ],
   "source": [
    "amount = int(input())\n",
    "\n",
    "points = []\n",
    "quarters = [0, 0, 0, 0]\n",
    "\n",
    "for i in range(amount):\n",
    "    point = input().split(' ')\n",
    "    point[0] = int(point[0])\n",
    "    point[1] = int(point[1])\n",
    "    points.append(point)\n",
    "    \n",
    "for dot in points:\n",
    "    if dot[1] > 0:\n",
    "        if dot[0] > 0:\n",
    "            quarters[0] += 1\n",
    "        elif dot[0] < 0:\n",
    "            quarters[1] += 1\n",
    "    elif dot[1] < 0:\n",
    "        if dot[0] > 0:\n",
    "            quarters[3] += 1\n",
    "        elif dot[0] < 0:\n",
    "            quarters[2] += 1\n",
    "            \n",
    "maximum = 0\n",
    "position = 0\n",
    "\n",
    "for i, quarter in enumerate(quarters):\n",
    "    if quarter > maximum:\n",
    "        maximum = quarter\n",
    "        position = i + 1\n",
    "        \n",
    "print(position, maximum)"
   ]
  },
  {
   "cell_type": "markdown",
   "metadata": {},
   "source": [
    "## Найти максимальное число в последовательности чисел, заканчивающейся нулем. Сам ноль не входит в последовательность. Каждое из чисел не превосходит по модулю 10000. Обратите внимание, что числа могут быть отрицательными.\n",
    "\n",
    "NB! При решении этой задачи не требуется использовать массивы (списки)!"
   ]
  },
  {
   "cell_type": "code",
   "execution_count": 25,
   "metadata": {},
   "outputs": [
    {
     "name": "stdin",
     "output_type": "stream",
     "text": [
      " -10\n",
      " -5\n",
      " 0\n"
     ]
    },
    {
     "name": "stdout",
     "output_type": "stream",
     "text": [
      "-5\n"
     ]
    }
   ],
   "source": [
    "N = int(input())\n",
    "\n",
    "maximum = 0\n",
    "if N < 0:\n",
    "    maximum = N\n",
    "    \n",
    "while N != 0:\n",
    "    if N > maximum:\n",
    "        maximum = N\n",
    "    N = int(input())\n",
    "    \n",
    "print(maximum)"
   ]
  },
  {
   "cell_type": "markdown",
   "metadata": {},
   "source": [
    "## В некотором физическом эксперименте показания прибора снимались с частотой 5 измерений в секунду. Эксперимент проводился в течение довольно большого времени, и в результате накопилось очень много данных. Ученых, которые проводили данный эксперимент, очень интересует, какое максимальное значение измеряемой величины достигалось во время измерения. Но вот беда: на остановку установки также требуется секунда времени, и в течение этого времени с установки могут приходить совершенно любые значения величины. В связи с этим, показания последних 5 измерений учитывать при поиске максимального значения не следует.\n",
    "\n",
    "Вам необходимо написать программу, которая в данном потоке чисел заранее неизвестной длины находит максимальное значение, отбрасывая при этом последние 5 измерений.\n",
    "\n",
    "Формат входных данных\n",
    "На вход вашей программе передается последовательность натуральных чисел -- результаты измерений. Каждое новое число передается с новой строки. Гарантируется, что длина входной последовательности не меньше 6 и не превосходит 10 6 . На конце последовательности передается число 0.\n",
    "\n",
    "Формат выходных данных\n",
    "Программа должна вывести на экран одно число -- максимальное значение входной последовательности за исключением последних 5 элементов."
   ]
  },
  {
   "cell_type": "code",
   "execution_count": 7,
   "metadata": {},
   "outputs": [
    {
     "name": "stdin",
     "output_type": "stream",
     "text": [
      " 1\n",
      " 2\n",
      " 3\n",
      " 4\n",
      " 5\n",
      " 0\n",
      " 6\n",
      " 2\n",
      " 3\n",
      " 4\n",
      " 5\n",
      " 6\n",
      " 0\n"
     ]
    },
    {
     "name": "stdout",
     "output_type": "stream",
     "text": [
      "5\n"
     ]
    }
   ],
   "source": [
    "num1 = int(input())\n",
    "num2 = int(input())\n",
    "num3 = int(input())\n",
    "num4 = int(input())\n",
    "num5 = int(input())\n",
    "num6 = int(input())\n",
    "maximum = num1\n",
    "num = int(input())\n",
    "while num != 0:\n",
    "    if maximum < num2:\n",
    "        maximum = num2\n",
    "    num1 = num2\n",
    "    num2 = num3\n",
    "    num3 = num4\n",
    "    num4 = num5\n",
    "    num5 = num6\n",
    "    num = int(input())\n",
    "print(maximum)"
   ]
  },
  {
   "cell_type": "markdown",
   "metadata": {},
   "source": [
    "## На заводе по производству проигрывателей аудиокассет сборка готовой продукции производится на конвейере. На последнем этапе сборки на каждое изделие наносится уникальный идентификационный номер, равный порядковому номеру произведенного проигрывателя. При изготовлении очередной партии проигрывателей где-то в середине процесса произошел сбой, и одно из устройств не было помечено своим номером. После производства эта партия была упакована и отправлена на склад. При упаковке устройства перемешались. При разгрузке на складе было обнаружено, что на одно из устройств не нанесена маркировка. Помогите работникам склада определить номер этого устройства.\n",
    "\n",
    "Вам подается на вход последовательность идентификационных номеров, заканчивающаяся нулем. Необходимо определить номер устройства, на котором произошел сбой. Длина последовательности не меньше 2 и не превосходит 10 5\n",
    "\n",
    "Формат входных данных\n",
    "Последовательность натуральных чисел, заканчивающася нулем.\n",
    "\n",
    "Формат выходных данных\n",
    "Одно число - номер устройства, на котором произошел сбой."
   ]
  },
  {
   "cell_type": "code",
   "execution_count": null,
   "metadata": {},
   "outputs": [],
   "source": [
    "num = int(input())\n",
    "i = 1\n",
    "sum = 0\n",
    "numbers = []\n",
    "\n",
    "while num != 0:\n",
    "    numbers.append(num)\n",
    "    i += 1\n",
    "    sum += num\n",
    "    num = int(input())\n",
    "    \n",
    "print((2 * min(numbers) + i - 1) * i // 2 - sum)"
   ]
  }
 ],
 "metadata": {
  "kernelspec": {
   "display_name": "Python 3",
   "language": "python",
   "name": "python3"
  },
  "language_info": {
   "codemirror_mode": {
    "name": "ipython",
    "version": 3
   },
   "file_extension": ".py",
   "mimetype": "text/x-python",
   "name": "python",
   "nbconvert_exporter": "python",
   "pygments_lexer": "ipython3",
   "version": "3.7.5"
  }
 },
 "nbformat": 4,
 "nbformat_minor": 2
}
