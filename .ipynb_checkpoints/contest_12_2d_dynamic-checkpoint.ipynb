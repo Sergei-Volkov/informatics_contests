{
 "cells": [
  {
   "cell_type": "markdown",
   "metadata": {},
   "source": [
    "## На шахматной доске (8x8) стоит одна белая шашка. Сколькими способами она может пройти в дамки? Белая шашка ходит по диагонали на одну клетку вверх-вправо или вверх-влево. Шашка проходит в дамки, если попадает на верхнюю горизонталь."
   ]
  },
  {
   "cell_type": "code",
   "execution_count": 19,
   "metadata": {},
   "outputs": [
    {
     "name": "stdout",
     "output_type": "stream",
     "text": [
      "2 1\n",
      "69\n"
     ]
    }
   ],
   "source": [
    "y, x = map( int, input().split() )\n",
    "\n",
    "ways = [ [0] * 10 for _ in range(9) ]\n",
    "ways[x][y] = 1\n",
    "\n",
    "for i in range(x + 1, 9):\n",
    "    for j in range(1, 9):\n",
    "        ways[i][j] = ways[i - 1][j - 1] + ways[i - 1][j + 1]\n",
    "        \n",
    "print(sum(ways[8]))"
   ]
  },
  {
   "cell_type": "markdown",
   "metadata": {},
   "source": [
    "## В парке развлечений Васе попался аттракцион.\n",
    "\n",
    "Это прямоугольное поле NxM. Вася начинает свой путь в левой верхней клетке, а заканчивает в правой нижней. По правилам аттракциона Вася может двигаться только вниз и вправо и должен платить штраф p ij за прохождение клетки. Вася взял с собой не так уж и много денег, поэтому он хочет пройти аттракцион, потратив как можно меньше.\n",
    "\n",
    "Помогите Васе узнать, сколько денег у него останется."
   ]
  },
  {
   "cell_type": "code",
   "execution_count": 13,
   "metadata": {
    "scrolled": true
   },
   "outputs": [
    {
     "name": "stdout",
     "output_type": "stream",
     "text": [
      "3\n",
      "3\n",
      "0\n",
      "2\n",
      "1\n",
      "4\n",
      "2\n",
      "3\n",
      "1\n",
      "2\n",
      "1\n",
      "8\n",
      "1\n"
     ]
    }
   ],
   "source": [
    "m = int(input())\n",
    "n = int(input())\n",
    "\n",
    "p = [ [int(input()) for _ in range(n)] for _ in range(m) ]\n",
    "\n",
    "max_money = int(input())\n",
    "\n",
    "# situations in limits\n",
    "if m == 1 and n == 1:\n",
    "    print(max_money)\n",
    "    exit()\n",
    "if max_money == 0:\n",
    "    print(0)\n",
    "    exit()\n",
    "    \n",
    "score = [ [0] * (n + 1) for _ in range(m + 1)]\n",
    "for j in range(1, n + 1):\n",
    "    score[0][j] = 1000000 + 1\n",
    "for i in range(1, m + 1):\n",
    "    score[i][0] = 1000000 + 1\n",
    "# initial conditions    \n",
    "score[2][1], score[1][2] = p[1][0], p[0][1]\n",
    "     \n",
    "for i in range(1, m + 1):\n",
    "    if i == 1:\n",
    "        for j in range(3, n + 1):\n",
    "            #print('i = {}, j = {} ///'.format(i, j), score[i - 1][j], score[i][j - 1])\n",
    "            score[i][j] = p[i - 1][j - 1] + min( score[i - 1][j], score[i][j - 1] )\n",
    "    elif i == 2:\n",
    "        for j in range(2, n + 1):\n",
    "            #print('i = {}, j = {} ///'.format(i, j), score[i - 1][j], score[i][j - 1])\n",
    "            score[i][j] = p[i - 1][j - 1] + min( score[i - 1][j], score[i][j - 1] )        \n",
    "    else:\n",
    "        for j in range(1, n + 1):\n",
    "            #print('i = {}, j = {} ///'.format(i, j), score[i - 1][j], score[i][j - 1])\n",
    "            score[i][j] = p[i - 1][j - 1] + min( score[i - 1][j], score[i][j - 1] )     \n",
    "        \n",
    "min_score = score[m][n]\n",
    "if min_score <= max_money: \n",
    "    print(max_money - min_score)\n",
    "else:\n",
    "    print('Impossible')"
   ]
  },
  {
   "cell_type": "markdown",
   "metadata": {},
   "source": [
    "## На шахматной доске расставлено несколько черных пешек и одна белая. Черные пешки не подвижны, белая может ходить на одну клетку вперед (если там нет черной пешки) или есть черную пешку наискосок (на одну клетку вперед и на одну вправо или влево). Посчитайте, сколькими способами белая пешка может дойти до конца поля и стать ферзем.\n",
    "\n",
    "Строки шахматной доски пронумерованы числами от 1 до 8, столбцы буквами от a до h. Строка 1 - самая нижняя, столбец a - самый левый. Белой пешке надо добраться до строки с номером 8. Eсли она уже стоит на 8й строке, то считается что у нее ровно 1 способ (стоять на месте)."
   ]
  },
  {
   "cell_type": "code",
   "execution_count": 4,
   "metadata": {},
   "outputs": [
    {
     "name": "stdout",
     "output_type": "stream",
     "text": [
      "0\n",
      "h4\n",
      "1\n"
     ]
    }
   ],
   "source": [
    "letter_set = {'a' : 1, 'b' : 2, 'c' : 3, 'd' : 4, 'e' : 5,\n",
    "              'f' : 6, 'g' : 7, 'h' : 8}\n",
    "\n",
    "black_amount = int(input())\n",
    "black = []\n",
    "if black_amount != 0:\n",
    "    for i in range(black_amount):\n",
    "        pos = input()\n",
    "        black.append( ( letter_set[ pos[0] ], int( pos[1] ) ) )\n",
    "pos = input()\n",
    "white = ( letter_set[ pos[0] ], int(pos[1]) )\n",
    "\n",
    "if white[1] == 8:\n",
    "    print(1)\n",
    "    exit()\n",
    "\n",
    "board = [ [ [0, 0] for _ in range(9) ] for _ in range(9) ]\n",
    "for el in black:\n",
    "    board[el[1]][el[0]] = [0, 1]\n",
    "board[white[1]][white[0]] = [1, 0]\n",
    "\n",
    "for i in range(white[1] + 1, 9):\n",
    "    for j in range(1, 9):\n",
    "        if j + 1 != 9 and board[i][j][1] == 1 and board[i - 1][j + 1][0] != 0:\n",
    "            board[i][j][0] += board[i - 1][j + 1][0]\n",
    "        if board[i][j][1] == 1 and board[i - 1][j - 1][0] != 0:\n",
    "            board[i][j][0] += board[i - 1][j - 1][0]\n",
    "        if board[i][j][1] == 0 and board[i - 1][j][0] != 0:\n",
    "            board[i][j][0] += board[i - 1][j][0]\n",
    "\n",
    "total = 0\n",
    "for i in range(1, 9):\n",
    "    total += board[8][i][0]\n",
    "print(total)"
   ]
  },
  {
   "cell_type": "markdown",
   "metadata": {},
   "source": [
    "## Дано две строки. Нужно найти наименьшее количество исправлений, необходимых для получения второй строки из первой. Исправления бывают трех видов: 1) Вставка символа на произвольное место. 2) Удаление произвольного символа. 3) Замена произвольного символа любым другим символом. (Алгоритм Левенштейна)"
   ]
  },
  {
   "cell_type": "code",
   "execution_count": 1,
   "metadata": {},
   "outputs": [],
   "source": [
    "def levenshtein(seq1, seq2):\n",
    "    size_x = len(seq1) + 1\n",
    "    size_y = len(seq2) + 1\n",
    "    matrix = [ [ [0] for _ in range(size_y) ] for _ in range(size_x) ]\n",
    "    for x in range(size_x):\n",
    "        matrix [x] [0] = x\n",
    "    for y in range(size_y):\n",
    "        matrix [0] [y] = y\n",
    "\n",
    "    for x in range(1, size_x):\n",
    "        for y in range(1, size_y):\n",
    "            if seq1[x-1] == seq2[y-1]:\n",
    "                matrix [x][y] = min(\n",
    "                    matrix[x-1][y] + 1,\n",
    "                    matrix[x-1][y-1],\n",
    "                    matrix[x][y-1] + 1\n",
    "                )\n",
    "            else:\n",
    "                matrix [x][y] = min(\n",
    "                    matrix[x-1][y] + 1,\n",
    "                    matrix[x-1][y-1] + 1,\n",
    "                    matrix[x][y-1] + 1\n",
    "                )\n",
    "    return (matrix[size_x - 1][size_y - 1])"
   ]
  },
  {
   "cell_type": "markdown",
   "metadata": {},
   "source": [
    "## Подпоследовательностью {x n k } называется числовая последовательность, которая составлена из членов последовательности {x n }, и в которой порядок следования её элементов совпадает с их порядком следования в исходной последовательности {x n }.\n",
    "\n",
    "Вам необходимо написать функцию lcs(s1, s2) , которая вычисляет наибольшую общую подпоследовательность (НОП) s1 и s2, где s1 и s2 - непустые числовые последовательности."
   ]
  },
  {
   "cell_type": "code",
   "execution_count": 48,
   "metadata": {},
   "outputs": [],
   "source": [
    "def lcs(x, y):\n",
    "    common = [ [ 0 for _ in range(len(y) + 1) ] for _ in range(len(x) + 1) ]\n",
    "\n",
    "    for i in range(1, len(x) + 1):\n",
    "        for j in range(1, len(y) + 1):\n",
    "            if x[i - 1] == y[j - 1]:\n",
    "                common[i][j] = common[i - 1][j - 1] + 1\n",
    "            else:\n",
    "                common[i][j] = max(common[i][j - 1],\n",
    "                                   common[i - 1][j])\n",
    "    new_seq = []\n",
    "    i = len(x)\n",
    "    j = len(y)   \n",
    "\n",
    "    while i > 0 and j > 0:\n",
    "        if x[i - 1] == y[j - 1]:\n",
    "            new_seq.append(x[i - 1])\n",
    "            i -= 1\n",
    "            j -= 1\n",
    "        elif common[i - 1][j] == common[i][j]:\n",
    "            i -= 1\n",
    "        else:\n",
    "            j -= 1\n",
    "            \n",
    "    return new_seq[::-1]"
   ]
  },
  {
   "cell_type": "markdown",
   "metadata": {},
   "source": [
    "## Подпоследовательностью {x n k } называется числовая последовательность, которая составлена из членов последовательности {x n } и в которой порядок следования её элементов совпадает с их порядком следования в исходной последовательности {x n }.\n",
    "\n",
    "Вам необходимо написать функцию lis(s) , которая вычисляет наибольшую (строго) возрастающую подпоследовательность (НВП) для s, где s — непустая числовая последовательность."
   ]
  },
  {
   "cell_type": "code",
   "execution_count": 62,
   "metadata": {},
   "outputs": [],
   "source": [
    "def lis(s):\n",
    "    count = [0 for _ in range(len(s))]\n",
    "    \n",
    "    for i in range(len(s)):    \n",
    "        for j in range(i):\n",
    "            if s[i] > s[j] and count[j] > count[i]:\n",
    "                count[i] = count[j]\n",
    "        count[i] += 1\n",
    "        \n",
    "    last = max(count)\n",
    "    i = count.index(last)\n",
    "    ans = [count[i]]\n",
    "\n",
    "    while count[i] != 1:\n",
    "        j = i - 1\n",
    "        while count[j] != count[i] - 1 or s[j] >= s[i]:\n",
    "            j -= 1\n",
    "        i = j\n",
    "        ans.append(s[i])\n",
    "        \n",
    "    return ans[::-1]"
   ]
  }
 ],
 "metadata": {
  "kernelspec": {
   "display_name": "Python 3",
   "language": "python",
   "name": "python3"
  },
  "language_info": {
   "codemirror_mode": {
    "name": "ipython",
    "version": 3
   },
   "file_extension": ".py",
   "mimetype": "text/x-python",
   "name": "python",
   "nbconvert_exporter": "python",
   "pygments_lexer": "ipython3",
   "version": "3.7.5"
  }
 },
 "nbformat": 4,
 "nbformat_minor": 2
}
