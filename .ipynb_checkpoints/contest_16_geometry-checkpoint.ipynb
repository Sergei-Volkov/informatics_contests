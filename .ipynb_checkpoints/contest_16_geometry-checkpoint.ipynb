{
 "cells": [
  {
   "cell_type": "code",
   "execution_count": 1,
   "metadata": {},
   "outputs": [],
   "source": [
    "def distance(dot1, dot2):\n",
    "    \"\"\"\n",
    "    Расстояние между 2 точками\n",
    "    \"\"\"\n",
    "    return ( (dot1[0] - dot2[0])**2 + (dot1[1] - dot2[1])**2 )**0.5"
   ]
  },
  {
   "cell_type": "markdown",
   "metadata": {},
   "source": [
    "## На плоскости даны две окружности. Необходимо проверить, имеют ли они хотя бы одну общую точку."
   ]
  },
  {
   "cell_type": "code",
   "execution_count": 7,
   "metadata": {},
   "outputs": [
    {
     "name": "stdout",
     "output_type": "stream",
     "text": [
      "1 1 1\n",
      "4 4 1\n",
      "NO\n"
     ]
    }
   ],
   "source": [
    "x1, y1, r1 = list(map(int, input().split()))\n",
    "x2, y2, r2 = list(map(int, input().split()))\n",
    "centeres = ( (x2 - x1)**2 + (y2 - y1)**2 )**0.5\n",
    "# второй случай - когда одна окружность лежит внутри другой\n",
    "if centeres > r2 + r1 or centeres + min(r1, r2) < max(r1, r2):\n",
    "    print('NO')\n",
    "else:\n",
    "    print('YES')"
   ]
  },
  {
   "cell_type": "markdown",
   "metadata": {},
   "source": [
    "## На большом поле находятся суслик и собака. Собака хочет суслика съесть, а суслик хочет оказаться в безопасности, добежав до одной из норок, выкопанных в поле. Ни собака, ни суслик в математике не сильны, но, с другой стороны, они и не беспросветно глупы. Суслик выбирает определенную норку и бежит к ней по прямой с определенной скоростью. Собака, которая очень хорошо понимает язык телодвижений, угадывает, к какой норке бежит суслик, и устремляется к ней со скоростью вдвое большей скорости суслика. Если собака добегает до норки первой (раньше суслика), то она съедает суслика; иначе суслик спасается.\n",
    "\n",
    "Требуется написать программу, которая поможет суслику выбрать норку, в которой он может спастись, если таковая существует"
   ]
  },
  {
   "cell_type": "code",
   "execution_count": 7,
   "metadata": {},
   "outputs": [
    {
     "name": "stdout",
     "output_type": "stream",
     "text": [
      "20 20\n",
      "10 10\n",
      "2\n",
      "15 15\n",
      "25 25\n",
      "2\n"
     ]
    }
   ],
   "source": [
    "gopher = list(map(int, input().split()))\n",
    "dog = list(map(int, input().split()))\n",
    "amount = int(input())\n",
    "\n",
    "k = 1\n",
    "\n",
    "for _ in range(amount):\n",
    "    hole = list(map(int, input().split()))\n",
    "    if distance(hole, gopher) < distance(hole, dog) / 2:\n",
    "        print(k)\n",
    "        break\n",
    "    else:\n",
    "        k += 1\n",
    "        continue\n",
    "        \n",
    "if k == amount + 1:\n",
    "    print(-1)"
   ]
  },
  {
   "cell_type": "markdown",
   "metadata": {},
   "source": [
    "## Дан треугольник и точка симметрии. Построить симметричную фигуру."
   ]
  },
  {
   "cell_type": "code",
   "execution_count": 9,
   "metadata": {},
   "outputs": [
    {
     "name": "stdout",
     "output_type": "stream",
     "text": [
      "1 0 -1 0 0 5\n",
      "0 0\n",
      "-1 0 1 0 0 -5\n"
     ]
    }
   ],
   "source": [
    "x1, y1, x2, y2, x3, y3 = map(int, input().split())\n",
    "triangle = [(x1, y1),\n",
    "            (x2, y2),\n",
    "            (x3, y3)]\n",
    "simmetry = list(map(int, input().split()))\n",
    "\n",
    "# координаты точки симметрии - среднее арифметическое координат точек\n",
    "simm = []\n",
    "for dot in triangle:\n",
    "    simm.append(2*simmetry[0] - dot[0])\n",
    "    simm.append(2*simmetry[1] - dot[1])\n",
    "    \n",
    "print(*simm)"
   ]
  },
  {
   "cell_type": "markdown",
   "metadata": {},
   "source": [
    "## Пусть на плоскости расположена прямая L и точка A. Точка B называется симметричной точке A относительно прямой L, если отрезок АВ перпендикулярен прямой L и делится пополам точкой пересечения с ней. В частности, если точка А лежит на прямой L, то точка B совпадает с точкой А.\n",
    "\n",
    "Задана прямая L и точка А. Найдите точку В, симметричную А относительно L."
   ]
  },
  {
   "cell_type": "code",
   "execution_count": 15,
   "metadata": {},
   "outputs": [
    {
     "name": "stdout",
     "output_type": "stream",
     "text": [
      "0 0 1 0\n",
      "10 10\n",
      "10 -10\n"
     ]
    }
   ],
   "source": [
    "def dot(vec1, vec2):\n",
    "    return vec1[0]*vec2[0] + vec1[1]*vec2[1]\n",
    "\n",
    "\n",
    "x1, y1, x2, y2 = map(int, input().split())\n",
    "xA, yA = map(int, input().split())\n",
    "\n",
    "pt = [xA, yA]  # точка\n",
    "line_pt = [x1, y1]  # точка на прямой\n",
    "\n",
    "# коэффициент проеции вектора на прямую - см. линал\n",
    "proj = ( dot([xA - x1, yA - y1], [x1 - x2, y1 - y2]) /\n",
    "         dot([x1 - x2, y1 - y2], [x1 - x2, y1 - y2]) )\n",
    "\n",
    "pt_proj = [proj*(x1 - x2), proj*(y1 - y2)]  # проекция точки на прямую\n",
    "pt_norm = [pt[0] - line_pt[0] - pt_proj[0],  # нормальная компонента вектора\n",
    "           pt[1] - line_pt[1] - pt_proj[1]]  # относительно прямой\n",
    "pt_sym = [pt[0] - 2*pt_norm[0],  # искомая точка, ее радиус-вектор\n",
    "          pt[1] - 2*pt_norm[1]]  # r = pt - 2n\n",
    "\n",
    "print(*pt_sym)"
   ]
  },
  {
   "cell_type": "markdown",
   "metadata": {},
   "source": [
    "## Необходимо найти точку пересечения двух прямых на плоскости, если она существует."
   ]
  },
  {
   "cell_type": "code",
   "execution_count": 21,
   "metadata": {},
   "outputs": [
    {
     "name": "stdout",
     "output_type": "stream",
     "text": [
      "5 11 24\n",
      "34 44 56\n",
      "3 -3\n"
     ]
    }
   ],
   "source": [
    "a1, b1, c1 = map(int, input().split())\n",
    "a2, b2, c2 = map(int, input().split())\n",
    "\n",
    "# метод Крамера\n",
    "if a1*b2-a2*b1 == 0:\n",
    "    print('NO')\n",
    "else:\n",
    "    x = - (c1*b2-c2*b1) / (a1*b2-a2*b1)\n",
    "    y = - (a1*c2-a2*c1) / (a1*b2-a2*b1)    \n",
    "    print(int(round(x,0)), int(round(y,0)))"
   ]
  },
  {
   "cell_type": "markdown",
   "metadata": {},
   "source": [
    "## Сезон охоты очень не долог, и поэтому оставшуюся часть года заядлые охотники развлекают себя тем, что стреляют по мишеням в тире. Тир представляет собой плоскость, на которой расставлены мишени. Размерами мишеней можно пренебречь и считать их точками с координатами (x, y). Также известно, что мишени сделаны из картона, поэтому за один выстрел можно поразить сразу все мишени, стоящие на линии выстрела. В начале координат стоит охотник и у него остался последний патрон. Охотник хочет использовать его эффективно – то есть за один выстрел поразить как можно больше целей. Помогите ему в этом."
   ]
  },
  {
   "cell_type": "code",
   "execution_count": 50,
   "metadata": {},
   "outputs": [
    {
     "ename": "SyntaxError",
     "evalue": "invalid syntax (<ipython-input-50-97f82da6b39e>, line 22)",
     "output_type": "error",
     "traceback": [
      "\u001b[1;36m  File \u001b[1;32m\"<ipython-input-50-97f82da6b39e>\"\u001b[1;36m, line \u001b[1;32m22\u001b[0m\n\u001b[1;33m    print(targets[max(targets, key=lambda key=lambda k: targets[k])])\u001b[0m\n\u001b[1;37m                                                                  ^\u001b[0m\n\u001b[1;31mSyntaxError\u001b[0m\u001b[1;31m:\u001b[0m invalid syntax\n"
     ]
    }
   ],
   "source": [
    "amount = int(input())\n",
    "\n",
    "targets = {tuple(map(int, input().split())) : 1}  # массив, в который записывается кол-во точек по разным направлениям\n",
    "for i in range(amount - 1):\n",
    "    target = tuple(map(int, input().split()))\n",
    "    before = targets\n",
    "    for direct in targets.keys():\n",
    "        if (target[0] == direct[0] == 0 and  # если точки лежат на оси х\n",
    "            target[1] * direct[1] > 0  # точки должны быть в одной полуплоскости\n",
    "            or \n",
    "            target[1] == direct[1] == 0 and  # если точки лежат на оси y\n",
    "            target[1] * direct[1] > 0  # точки должны быть в одной полуплоскости\n",
    "            or\n",
    "            target[0] / direct[0] ==  # если точки лежат на одной прямой,\n",
    "            target[1] / direct[1] and  # то их координаты пропорциональны\n",
    "            target[0] * direct[0] > 0 and  # точки должны лежат в одном квадранте\n",
    "            target[1] * direct[1] > 0\n",
    "           ):\n",
    "            targets[direct] += 1\n",
    "    if before == targets:\n",
    "        targets[target] = 1\n",
    "\n",
    "print(targets[max(targets, key=lambda k: targets[k])])"
   ]
  },
  {
   "cell_type": "markdown",
   "metadata": {},
   "source": [
    "## Задан выпуклый многоугольник и точка. Необходимо определить, лежит ли точка внутри или на границе многоугольника."
   ]
  },
  {
   "cell_type": "code",
   "execution_count": 55,
   "metadata": {},
   "outputs": [
    {
     "name": "stdout",
     "output_type": "stream",
     "text": [
      "5\n",
      "-1 3\n",
      "-2 1\n",
      "-1 -1\n",
      "3 -2\n",
      "2 2\n",
      "-2 1\n",
      "YES\n",
      "NO\n"
     ]
    }
   ],
   "source": [
    "vertexes = int(input())\n",
    "\n",
    "points = []\n",
    "for i in range(vertexes):\n",
    "    points.append(tuple(map(float, input().split())))\n",
    "target = tuple(map(float, input().split()))\n",
    "\n",
    "for dot in points:\n",
    "    if target == dot:\n",
    "        print('YES')\n",
    "        exit(0)\n",
    "\n",
    "def point_inside_polygon(x,y,poly):\n",
    "    \"\"\"\n",
    "    Функция, проверяющая, находится или точка внутри многоугольника\n",
    "    :param:    poly - массив координат точек\n",
    "    :param:    x, y - координаты точки\n",
    "    \"\"\"\n",
    "    n = len(poly)\n",
    "    inside = False  # маркер нахождения точки внутри\n",
    "\n",
    "    p1x,p1y = poly[0]\n",
    "    for i in range(n+1):\n",
    "        p2x,p2y = poly[i % n]\n",
    "        if y > min(p1y,p2y):\n",
    "            if y <= max(p1y,p2y):\n",
    "                if x <= max(p1x,p2x):\n",
    "                    if p1y != p2y:\n",
    "                        xinters = (y-p1y)*(p2x-p1x)/(p2y-p1y)+p1x\n",
    "                    if p1x == p2x or x <= xinters:\n",
    "                        inside = not inside\n",
    "        p1x,p1y = p2x,p2y\n",
    "\n",
    "    return inside\n",
    "\n",
    "\n",
    "if point_inside_polygon(target[0], target[1], points):\n",
    "    print('YES')\n",
    "else:\n",
    "    print('NO')"
   ]
  },
  {
   "cell_type": "markdown",
   "metadata": {},
   "source": [
    "## Дается последовательность из двух видов запросов:\n",
    "\n",
    "add pos x y - добавить точку (x, y) в многоугольник между точками pos-1 и pos ;\n",
    "\n",
    "area - посчитать площадь.\n",
    "\n",
    "Необходимо вывести ответы для каждого запроса на подсчет площади."
   ]
  },
  {
   "cell_type": "code",
   "execution_count": 10,
   "metadata": {},
   "outputs": [
    {
     "name": "stdout",
     "output_type": "stream",
     "text": [
      "\n"
     ]
    },
    {
     "ename": "IndexError",
     "evalue": "list index out of range",
     "output_type": "error",
     "traceback": [
      "\u001b[1;31m---------------------------------------------------------------------------\u001b[0m",
      "\u001b[1;31mIndexError\u001b[0m                                Traceback (most recent call last)",
      "\u001b[1;32m<ipython-input-10-41bb8baafecf>\u001b[0m in \u001b[0;36m<module>\u001b[1;34m\u001b[0m\n\u001b[0;32m     17\u001b[0m \u001b[1;33m\u001b[0m\u001b[0m\n\u001b[0;32m     18\u001b[0m \u001b[0mcommand\u001b[0m \u001b[1;33m=\u001b[0m \u001b[0minput\u001b[0m\u001b[1;33m(\u001b[0m\u001b[1;33m)\u001b[0m\u001b[1;33m.\u001b[0m\u001b[0msplit\u001b[0m\u001b[1;33m(\u001b[0m\u001b[1;33m)\u001b[0m\u001b[1;33m\u001b[0m\u001b[1;33m\u001b[0m\u001b[0m\n\u001b[1;32m---> 19\u001b[1;33m \u001b[1;32mwhile\u001b[0m \u001b[0mcommand\u001b[0m\u001b[1;33m[\u001b[0m\u001b[1;36m0\u001b[0m\u001b[1;33m]\u001b[0m \u001b[1;33m!=\u001b[0m \u001b[1;34m'end'\u001b[0m\u001b[1;33m:\u001b[0m\u001b[1;33m\u001b[0m\u001b[1;33m\u001b[0m\u001b[0m\n\u001b[0m\u001b[0;32m     20\u001b[0m     \u001b[1;32mif\u001b[0m \u001b[0mcommand\u001b[0m\u001b[1;33m[\u001b[0m\u001b[1;36m0\u001b[0m\u001b[1;33m]\u001b[0m \u001b[1;33m==\u001b[0m \u001b[1;34m'add'\u001b[0m\u001b[1;33m:\u001b[0m\u001b[1;33m\u001b[0m\u001b[1;33m\u001b[0m\u001b[0m\n\u001b[0;32m     21\u001b[0m         \u001b[0mAddDot\u001b[0m\u001b[1;33m(\u001b[0m\u001b[0mint\u001b[0m\u001b[1;33m(\u001b[0m\u001b[0mcommand\u001b[0m\u001b[1;33m[\u001b[0m\u001b[1;36m1\u001b[0m\u001b[1;33m]\u001b[0m\u001b[1;33m)\u001b[0m\u001b[1;33m,\u001b[0m \u001b[0mfloat\u001b[0m\u001b[1;33m(\u001b[0m\u001b[0mcommand\u001b[0m\u001b[1;33m[\u001b[0m\u001b[1;36m2\u001b[0m\u001b[1;33m]\u001b[0m\u001b[1;33m)\u001b[0m\u001b[1;33m,\u001b[0m \u001b[0mfloat\u001b[0m\u001b[1;33m(\u001b[0m\u001b[0mcommand\u001b[0m\u001b[1;33m[\u001b[0m\u001b[1;36m3\u001b[0m\u001b[1;33m]\u001b[0m\u001b[1;33m)\u001b[0m\u001b[1;33m,\u001b[0m \u001b[0mpoints\u001b[0m\u001b[1;33m)\u001b[0m\u001b[1;33m\u001b[0m\u001b[1;33m\u001b[0m\u001b[0m\n",
      "\u001b[1;31mIndexError\u001b[0m: list index out of range"
     ]
    }
   ],
   "source": [
    "def PolygonArea(corners):\n",
    "    \"\"\"\n",
    "    Функция, считающая площадь многоугольника по координатам\n",
    "    (см. Shoelace formula)\n",
    "    \"\"\"\n",
    "    n = len(corners) # of corners\n",
    "    area = 0.0\n",
    "    for i in range(n):\n",
    "        j = (i + 1) % n\n",
    "        area += corners[i][0] * corners[j][1]\n",
    "        area -= corners[j][0] * corners[i][1]\n",
    "    area = abs(area) / 2.0\n",
    "    return round(area, 5)\n",
    "\n",
    "\n",
    "def AddDot(pos, x, y, arr):\n",
    "    arr.insert(pos, (x, y))\n",
    "\n",
    "\n",
    "points = []\n",
    "\n",
    "command = input().split()\n",
    "while command[0] != 'end':\n",
    "    if command[0] == 'add':\n",
    "        AddDot(int(command[1]), float(command[2]), float(command[3]), points)\n",
    "    if command[0] == 'area':\n",
    "        print(PolygonArea(points))\n",
    "    command = input().split()"
   ]
  }
 ],
 "metadata": {
  "kernelspec": {
   "display_name": "Python 3",
   "language": "python",
   "name": "python3"
  },
  "language_info": {
   "codemirror_mode": {
    "name": "ipython",
    "version": 3
   },
   "file_extension": ".py",
   "mimetype": "text/x-python",
   "name": "python",
   "nbconvert_exporter": "python",
   "pygments_lexer": "ipython3",
   "version": "3.7.5"
  }
 },
 "nbformat": 4,
 "nbformat_minor": 2
}
