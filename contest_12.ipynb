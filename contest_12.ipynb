{
 "cells": [
  {
   "cell_type": "markdown",
   "metadata": {},
   "source": [
    "## На шахматной доске (8x8) стоит одна белая шашка. Сколькими способами она может пройти в дамки? Белая шашка ходит по диагонали на одну клетку вверх-вправо или вверх-влево. Шашка проходит в дамки, если попадает на верхнюю горизонталь."
   ]
  },
  {
   "cell_type": "code",
   "execution_count": 19,
   "metadata": {},
   "outputs": [
    {
     "name": "stdout",
     "output_type": "stream",
     "text": [
      "2 1\n",
      "69\n"
     ]
    }
   ],
   "source": [
    "y, x = map( int, input().split() )\n",
    "\n",
    "ways = [ [0] * 10 for _ in range(9) ]\n",
    "\n",
    "ways[x][y] = 1\n",
    "\n",
    "for i in range(x + 1, 9):\n",
    "    \n",
    "    for j in range(1, 9):\n",
    "    \n",
    "        ways[i][j] = ways[i - 1][j - 1] + ways[i - 1][j + 1]\n",
    "        \n",
    "\n",
    "\n",
    "print(sum(ways[8]))"
   ]
  },
  {
   "cell_type": "markdown",
   "metadata": {},
   "source": [
    "## В парке развлечений Васе попался аттракцион.\n",
    "\n",
    "Это прямоугольное поле NxM. Вася начинает свой путь в левой верхней клетке, а заканчивает в правой нижней. По правилам аттракциона Вася может двигаться только вниз и вправо и должен платить штраф p ij за прохождение клетки. Вася взял с собой не так уж и много денег, поэтому он хочет пройти аттракцион, потратив как можно меньше.\n",
    "\n",
    "Помогите Васе узнать, сколько денег у него останется."
   ]
  },
  {
   "cell_type": "code",
   "execution_count": 13,
   "metadata": {
    "scrolled": true
   },
   "outputs": [
    {
     "name": "stdout",
     "output_type": "stream",
     "text": [
      "3\n",
      "3\n",
      "0\n",
      "2\n",
      "1\n",
      "4\n",
      "2\n",
      "3\n",
      "1\n",
      "2\n",
      "1\n",
      "8\n",
      "1\n"
     ]
    }
   ],
   "source": [
    "m = int(input())\n",
    "n = int(input())\n",
    "\n",
    "p = [ [int(input()) for _ in range(n)] for _ in range(m) ]\n",
    "\n",
    "max_money = int(input())\n",
    "\n",
    "\n",
    "\n",
    "\n",
    "## situations in limits\n",
    "if m == 1 and n == 1:\n",
    "    \n",
    "    print(max_money)\n",
    "    exit()\n",
    "\n",
    "if max_money == 0:\n",
    "    \n",
    "    print(0)\n",
    "    exit()\n",
    "    \n",
    "\n",
    "    \n",
    "    \n",
    "\n",
    "score = [ [0] * (n + 1) for _ in range(m + 1)]\n",
    "\n",
    "\n",
    "\n",
    "for j in range(1, n + 1):\n",
    "    \n",
    "    score[0][j] = 1000000 + 1\n",
    "    \n",
    "    \n",
    "\n",
    "for i in range(1, m + 1):\n",
    "    \n",
    "    score[i][0] = 1000000 + 1\n",
    "\n",
    "    \n",
    "## initial conditions    \n",
    "score[2][1], score[1][2] = p[1][0], p[0][1]\n",
    "    \n",
    "    \n",
    "    \n",
    "\n",
    "    \n",
    "for i in range(1, m + 1):\n",
    "\n",
    "    if i == 1:\n",
    "        \n",
    "        for j in range(3, n + 1):\n",
    "        \n",
    "            #print('i = {}, j = {} ///'.format(i, j), score[i - 1][j], score[i][j - 1])\n",
    "            score[i][j] = p[i - 1][j - 1] + min( score[i - 1][j], score[i][j - 1] )\n",
    "    \n",
    "    elif i == 2:\n",
    "        \n",
    "        for j in range(2, n + 1):\n",
    "        \n",
    "            #print('i = {}, j = {} ///'.format(i, j), score[i - 1][j], score[i][j - 1])\n",
    "            score[i][j] = p[i - 1][j - 1] + min( score[i - 1][j], score[i][j - 1] )        \n",
    "    \n",
    "    else:\n",
    "        \n",
    "        for j in range(1, n + 1):\n",
    "\n",
    "            #print('i = {}, j = {} ///'.format(i, j), score[i - 1][j], score[i][j - 1])\n",
    "            score[i][j] = p[i - 1][j - 1] + min( score[i - 1][j], score[i][j - 1] )     \n",
    "        \n",
    "        \n",
    "        \n",
    "        \n",
    "        \n",
    "min_score = score[m][n]\n",
    "\n",
    "if min_score <= max_money:\n",
    "    \n",
    "    print(max_money - min_score)\n",
    "    \n",
    "else:\n",
    "    \n",
    "    print('Impossible')"
   ]
  },
  {
   "cell_type": "markdown",
   "metadata": {},
   "source": [
    "# ДОДЕЛАТЬ !!!"
   ]
  },
  {
   "cell_type": "markdown",
   "metadata": {},
   "source": [
    "## На шахматной доске расставлено несколько черных пешек и одна белая. Черные пешки не подвижны, белая может ходить на одну клетку вперед (если там нет черной пешки) или есть черную пешку наискосок (на одну клетку вперед и на одну вправо или влево). Посчитайте, сколькими способами белая пешка может дойти до конца поля и стать ферзем.\n",
    "\n",
    "Строки шахматной доски пронумерованы числами от 1 до 8, столбцы буквами от a до h. Строка 1 - самая нижняя, столбец a - самый левый. Белой пешке надо добраться до строки с номером 8. Eсли она уже стоит на 8й строке, то считается что у нее ровно 1 способ (стоять на месте)."
   ]
  },
  {
   "cell_type": "code",
   "execution_count": 16,
   "metadata": {},
   "outputs": [
    {
     "name": "stdout",
     "output_type": "stream",
     "text": [
      "0\n",
      "c4\n",
      "\n"
     ]
    },
    {
     "ename": "IndexError",
     "evalue": "string index out of range",
     "output_type": "error",
     "traceback": [
      "\u001b[1;31m---------------------------------------------------------------------------\u001b[0m",
      "\u001b[1;31mIndexError\u001b[0m                                Traceback (most recent call last)",
      "\u001b[1;32m<ipython-input-16-4be6be34c454>\u001b[0m in \u001b[0;36m<module>\u001b[1;34m\u001b[0m\n\u001b[0;32m      6\u001b[0m \u001b[0mblack\u001b[0m \u001b[1;33m=\u001b[0m \u001b[1;33m[\u001b[0m \u001b[1;33m(\u001b[0m \u001b[0mint\u001b[0m\u001b[1;33m(\u001b[0m\u001b[0minput\u001b[0m\u001b[1;33m(\u001b[0m\u001b[1;33m)\u001b[0m\u001b[1;33m[\u001b[0m\u001b[1;36m1\u001b[0m\u001b[1;33m]\u001b[0m\u001b[1;33m)\u001b[0m\u001b[1;33m,\u001b[0m \u001b[0mletter_set\u001b[0m\u001b[1;33m[\u001b[0m \u001b[0minput\u001b[0m\u001b[1;33m(\u001b[0m\u001b[1;33m)\u001b[0m\u001b[1;33m[\u001b[0m\u001b[1;36m0\u001b[0m\u001b[1;33m]\u001b[0m \u001b[1;33m]\u001b[0m \u001b[1;33m)\u001b[0m \u001b[1;32mfor\u001b[0m \u001b[0m_\u001b[0m \u001b[1;32min\u001b[0m \u001b[0mrange\u001b[0m\u001b[1;33m(\u001b[0m\u001b[0mblack_amount\u001b[0m\u001b[1;33m)\u001b[0m \u001b[1;33m]\u001b[0m\u001b[1;33m\u001b[0m\u001b[1;33m\u001b[0m\u001b[0m\n\u001b[0;32m      7\u001b[0m \u001b[1;33m\u001b[0m\u001b[0m\n\u001b[1;32m----> 8\u001b[1;33m \u001b[0mwhite\u001b[0m \u001b[1;33m=\u001b[0m \u001b[1;33m(\u001b[0m \u001b[0mint\u001b[0m\u001b[1;33m(\u001b[0m\u001b[0minput\u001b[0m\u001b[1;33m(\u001b[0m\u001b[1;33m)\u001b[0m\u001b[1;33m[\u001b[0m\u001b[1;36m1\u001b[0m\u001b[1;33m]\u001b[0m\u001b[1;33m)\u001b[0m\u001b[1;33m,\u001b[0m \u001b[0mletter_set\u001b[0m\u001b[1;33m[\u001b[0m \u001b[0minput\u001b[0m\u001b[1;33m(\u001b[0m\u001b[1;33m)\u001b[0m\u001b[1;33m[\u001b[0m\u001b[1;36m0\u001b[0m\u001b[1;33m]\u001b[0m \u001b[1;33m]\u001b[0m \u001b[1;33m)\u001b[0m\u001b[1;33m\u001b[0m\u001b[1;33m\u001b[0m\u001b[0m\n\u001b[0m",
      "\u001b[1;31mIndexError\u001b[0m: string index out of range"
     ]
    }
   ],
   "source": [
    "letter_set = {'a' : 1, 'b' : 2, 'c' : 3, 'd' : 4, 'e' : 5,\n",
    "              'f' : 6, 'g' : 7, 'h' : 8}\n",
    "\n",
    "black_amount = int(input())\n",
    "\n",
    "black = [ ( int(input()[1]), letter_set[ input()[0] ] ) for _ in range(black_amount) ]\n",
    "\n",
    "white = ( int(input()[1]), letter_set[ input()[0] ] )"
   ]
  },
  {
   "cell_type": "code",
   "execution_count": null,
   "metadata": {},
   "outputs": [],
   "source": []
  }
 ],
 "metadata": {
  "kernelspec": {
   "display_name": "Python 3",
   "language": "python",
   "name": "python3"
  },
  "language_info": {
   "codemirror_mode": {
    "name": "ipython",
    "version": 3
   },
   "file_extension": ".py",
   "mimetype": "text/x-python",
   "name": "python",
   "nbconvert_exporter": "python",
   "pygments_lexer": "ipython3",
   "version": "3.7.5"
  }
 },
 "nbformat": 4,
 "nbformat_minor": 2
}
