{
 "cells": [
  {
   "cell_type": "markdown",
   "metadata": {},
   "source": [
    "## Дана скобочная последовательность, состоящая из круглых, квадратных и фигурных скобок. Необходимо определить, является ли скобочная последовательность корректной."
   ]
  },
  {
   "cell_type": "code",
   "execution_count": 13,
   "metadata": {},
   "outputs": [
    {
     "name": "stdout",
     "output_type": "stream",
     "text": [
      "{[}\n",
      "NO\n"
     ]
    }
   ],
   "source": [
    "string = input()\n",
    "\n",
    "stack = []\n",
    "\n",
    "for i, par in enumerate(string):\n",
    "    if par in ['(', '[', '{']:\n",
    "        stack.append(par)\n",
    "    elif i == 0 and par in [')', ']', '}']:\n",
    "        break\n",
    "    if stack:\n",
    "        if ((par == ')' and stack[-1] == '(')\n",
    "            or\n",
    "            (par == ']' and stack[-1] == '[')\n",
    "            or\n",
    "            (par == '}' and stack[-1] == '{')):\n",
    "            del stack[-1]\n",
    "            \n",
    "if stack:\n",
    "    print('NO')\n",
    "else:\n",
    "    print('YES')"
   ]
  },
  {
   "cell_type": "markdown",
   "metadata": {},
   "source": [
    "## Двоичная куча - двоичное дерево, в котором выполняются три условия: 1. Значение в любой вершине не меньше, чем значения ее потомков. 2. На i-ом слое 2 i вершин, кроме последнего. 3. Последний слой заполняется слева направо.\n",
    "\n",
    "О свойствах 2 и 3 мы уже побеспокоились за Вас. Элемент под номером 0 является корнем дерева. Для элемента под номером i потомки будут иметь номера 2*i+1 и 2*i+2 . Например, для элемента 0 потомки будут иметь номера 1 и 2 . Ваша задача проверить данный вам массив на выполнение свойства 1"
   ]
  },
  {
   "cell_type": "code",
   "execution_count": 20,
   "metadata": {},
   "outputs": [
    {
     "name": "stdout",
     "output_type": "stream",
     "text": [
      "3\n",
      "6 7 3\n",
      "NO\n"
     ]
    }
   ],
   "source": [
    "length = int(input())\n",
    "arr = list(map(int, input().split()))\n",
    "\n",
    "flag = True\n",
    "for i in range(0, (length - 3)//2 + 1):\n",
    "    if arr[i] < arr[2*i + 1] or arr[i] < arr[2*i + 2]:\n",
    "        flag = False\n",
    "        \n",
    "if flag:\n",
    "    print('YES')\n",
    "else:\n",
    "    print('NO')"
   ]
  },
  {
   "cell_type": "markdown",
   "metadata": {},
   "source": [
    "## Имеется массив из кортежей, описывающий собой односвязный список.\n",
    "Его формат: linked_list = [(key, next_pos), (key, next_pos), (key, next_pos), ...]. Здесь key - хранимое положительное значение, next_pos - номер (в массиве) следующего элемента. У последнего (в односвязном списке) элемента next_pos = -1. Вам передаётся список и дополнительно кортеж, соответствующий его голове. Необходимо написать функцию list_to_array(linked_list, head), которая из списка создаёт и возвращает массив. Ничего, кроме данной функции, реализовывать не нужно."
   ]
  },
  {
   "cell_type": "code",
   "execution_count": 29,
   "metadata": {},
   "outputs": [],
   "source": [
    "def list_to_array(linked_list, head):\n",
    "    arr = []\n",
    "    for i in range(len(linked_list)):\n",
    "        if i == 0:\n",
    "            arr.append(head[0])\n",
    "            curr = head[1]\n",
    "        elif curr != -1:\n",
    "            arr.append(linked_list[curr][0])\n",
    "            curr = linked_list[curr][1]\n",
    "    return arr\n"
   ]
  },
  {
   "cell_type": "markdown",
   "metadata": {},
   "source": [
    "## Гоблины Мглистых гор очень любях ходить к своим шаманам. Так как гоблинов много, к шаманам часто образуются очень длинные очереди. А поскольку много гоблинов в одном месте быстро образуют шумную толку, которая мешает шаманам проводить сложные медицинские манипуляции, последние решили установить некоторые правила касательно порядка в очереди.\n",
    "\n",
    "Обычные гоблины при посещении шаманов должны вставать в конец очереди. Привилегированные же гоблины, знающие особый пароль, встают ровно в ее середину, причем при нечетной длине очереди они встают сразу за центром.\n",
    "\n",
    "Так как гоблины также широко известны своим непочтительным отношением ко всяческим правилам и законам, шаманы попросили вас написать программу, которая бы отслеживала порядок гоблинов в очереди."
   ]
  },
  {
   "cell_type": "code",
   "execution_count": null,
   "metadata": {
    "scrolled": true
   },
   "outputs": [
    {
     "name": "stdout",
     "output_type": "stream",
     "text": [
      "529\n",
      "+ 349\n",
      "-\n",
      "349\n",
      "* 70\n",
      "\n",
      "+ 210\n",
      "+ 207\n",
      "+ 281\n",
      "+ 231\n",
      "-\n",
      "70\n"
     ]
    }
   ],
   "source": [
    "amount = int(input())\n",
    "\n",
    "stack = []\n",
    "for i in range(amount):\n",
    "    comm = input()\n",
    "    if comm[2:].isdigit() and comm[0] == '+':\n",
    "        stack.append(int(comm[2:]))\n",
    "    elif comm[2:].isdigit() and comm[0] == '*':\n",
    "        stack.insert(len(stack) // 2 + len(stack) % 2, int(comm[2:]))\n",
    "    elif comm == '-':\n",
    "        print(stack.pop(0))"
   ]
  },
  {
   "cell_type": "markdown",
   "metadata": {},
   "source": [
    "## На острове живут рыцари и лжецы, их дома расположены по кругу. Они очень любят делиться друг с другом новостями, причём рыцарь говорит новость как услышал, а лжец переверает.\n",
    "В нулевой день приезжает путешественник и сообщает жителю дома №1 новость (ложную или истинную). На следующее утро житель дома №1 сообщает её своему соседу из дома №2, на второй день житель дома №2 говорит новость соседу из дома №3 и т.д. Если лжец говорит правду, он становится рыцарем, а если рыцарь говорит ложь, он умирает вечером того же дня. Если сосед из дома i не находит соседа из дома i+1, он идёт к следующему дому. Последний выживший сам с собой не разговаривает. Требуется узнать, кто останется на острове через M дней распространения новости."
   ]
  },
  {
   "cell_type": "code",
   "execution_count": 4,
   "metadata": {},
   "outputs": [
    {
     "name": "stdout",
     "output_type": "stream",
     "text": [
      "5 0\n",
      "Shanae 0\n",
      "Vlad 1\n",
      "Keyaan 0\n",
      "Ella-Mai 1\n",
      "Cordelia 1\n",
      "2\n",
      "Keyaan 0\n",
      "Ella-Mai 1\n",
      "Cordelia 1\n"
     ]
    }
   ],
   "source": [
    "s = input().split()\n",
    "n = int(s[0])\n",
    "new = int(s[1])\n",
    "arr = []\n",
    "for i in range(0, n):\n",
    "    s = input().split()\n",
    "    arr.append([s[0], int(s[1])])\n",
    "#print(arr)\n",
    "m = int(input())\n",
    "cur_new = new\n",
    "i1 = 0\n",
    "for k in range(0,m):\n",
    "    if len(arr) == 1:\n",
    "        break\n",
    "    i = i1 % len(arr)\n",
    "    #print(i1, arr[i], cur_new)\n",
    "    cur_per = arr[i]\n",
    "    if arr[i][1] == 1:\n",
    "        if cur_new != 1:\n",
    "            arr.pop(i)\n",
    "            i1 -= 1\n",
    "    else:\n",
    "        if cur_new == 1:\n",
    "            cur_new = 0\n",
    "        else:\n",
    "            cur_new = 1\n",
    "            arr[i][1] = 1\n",
    "        #if new == cur_new:\n",
    "    #print(cur_new, arr)\n",
    "    i1 += 1\n",
    "\n",
    "\n",
    "for a in arr:\n",
    "    print(a[0], a[1])"
   ]
  },
  {
   "cell_type": "markdown",
   "metadata": {},
   "source": [
    "## В этой задаче необходимо создать калькулятор, работающий с целыми числами и поддерживающий переменные.\n",
    "\n",
    "Калькулятор вычисляет выражение, записанное в обратной польской нотации."
   ]
  },
  {
   "cell_type": "code",
   "execution_count": 1,
   "metadata": {},
   "outputs": [
    {
     "name": "stdout",
     "output_type": "stream",
     "text": [
      "2 - x * 10 y 2 + * - =\n",
      "x 1 =\n",
      "y 1 =\n",
      "incorrect\n",
      "-28\n"
     ]
    }
   ],
   "source": [
    "stack = []\n",
    "variables = {}\n",
    "commands = input().split()\n",
    "\n",
    "if commands[-1] != '=':\n",
    "    print('incorrect')\n",
    "    exit(0)\n",
    "\n",
    "for el in commands:\n",
    "    if el not in ['+', '-', '*', '/', '='] and not el.isdigit():\n",
    "        variables[el] = 0\n",
    "for i in range(len(variables)):\n",
    "    var = input().split()\n",
    "    if var[0] in variables.keys():\n",
    "        variables[var[0]] = var[1]\n",
    "    else:\n",
    "        print('incorrect')\n",
    "        exit(0)        \n",
    "\n",
    "for comm in commands:\n",
    "    if comm.isdigit():  # если это чиселка, то добавляем в стак\n",
    "        stack.append(int(comm))\n",
    "    elif comm in variables.keys():\n",
    "        stack.append(int(variables[comm]))\n",
    "    elif comm == '+':  # если +, то складываем последние 2 числа из стека\n",
    "        if len(stack) >= 2:\n",
    "            stack[-2] += stack[-1]\n",
    "            del stack[-1]  # удаляем последний элемент\n",
    "        else:\n",
    "            print('incorrect')\n",
    "            exit(0)\n",
    "    elif comm == '-':  # если -, то аналогично\n",
    "        if len(stack) >= 2:\n",
    "            stack[-2] -= stack[-1]\n",
    "            del stack[-1]  # удаляем последний элемент\n",
    "        else:\n",
    "            print('incorrect')\n",
    "            exit(0)\n",
    "    elif comm == '*':  # * тоже\n",
    "        if len(stack) >= 2:\n",
    "            stack[-2] *= stack[-1]\n",
    "            del stack[-1]  # удаляем последний элемент\n",
    "        else:\n",
    "            print('incorrect')\n",
    "            exit(0)\n",
    "    elif comm == '/':  # * тоже\n",
    "        if len(stack) >= 2:\n",
    "            stack[-2] //= stack[-1]\n",
    "            del stack[-1]  # удаляем последний элемент\n",
    "        else:\n",
    "            print('incorrect')\n",
    "            exit(0)\n",
    "    \n",
    "if len(stack) == 1:\n",
    "    print(stack[0])\n",
    "else:\n",
    "    print('incorrect')"
   ]
  }
 ],
 "metadata": {
  "kernelspec": {
   "display_name": "Python 3",
   "language": "python",
   "name": "python3"
  },
  "language_info": {
   "codemirror_mode": {
    "name": "ipython",
    "version": 3
   },
   "file_extension": ".py",
   "mimetype": "text/x-python",
   "name": "python",
   "nbconvert_exporter": "python",
   "pygments_lexer": "ipython3",
   "version": "3.7.5"
  }
 },
 "nbformat": 4,
 "nbformat_minor": 2
}
