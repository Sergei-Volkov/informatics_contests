{
 "cells": [
  {
   "cell_type": "markdown",
   "metadata": {},
   "source": [
    "## Василий Иванович придумал новый вид покера. Там каждый игрок должен собрать как можно больше карт в прикуп. Все приходящие карты помещаются в расклад. ДЛя каждой новой карты нужно проверить:если её масть совпадает с мастью последней карты в раскладе, а достоинство отличается не больше, чем на 2 - их можно отправить в прикуп (последнюю в раскладе и вновь пришедшую). Если же после такого удаления масть последней карты в раскладе совпадает с мастью самой первой, то эти две тоже можно отправить в прикуп. Сосчитать, сколько карт окажется в прикупе при данном порядке следования карт в игре. (Если Петька ни разу не зевнул)."
   ]
  },
  {
   "cell_type": "code",
   "execution_count": 44,
   "metadata": {
    "collapsed": true
   },
   "outputs": [
    {
     "name": "stdout",
     "output_type": "stream",
     "text": [
      "\n"
     ]
    },
    {
     "ename": "IndexError",
     "evalue": "list index out of range",
     "output_type": "error",
     "traceback": [
      "\u001b[1;31m---------------------------------------------------------------------------\u001b[0m",
      "\u001b[1;31mIndexError\u001b[0m                                Traceback (most recent call last)",
      "\u001b[1;32m<ipython-input-44-b719b5054ed0>\u001b[0m in \u001b[0;36m<module>\u001b[1;34m\u001b[0m\n\u001b[0;32m      1\u001b[0m \u001b[0mcards\u001b[0m \u001b[1;33m=\u001b[0m \u001b[0minput\u001b[0m\u001b[1;33m(\u001b[0m\u001b[1;33m)\u001b[0m\u001b[1;33m.\u001b[0m\u001b[0msplit\u001b[0m\u001b[1;33m(\u001b[0m\u001b[1;33m)\u001b[0m\u001b[1;33m\u001b[0m\u001b[1;33m\u001b[0m\u001b[0m\n\u001b[0;32m      2\u001b[0m \u001b[1;33m\u001b[0m\u001b[0m\n\u001b[1;32m----> 3\u001b[1;33m \u001b[0mrasklad\u001b[0m \u001b[1;33m=\u001b[0m \u001b[1;33m[\u001b[0m\u001b[0mcards\u001b[0m\u001b[1;33m[\u001b[0m\u001b[1;36m0\u001b[0m\u001b[1;33m]\u001b[0m\u001b[1;33m]\u001b[0m\u001b[1;33m\u001b[0m\u001b[1;33m\u001b[0m\u001b[0m\n\u001b[0m\u001b[0;32m      4\u001b[0m \u001b[0mprikup\u001b[0m \u001b[1;33m=\u001b[0m \u001b[1;33m[\u001b[0m\u001b[1;33m]\u001b[0m\u001b[1;33m\u001b[0m\u001b[1;33m\u001b[0m\u001b[0m\n\u001b[0;32m      5\u001b[0m \u001b[1;33m\u001b[0m\u001b[0m\n",
      "\u001b[1;31mIndexError\u001b[0m: list index out of range"
     ]
    }
   ],
   "source": [
    "cards = input().split()\n",
    "\n",
    "rasklad = [cards[0]]\n",
    "prikup = []\n",
    "\n",
    "for i in range(1, len(cards)):\n",
    "    rasklad.insert(0, cards[i])  # выкладываем первую карту\n",
    "    if len(rasklad) >= 2:  # если на столе есть хотя бы 2 карты\n",
    "        if (rasklad[0][0] == rasklad[1][0] and  # проверки из условия\n",
    "            abs(int(rasklad[0][-1]) - int(rasklad[1][-1])) <= 2\n",
    "           ):\n",
    "            prikup.append(rasklad[0])  # переносим в прикуп\n",
    "            prikup.append(rasklad[1])\n",
    "            del rasklad[0:2]  # удаляем из расклада\n",
    "            # здесь же проверка доп. условия\n",
    "            if len(rasklad) >= 2:  # если на столе осталось\n",
    "                while len(rasklad) > 2:  # хотя бы 2 карты\n",
    "                    if rasklad[0][0] == rasklad[-1][0]:\n",
    "                        del rasklad[0]\n",
    "                        del rasklad[-1]\n",
    "                        prikup.append(rasklad[0])\n",
    "                        prikup.append(rasklad[-1])\n",
    "                    else:  # если уже первая и последняя карты не совпали,\n",
    "                        break  # то дальше не проверяем\n",
    "                        \n",
    "print(len(prikup))"
   ]
  },
  {
   "cell_type": "markdown",
   "metadata": {},
   "source": [
    "## У секретарши сломался принтер и вместо годового отчёта для аудиторов распечаталась абракадабра. А именно, в каждой строке идут какие-то числа через пробел и знаки. Каждую строкку следует читать последовательно слева направо и производить операции по следующим правилам.\n",
    "\n",
    "1) Если в строке встречается знак #, то нужно взять сумму всех чисел , стоящих в строке перед эттим знаком. Если после какого-то числа стоит символ % - то вместо предпоследнего числа перед знаком процента нужно взять количество процентов, равное последнему перед значком процента числу, от него. Например, 2 50 % означает 1.\n",
    "\n",
    "2) Если какую-то операцию сделать нельзя(напимер, не достаёт чисел в строке перед ней), то возвращается ноль и дальше строка не читается.\n",
    "\n",
    "3) После того, как вся строка прочтена правильным следует считать последнее обработанное число (например, 1 2 3 -> 3) или же 0 , если строка пустая ."
   ]
  },
  {
   "cell_type": "code",
   "execution_count": 56,
   "metadata": {},
   "outputs": [
    {
     "name": "stdout",
     "output_type": "stream",
     "text": [
      "% 1 2 3 # % #\n",
      "0.0\n"
     ]
    }
   ],
   "source": [
    "operations = input().split()\n",
    "\n",
    "stack = []  # стек для чиселок\n",
    "for i, comm in enumerate(operations):\n",
    "    if comm[-1].isdigit():  # если это число, то добавляем в стек\n",
    "        stack.append(float(comm))\n",
    "    elif comm == '#':  # если #, то суммируем\n",
    "        if stack:  # если есть что суммировать...\n",
    "            stack = [sum(stack)]\n",
    "        else:\n",
    "            print(0.)\n",
    "            break\n",
    "    elif comm == '%':  # если %, то берем процентик\n",
    "        if len(stack) >= 2:  # и удаляем последний элемент из стека\n",
    "            stack[-2] *= (stack[-1] / 100)\n",
    "            del stack[-1]\n",
    "        else:  # если, конечно, есть от чего брать процент\n",
    "            print(0.)\n",
    "            break\n",
    "    if i == len(operations) - 1:  # если это последнее действие\n",
    "        if stack:  # и стек не пуст, то печатаем\n",
    "            print(stack[-1])  # последний элемент\n",
    "        else:\n",
    "            print(0.)"
   ]
  },
  {
   "cell_type": "markdown",
   "metadata": {},
   "source": [
    "## В обратной польской записи операция записывается после двух операндов. Например, сумма двух чисел A и B записывается как A B + . Запись B C + D * обозначает привычное нам (B + C) * D , а запись A B C + D * + означает A + (B + C) * D . Достоинство постфиксной записи в том, что она не требует скобок и дополнительных соглашений о приоритете операторов для своего чтения."
   ]
  },
  {
   "cell_type": "code",
   "execution_count": 10,
   "metadata": {
    "collapsed": true
   },
   "outputs": [
    {
     "name": "stdout",
     "output_type": "stream",
     "text": [
      "4\n",
      "<class 'str'>\n",
      "-13\n",
      "17\n",
      "*\n",
      "+\n",
      "-5\n",
      "-1\n",
      "17\n",
      "+\n",
      "+\n",
      "-\n",
      "4\n",
      "11\n",
      "8\n",
      "-6\n",
      "2\n",
      "-\n",
      "1\n",
      "-\n",
      "-\n",
      "-15\n",
      "-3\n",
      "+\n",
      "+\n",
      "0\n",
      "-2\n",
      "-\n",
      "7\n",
      "2\n",
      "-\n",
      "-\n",
      "+\n",
      "*\n",
      "-\n",
      "-\n",
      "=\n",
      "-276\n"
     ]
    }
   ],
   "source": [
    "stack = []\n",
    "comm = input()\n",
    "\n",
    "while comm != '=':  # стоп-элемент\n",
    "    if comm[-1].isdigit():  # если это чиселка, то добавляем в стак\n",
    "        stack.append(int(comm))\n",
    "    elif comm == '+':  # если +, то складываем последние 2 числа из стека\n",
    "        stack[-2] += stack[-1]\n",
    "        del stack[-1]  # удаляем последний элемент\n",
    "    elif comm == '-':  # если -, то аналогично\n",
    "        stack[-2] -= stack[-1]\n",
    "        del stack[-1]\n",
    "    elif comm == '*':  # * тоже\n",
    "        stack[-2] *= stack[-1]\n",
    "        del stack[-1]\n",
    "    \n",
    "    comm = input()\n",
    "\n",
    "print(stack[0])  # итоговое значение"
   ]
  },
  {
   "cell_type": "markdown",
   "metadata": {},
   "source": [
    "## Вам задан массив целых чисел, который необходимо превратить в кучу с минимумом на вершине."
   ]
  },
  {
   "cell_type": "code",
   "execution_count": 13,
   "metadata": {},
   "outputs": [
    {
     "name": "stdout",
     "output_type": "stream",
     "text": [
      "3\n",
      "6 7 3\n",
      "3 7 6\n"
     ]
    }
   ],
   "source": [
    "def down(array, i, end):  # creating binary heap\n",
    "    if end > 2*i + 2:  # if we have 2 children\n",
    "        if array[2*i + 2] < array[2*i + 1]:  # if one children is less then other\n",
    "            if array[2*i + 2] < array[i]:  # if children is less then parent\n",
    "                array[2*i + 2], array[i] = array[i], array[2*i + 2]  # swap them\n",
    "                down(array, 2*i + 2, end)  # next stage of pyramid\n",
    "        else:  # if other children is less\n",
    "            if array[2*i + 1] < array[i]:  # if children is less then parent\n",
    "                array[2*i + 1], array[i] = array[i], array[2*i + 1]  # swap them\n",
    "                down(array, 2*i + 1, end)  # next stage of pyramid\n",
    "    elif end > 2*i + 1:  # if we have 1 child\n",
    "        if array[2*i + 1] < array[i]:  # if child is less then parent\n",
    "            array[2*i + 1], array[i] = array[i], array[2*i + 1]  # swap them\n",
    "            down(array, 2*i + 1, end)  # next stage\n",
    "\n",
    "length = int(input())\n",
    "abc = list(map(int, input().split()))  # our list\n",
    "\n",
    "for i in range(len(abc) // 2, -1, -1):  # create binary heap\n",
    "    down(abc, i, len(abc))\n",
    "    \n",
    "print(*abc)"
   ]
  },
  {
   "cell_type": "markdown",
   "metadata": {},
   "source": [
    "## Напишите функцию heapsort(A) , выполняющую сортировку кучей массива целых чисел A по возрастранию . Сортировка должна происходить в самом массиве A , без выделения дополнительных массивов.\n",
    "\n",
    "Во время разработки пользуйтесь кучей с максимальным элементом в корне (max-heap).\n",
    "\n",
    "Также, функция heapsort(A) должна производить следующую печать: 1. одноразовая печать массива A сразу после превращения его в кучу, 2. печать массива A в конце каждой итерации цикла сортировки.\n",
    "\n",
    "Массив печатайте на одной строке с пробелом между элементами.\n",
    "\n",
    "Ваш код может включать и другие функции."
   ]
  },
  {
   "cell_type": "code",
   "execution_count": 27,
   "metadata": {},
   "outputs": [],
   "source": [
    "def down(array, i, end):  # creating binary heap\n",
    "    if end > 2*i + 2:  # if we have 2 children\n",
    "        if array[2*i + 2] > array[2*i + 1]:  # if one children is bigger then other\n",
    "            if array[2*i + 2] > array[i]:  # if children is bigger then parent\n",
    "                array[2*i + 2], array[i] = array[i], array[2*i + 2]  # swap them\n",
    "                down(array, 2*i + 2, end)  # next stage of pyramid\n",
    "        else:  # if other children is bigger\n",
    "            if array[2*i + 1] > array[i]:  # if children is bigger then parent\n",
    "                array[2*i + 1], array[i] = array[i], array[2*i + 1]  # swap them\n",
    "                down(array, 2*i + 1, end)  # next stage of pyramid\n",
    "    elif end > 2*i + 1:  # if we have 1 child\n",
    "        if array[2*i + 1] > array[i]:  # if child is bigger then parent\n",
    "            array[2*i + 1], array[i] = array[i], array[2*i + 1]  # swap them\n",
    "            down(array, 2*i + 1, end)  # next stage\n",
    "    \n",
    "def heapsort(abc):\n",
    "    for i in range(len(abc) // 2 + 1, -1, -1):  # create binary heap\n",
    "        down(abc, i, len(abc))\n",
    "    print(*abc)\n",
    "    \n",
    "    for i in range(len(abc) - 1):  # cut last (biggest) element and iterate throw lasting part\n",
    "        abc[0], abc[- i - 1] = abc[- i - 1], abc[0]\n",
    "        down(abc, 0, len(abc) - i - 1)\n",
    "        print(*abc)"
   ]
  }
 ],
 "metadata": {
  "kernelspec": {
   "display_name": "Python 3",
   "language": "python",
   "name": "python3"
  },
  "language_info": {
   "codemirror_mode": {
    "name": "ipython",
    "version": 3
   },
   "file_extension": ".py",
   "mimetype": "text/x-python",
   "name": "python",
   "nbconvert_exporter": "python",
   "pygments_lexer": "ipython3",
   "version": "3.7.5"
  }
 },
 "nbformat": 4,
 "nbformat_minor": 2
}
