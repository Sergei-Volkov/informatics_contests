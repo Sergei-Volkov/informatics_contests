{
 "cells": [
  {
   "cell_type": "markdown",
   "metadata": {},
   "source": [
    "## Написать программу, осуществляющую сортировку выбором введённых целых чисел по возрастанию. Внимание! Сначала необходимо считать все введённые числа в один список"
   ]
  },
  {
   "cell_type": "code",
   "execution_count": 13,
   "metadata": {},
   "outputs": [
    {
     "name": "stdout",
     "output_type": "stream",
     "text": [
      "-722 -810 -921\n",
      "-921 -810 -722\n"
     ]
    }
   ],
   "source": [
    "numbers = list( map(int, input().split()) ) ## getting list of numbers\n",
    "\n",
    "\n",
    "\n",
    "for i, num in enumerate(numbers):\n",
    "    minimum = min( range( i, len(numbers) ), key=numbers.__getitem__ ) ## getting min of values from i to len(numbers)\n",
    "    numbers[i], numbers[minimum] = numbers[minimum], num ## swapping min with i-th element \n",
    "    if numbers[i] != numbers[minimum]:\n",
    "        print(*numbers) ## printing each step unless swapping is presented"
   ]
  },
  {
   "cell_type": "markdown",
   "metadata": {},
   "source": [
    "## Написать программу, осуществляющую сортировку вставкой введённых целых чисел по возрастанию. Внимание! Сначала необходимо считать все введённые числа в один список"
   ]
  },
  {
   "cell_type": "code",
   "execution_count": 9,
   "metadata": {},
   "outputs": [
    {
     "name": "stdout",
     "output_type": "stream",
     "text": [
      "3 2 1\n",
      "2 3 1\n",
      "2 1 3\n",
      "1 2 3\n"
     ]
    }
   ],
   "source": [
    "numbers = list( map(int, input().split()) ) ## getting list of numbers\n",
    "\n",
    "\n",
    "\n",
    "for i in range( 1, len(numbers) ):\n",
    "    j = i - 1 ## «cutting» part of list before i-th element\n",
    "    key = numbers[i] ## these elements are compared with the i-th element\n",
    "    while numbers[j] > key and j >= 0: ## comparison: if element is greater than\n",
    "        numbers[j + 1], numbers[j] = numbers[j], numbers[j+1] ## the one on the right, swap them\n",
    "        j -= 1\n",
    "        print(*numbers) ## printing sequence of actions\n",
    "    numbers[j + 1] = key ## next comparision is the greatest element"
   ]
  },
  {
   "cell_type": "markdown",
   "metadata": {},
   "source": [
    "## Сортировка дурака. Простейшая сортировка, которая каждый раз, когда находит нарушение порядка, исправляет его, и снова начинает поиск с самого начала массива. Внимание! Сначала необходимо считать все введенные числа в один список."
   ]
  },
  {
   "cell_type": "code",
   "execution_count": 12,
   "metadata": {},
   "outputs": [
    {
     "name": "stdout",
     "output_type": "stream",
     "text": [
      "1 -1 4 3\n",
      "-1 1 4 3\n",
      "-1 1 3 4\n"
     ]
    }
   ],
   "source": [
    "numbers = list( map(int, input().split()) ) ## getting list of numbers\n",
    "\n",
    "\n",
    "\n",
    "i = 1 ## number of (not changing neighbors)\n",
    "while i < len(numbers): ## if i = len(numbers), than it means that array is not changing\n",
    "    if numbers[i-1] > numbers[i]: ## comparison of neigbors\n",
    "        numbers[i-1], numbers[i] = numbers[i], numbers[i-1] ## if right one is less than left one\n",
    "        i = 1                     ## than change them and go further\n",
    "        print(*numbers)\n",
    "    else:\n",
    "        i += 1 ## counting number of (not changing)"
   ]
  },
  {
   "cell_type": "markdown",
   "metadata": {},
   "source": [
    "## Написать программу, осуществляющую сортировку пузырьком введённых целых чисел по возрастанию. Внимание! Сначала необходимо считать все введённые числа в один список"
   ]
  },
  {
   "cell_type": "code",
   "execution_count": 17,
   "metadata": {},
   "outputs": [
    {
     "name": "stdout",
     "output_type": "stream",
     "text": [
      "1 2\n"
     ]
    }
   ],
   "source": [
    "numbers = list( map(int, input().split()) ) ## getting list of numbers\n",
    "\n",
    "\n",
    "\n",
    "for i in range(len(numbers) - 1): ## iteration for elements of array\n",
    "    for j in range(1, len(numbers) - i): ## comparison of elements which are before the i-th one\n",
    "        if numbers[j - 1] > numbers[j]: ## if previous element is bigger than the next one,\n",
    "            numbers[j - 1], numbers[j] = numbers[j], numbers[j - 1] ## than swap them\n",
    "            print(*numbers) ## print array if changes have occured"
   ]
  },
  {
   "cell_type": "markdown",
   "metadata": {},
   "source": [
    "## В этой задаче необходимо реализовать сортировку подсчётом для массива десятичных цифр."
   ]
  },
  {
   "cell_type": "code",
   "execution_count": 2,
   "metadata": {},
   "outputs": [
    {
     "name": "stdout",
     "output_type": "stream",
     "text": [
      "0 1 2 3 4 5 6 7 8 9\n",
      "1 0 0 0 0 0 0 0 0 0\n",
      "1 1 0 0 0 0 0 0 0 0\n",
      "1 1 1 0 0 0 0 0 0 0\n",
      "1 1 1 1 0 0 0 0 0 0\n",
      "1 1 1 1 1 0 0 0 0 0\n",
      "1 1 1 1 1 1 0 0 0 0\n",
      "1 1 1 1 1 1 1 0 0 0\n",
      "1 1 1 1 1 1 1 1 0 0\n",
      "1 1 1 1 1 1 1 1 1 0\n",
      "1 1 1 1 1 1 1 1 1 1\n",
      "0 1 2 3 4 5 6 7 8 9\n"
     ]
    }
   ],
   "source": [
    "numbers = list( map(int, input().split()) ) ## getting list of numbers\n",
    "\n",
    "keys = [0, 1, 2, 3, 4, 5, 6, 7, 8, 9] ## list of digits\n",
    "counter = [0] * 10 ## list of frequencies of digits in numbers\n",
    "\n",
    "\n",
    "\n",
    "for num in numbers: ## fulling list of frequencies\n",
    "    if num in keys:\n",
    "        counter[num] += 1\n",
    "        print(*counter)\n",
    "\n",
    "count = 0\n",
    "for i in range(len(keys)): ## renewing numbers list\n",
    "    if counter[i] > 0:\n",
    "        for j in range(counter[i]):\n",
    "            numbers[j + count] = keys[i]\n",
    "        count += counter[i] ## count - shift of renewing\n",
    "\n",
    "print(*numbers)"
   ]
  },
  {
   "cell_type": "markdown",
   "metadata": {},
   "source": [
    "## Написать программу, осуществляющую поразрядную сортировку введённых целых чисел в двоичной системе счисления по возрастанию. Внимание! Сначала необходимо считать все введённые числа в один список"
   ]
  },
  {
   "cell_type": "code",
   "execution_count": 18,
   "metadata": {},
   "outputs": [
    {
     "name": "stdout",
     "output_type": "stream",
     "text": [
      "11 10 1\n",
      "10 11 1\n",
      "1 10 11\n"
     ]
    }
   ],
   "source": [
    "numbers = list( map(int, input().split()) ) ## getting list of numbers\n",
    "\n",
    "bucket = [ [] for i in range(10) ] ## 10 buckets for each digit\n",
    "\n",
    "max_pow = len( str( max(numbers) )) ## max power of 10 of numbers\n",
    "\n",
    "\n",
    "\n",
    "for k in range(max_pow): ## sorting numbers by k-th digit\n",
    "    for i in range(len(numbers)):\n",
    "        numbers[i] = '0' * (max_pow - len(str(numbers[i]))) + str(numbers[i])\n",
    "        for j in range(10):\n",
    "            if int(numbers[i][::-1][k]) == j:\n",
    "                bucket[j].append(numbers[i])\n",
    "    \n",
    "    count = 0 ## generating new array using filled buckets\n",
    "    for m in range(10):\n",
    "        if bucket[m]:\n",
    "            for j, num in enumerate(bucket[m]):\n",
    "                numbers[j + count] = int(num)\n",
    "            count += len(bucket[m])\n",
    "            \n",
    "    bucket = [ [] for i in range(10) ] ## deleting info from buckets\n",
    "    \n",
    "    print(*numbers) ## printing list of numbers after each step"
   ]
  },
  {
   "cell_type": "markdown",
   "metadata": {},
   "source": [
    "## Отсортировать массив по сумме цифр входного массива."
   ]
  },
  {
   "cell_type": "code",
   "execution_count": 36,
   "metadata": {},
   "outputs": [
    {
     "name": "stdout",
     "output_type": "stream",
     "text": [
      "2\n",
      "9\n",
      "12\n",
      "12\n",
      "9\n"
     ]
    }
   ],
   "source": [
    "def sum_of_digits(number):\n",
    "    '''\n",
    "        Function, which calculates sum of digits of number\n",
    "        \n",
    "        Input:\n",
    "        \n",
    "        number - int\n",
    "        \n",
    "        Output:\n",
    "        \n",
    "        summ - sum of digits of number, int\n",
    "    '''\n",
    "    summ = 0\n",
    "    for digit in str(number):\n",
    "        summ += int(digit)\n",
    "        \n",
    "    return summ\n",
    "\n",
    "\n",
    "\n",
    "amount = int(input()) ## amount of numbers\n",
    "\n",
    "numbers = [] ## creating list of [number, digits sum]\n",
    "\n",
    "for i in range(amount):\n",
    "    number = int(input())\n",
    "    numbers.append( [number, sum_of_digits(number)] )\n",
    "\n",
    "\n",
    "    \n",
    "## Bubble sort\n",
    "for i in range(len(numbers) - 1): ## iteration for elements of array\n",
    "    for j in range(1, len(numbers) - i): ## comparison of elements which are before the i-th one\n",
    "        if numbers[j - 1][1] > numbers[j][1]: ## if previous element is bigger than the next one,\n",
    "            numbers[j - 1], numbers[j] = numbers[j], numbers[j - 1] ## than swap them\n",
    "        if numbers[j - 1][1] == numbers[j][1]: ## if \n",
    "            numbers[j], numbers[j - 1] = max([numbers[j - 1], numbers[j]], key=lambda k: [k[1], k[0]]), min([numbers[j - 1], numbers[j]], key=lambda k: [k[1], k[0]])\n",
    "            \n",
    "\n",
    "for i in range(len(numbers)): ## printing sorted list (each element in each line)\n",
    "    print(numbers[i][0])"
   ]
  },
  {
   "cell_type": "markdown",
   "metadata": {},
   "source": [
    "## На вход подается массив из чисел. Вам необходимо отсортировать его так, чтобы нечетные по значению элементы остались на своих местах, а четные по значению элементы шли по возрастанию."
   ]
  },
  {
   "cell_type": "code",
   "execution_count": 50,
   "metadata": {},
   "outputs": [
    {
     "name": "stdout",
     "output_type": "stream",
     "text": [
      "4\n",
      "-5\n",
      "-10\n",
      "-14\n",
      "-2\n",
      "-5 -14 -10 -2\n"
     ]
    }
   ],
   "source": [
    "def is_divisible_by_two(number):\n",
    "    '''\n",
    "        Function that checks if number divisible by two or not\n",
    "        \n",
    "        Input:\n",
    "        \n",
    "        number - int\n",
    "        \n",
    "        Output:\n",
    "        \n",
    "        1, if number is divisible by 2\n",
    "        0, else\n",
    "    '''\n",
    "    if number % 2 == 0:\n",
    "        return 1\n",
    "    else:\n",
    "        return 0\n",
    "    \n",
    "\n",
    "\n",
    "amount = int(input()) ## amount of numbers\n",
    "\n",
    "numbers = [] ## creating list of [number, digits sum]\n",
    "\n",
    "for i in range(amount):\n",
    "    number = int(input())\n",
    "    numbers.append( [number, is_divisible_by_two(number)] )\n",
    "\n",
    "    \n",
    "\n",
    "div_by_2 = [] ## list of even elements\n",
    "\n",
    "for index, num in enumerate(numbers): \n",
    "    if num[1] == 1:\n",
    "        div_by_2.append( [num[0], index] )\n",
    "\n",
    "\n",
    "        \n",
    "## Bubble sort for list of even elements\n",
    "for i in range(len(div_by_2) - 1): ## iteration for elements of array\n",
    "    for j in range(1, len(div_by_2) - i): ## comparison of elements which are before the i-th one\n",
    "        if div_by_2[j - 1][0] > div_by_2[j][0]: ## if previous element is bigger than the next one,\n",
    "            div_by_2[j - 1][0], div_by_2[j][0] = div_by_2[j][0], div_by_2[j - 1][0] ## than swap them\n",
    "            \n",
    "            \n",
    "            \n",
    "for num in div_by_2: ## inserting even elements\n",
    "    numbers[ num[1] ] = num[0] \n",
    "\n",
    "    \n",
    "    \n",
    "for i in range(len(numbers)): ## [odd_num, 0] -> odd_num\n",
    "    if type(numbers[i]) != int:\n",
    "        numbers[i] = numbers[i][0]\n",
    "\n",
    "    \n",
    "    \n",
    "print(*numbers) ## printing list of numbers after each step"
   ]
  },
  {
   "cell_type": "markdown",
   "metadata": {},
   "source": [
    "## Необходимо отсортировать набор дат в хронологическом порядке во возрастанию.\n",
    "\n",
    "Дата состоит из дня, месяца, года и времени с точностью до минут.\n",
    "\n",
    "Названия месяцев английские, с заглавной буквы.\n",
    "\n",
    "Диапазон времени 00:00 - 23:59."
   ]
  },
  {
   "cell_type": "code",
   "execution_count": 1,
   "metadata": {},
   "outputs": [
    {
     "name": "stdout",
     "output_type": "stream",
     "text": [
      "3\n",
      "20 December 2019 16:00\n",
      "20 January 2015 16:00\n",
      "20 November 2019 16:00\n",
      "20 January 2015 16:00\n",
      "20 November 2019 16:00\n",
      "20 December 2019 16:00\n"
     ]
    }
   ],
   "source": [
    "def find_name(dictionary, value):\n",
    "    '''\n",
    "        Function to get key from the dictionary by value\n",
    "        \n",
    "        Input:\n",
    "        \n",
    "        dictionary - dict\n",
    "        value - any type of value in this dict\n",
    "        \n",
    "        Output:\n",
    "        \n",
    "        name - finded key\n",
    "    '''\n",
    "    for name, val in dictionary.items():\n",
    "        if val == value:\n",
    "            return name\n",
    "\n",
    "\n",
    "\n",
    "amount = int(input()) ## amount of dates\n",
    "\n",
    "\n",
    "\n",
    "dates = [] ## creating list of dates in format [date, month, year, hours:mins]\n",
    "\n",
    "\n",
    "\n",
    "for i in range(amount):\n",
    "    dates.append([string for string in input().split()])\n",
    "    dates[i].append(0)\n",
    "    dates[i].append(0)\n",
    "    \n",
    "    \n",
    "\n",
    "## months dictionary\n",
    "months = {'January' : 1, 'February' : 2, 'March' : 3,\n",
    "          'April' : 4, 'May' : 5, 'June' : 6, 'July' : 7,\n",
    "          'August' : 8, 'September' : 9, 'October' : 10,\n",
    "          'November' : 11, 'December' : 12}\n",
    "\n",
    "\n",
    "\n",
    "for date in dates: ## transforming data to format [time in min, date - 2010, month (num), year, saved time in format hh:mm]\n",
    "    for i in [0, 2]:\n",
    "        date[i] = int(date[i])\n",
    "    date[2] -= 2010\n",
    "    date[1] = months[ date[1] ]\n",
    "    time = date[3].split(\":\")\n",
    "    date[3] = int(time[0]) * 60 + int(time[1])\n",
    "    date[4] = time[0]\n",
    "    date[5] = time[1]\n",
    "    \n",
    "    date[0], date[2] = date[2], date[0]\n",
    "    date[0], date[1], date[2], date[3] = date[3], date[2], date[1], date[0]\n",
    "    \n",
    "\n",
    "    \n",
    "## Radix sort\n",
    "length_bucket = [1501, 32, 13, 11] ## amount of buckets for each element of dates\n",
    "\n",
    "for k in range(4): ## sorting dates by k-th element\n",
    "    bucket = [ [] for i in range(length_bucket[k]) ]\n",
    "    for date in dates:\n",
    "        for j in range(length_bucket[k]):\n",
    "            if date[k] == j:\n",
    "                bucket[j].append(date)\n",
    "    \n",
    "    count = 0 ## generating new array using filled buckets\n",
    "    for m in range(length_bucket[k]):\n",
    "        if bucket[m]:\n",
    "            for j, date in enumerate(bucket[m]):\n",
    "                dates[j + count] = date\n",
    "            count += len(bucket[m])\n",
    "\n",
    "             \n",
    "                \n",
    "for date in dates: ## transforming data again to first format\n",
    "    date[0], date[1], date[2], date[3] = date[3], date[2], date[1], date[0]\n",
    "    date[0], date[2] = str( date[2] ), str( date[0] + 2010 )\n",
    "    date[1] = find_name(months, date[1])\n",
    "    \n",
    "\n",
    "\n",
    "for date in dates: ## printing sorted data\n",
    "    print(date[0] + ' ' + date[1] + ' ' + date[2] + ' ' + date[4] + ':' + date[5])"
   ]
  },
  {
   "cell_type": "code",
   "execution_count": null,
   "metadata": {},
   "outputs": [],
   "source": []
  }
 ],
 "metadata": {
  "kernelspec": {
   "display_name": "Python 3",
   "language": "python",
   "name": "python3"
  },
  "language_info": {
   "codemirror_mode": {
    "name": "ipython",
    "version": 3
   },
   "file_extension": ".py",
   "mimetype": "text/x-python",
   "name": "python",
   "nbconvert_exporter": "python",
   "pygments_lexer": "ipython3",
   "version": "3.7.5"
  }
 },
 "nbformat": 4,
 "nbformat_minor": 2
}
